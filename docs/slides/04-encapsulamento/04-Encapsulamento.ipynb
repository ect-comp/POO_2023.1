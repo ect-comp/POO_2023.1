{
 "cells": [
  {
   "cell_type": "markdown",
   "metadata": {},
   "source": [
    "# Aula 4 - Encapsulamento\n",
    "\n",
    "Neste documento será discutido como se trabalha com encapsulamento em Python.\n",
    "\n",
    "## 1. Motivação para encapsulamento\n",
    "\n",
    "Considere o exemplo da classe `Estacionamento`, apresentada na aula.\n",
    "Podemos definir a classe ```Estacionamento``` como a seguir."
   ]
  },
  {
   "cell_type": "code",
   "execution_count": 1,
   "metadata": {},
   "outputs": [],
   "source": [
    "class Estacionamento:\n",
    "    '''Estacionamento controlando o número de vagas'''\n",
    "    \n",
    "    def __init__(self, capacidade):\n",
    "        '''Inicializa a capacidade e o número de vagas = capacidade'''\n",
    "        self.capacidade = capacidade # este valor não muda\n",
    "        self.vagas = capacidade # número de vagas livres\n",
    "        \n",
    "    def entrada(self):\n",
    "        '''Registra entrada de um carro'''\n",
    "        if self.vagas > 0: # verifica espaço disponível\n",
    "            self.vagas -= 1 # uma vaga a menos\n",
    "            print(\"Um carro entrou.\")\n",
    "        else:\n",
    "            print(\"Estacionamento sem vagas... o carro não pode entrar\")\n",
    "            \n",
    "    def saida(self):\n",
    "        '''Registra saída de um carro'''\n",
    "        if self.vagas < self.capacidade: # devemos ter pelo menos um carro dentro\n",
    "            self.vagas += 1 # incrementa o número de vagas\n",
    "            print(\"Um carro saiu\")\n",
    "        else:\n",
    "            print(\"Estacionamento vazio... sem carros para sair\")\n",
    "            \n",
    "    def comVagas(self):\n",
    "        '''Determina se existem vagas disponíveis '''\n",
    "        return self.vagas > 0\n",
    "    \n",
    "    def lotado(self):\n",
    "        '''Testa se o estacionamento está lotado'''\n",
    "        return self.vagas == 0\n",
    "    \n",
    "    def vazio(self):\n",
    "        '''Determina se o estacionamento está vazio'''\n",
    "        return self.vagas == self.capacidade\n",
    "            \n",
    "    def __str__(self):\n",
    "        '''Converte um Estacionamento em String'''\n",
    "        return '{} / {} vagas disponíveis.'.format(self.vagas, self.capacidade)"
   ]
  },
  {
   "cell_type": "code",
   "execution_count": 2,
   "metadata": {},
   "outputs": [
    {
     "name": "stdout",
     "output_type": "stream",
     "text": [
      "50 / 50 vagas disponíveis.\n"
     ]
    }
   ],
   "source": [
    "est = Estacionamento(50) # cria estacionamento com 50 vagas\n",
    "print(est)"
   ]
  },
  {
   "cell_type": "code",
   "execution_count": 4,
   "metadata": {},
   "outputs": [
    {
     "name": "stdout",
     "output_type": "stream",
     "text": [
      "True\n",
      "Estacionamento vazio... sem carros para sair\n",
      "Um carro entrou.\n",
      "Um carro entrou.\n",
      "Um carro entrou.\n",
      "Um carro entrou.\n",
      "Um carro entrou.\n",
      "0 / 5 vagas disponíveis.\n",
      "Um carro saiu\n",
      "1 / 5 vagas disponíveis.\n"
     ]
    }
   ],
   "source": [
    "est = Estacionamento(5)\n",
    "print(est.vazio())\n",
    "est.saida()  \n",
    "est.entrada()\n",
    "est.entrada()\n",
    "est.entrada()\n",
    "est.entrada()\n",
    "est.entrada()\n",
    "print(est)\n",
    "est.saida()\n",
    "print(est)"
   ]
  },
  {
   "cell_type": "markdown",
   "metadata": {},
   "source": [
    "Entretanto, observe que nada impede que o usuário da classe `Estacionamento` (programador que está utilizando a classe, não usuário do sistema final) acesse os atributos diretamente, sem utilizar os métodos implementados para manipular objetos da classe.\n",
    "\n",
    "Veja o código a seguir."
   ]
  },
  {
   "cell_type": "code",
   "execution_count": 4,
   "metadata": {},
   "outputs": [
    {
     "name": "stdout",
     "output_type": "stream",
     "text": [
      "101 / 5 vagas disponíveis.\n"
     ]
    }
   ],
   "source": [
    "# isto não deveria ser possível:\n",
    "# acessar diretamente o atributo vagas pode levar a um estado inconsistente do sistema! \n",
    "# por exemplo, não teríamos como garantir que vagas <= capacidade. \n",
    "est.vagas += 100\n",
    "print(est)"
   ]
  },
  {
   "cell_type": "markdown",
   "metadata": {},
   "source": [
    "### 1.1 Atributos e Métodos Privados em Python"
   ]
  },
  {
   "cell_type": "markdown",
   "metadata": {},
   "source": [
    "Os modificadores de acesso em Python funcionam assim:\n",
    "- **Público**: Todo membro/método é público por padrão\n",
    "- **Privado**:  O membro/método se torna privado ao ser declarado com dois underscores ```\"_\"``` (**dunders**) na frente do seu nome.\n",
    " \n",
    "Considere uma segunda versão da classe `Estacionamento` que declara como privados os dois atributos (capacidade e vagas), mostrada a seguir."
   ]
  },
  {
   "cell_type": "code",
   "execution_count": 8,
   "metadata": {},
   "outputs": [],
   "source": [
    "class Estacionamento:\n",
    "    '''Estacionamento controlando o número de vagas'''\n",
    "    \n",
    "    def __init__(self, capacidade):\n",
    "        '''Inicializa a capacidade e o número de vagas = capacidade'''\n",
    "        \n",
    "        # note o uso de __ no identificador do atributo\n",
    "        self.__capacidade = capacidade\n",
    "        self.__vagas = capacidade\n",
    "        \n",
    "    def entrada(self):\n",
    "        '''Registra entrada de um carro'''\n",
    "        if self.__vagas > 0:\n",
    "            self.__vagas -= 1\n",
    "            print(\"Um carro entrou.\")\n",
    "        else:\n",
    "            print(\"Estacionamento sem vagas\")\n",
    "            \n",
    "    def saida(self):\n",
    "        '''Registra saída de um carro'''\n",
    "        if self.__vagas < self.__capacidade:\n",
    "            self.__vagas += 1\n",
    "            print(\"Um carro saiu\")\n",
    "        else:\n",
    "            print(\"Estacionamento vacío\")\n",
    "            \n",
    "    def comVagas(self):\n",
    "        '''Determina se existem vagas disponíveis '''\n",
    "        return self.__vagas > 0\n",
    "    \n",
    "    def lotado(self):\n",
    "        '''Testa se o estacionamento está lotado'''\n",
    "        return self.__vagas == 0\n",
    "    \n",
    "    def vazio(self):\n",
    "        '''Determina se o estacionamento está vazio'''\n",
    "        return self.__vagas == self.__capacidade\n",
    "    \n",
    "    def __str__(self):\n",
    "        '''Converte um Estacionamento em String'''\n",
    "        return '{} / {} vagas disponíveis.'.format(self.__vagas, self.__capacidade)\n",
    "    \n",
    "    "
   ]
  },
  {
   "cell_type": "markdown",
   "metadata": {},
   "source": [
    "Agora os usuários da classe não podem acessar diretamente os atributos \"privados\" da classe."
   ]
  },
  {
   "cell_type": "code",
   "execution_count": 10,
   "metadata": {},
   "outputs": [
    {
     "name": "stdout",
     "output_type": "stream",
     "text": [
      "50 / 50 vagas disponíveis.\n",
      "True\n",
      "Um carro entrou.\n",
      "Um carro entrou.\n",
      "48 / 50 vagas disponíveis.\n"
     ]
    }
   ],
   "source": [
    "e = Estacionamento(50)\n",
    "print(e)\n",
    "print(e.vazio())\n",
    "e.entrada()\n",
    "e.entrada()\n",
    "print(e)"
   ]
  },
  {
   "cell_type": "code",
   "execution_count": 11,
   "metadata": {},
   "outputs": [
    {
     "ename": "AttributeError",
     "evalue": "Estacionamento instance has no attribute '__vagas'",
     "output_type": "error",
     "traceback": [
      "\u001b[0;31m---------------------------------------------------------------------------\u001b[0m",
      "\u001b[0;31mAttributeError\u001b[0m                            Traceback (most recent call last)",
      "\u001b[0;32m<ipython-input-11-3376bad4fe6e>\u001b[0m in \u001b[0;36m<module>\u001b[0;34m()\u001b[0m\n\u001b[1;32m      1\u001b[0m \u001b[0;31m#Python detecta o acesso e emite um erro\u001b[0m\u001b[0;34m\u001b[0m\u001b[0;34m\u001b[0m\u001b[0m\n\u001b[0;32m----> 2\u001b[0;31m \u001b[0;32mprint\u001b[0m\u001b[0;34m(\u001b[0m\u001b[0me\u001b[0m\u001b[0;34m.\u001b[0m\u001b[0m__vagas\u001b[0m\u001b[0;34m)\u001b[0m\u001b[0;34m\u001b[0m\u001b[0m\n\u001b[0m",
      "\u001b[0;31mAttributeError\u001b[0m: Estacionamento instance has no attribute '__vagas'"
     ]
    }
   ],
   "source": [
    "# python detecta o acesso e emite um erro\n",
    "print(e.__vagas)"
   ]
  },
  {
   "cell_type": "markdown",
   "metadata": {},
   "source": [
    "### 1.2 Acessando/Chamando Atributos e Métodos Privados em Python Fora da Classe\n",
    "\n",
    "Em Python, sempre é possível acessar os atributos (privados ou não) da classe. Para isto, basta utilizar a sintaxe `<obj>._<nomeDaClasse__nomeDoAtributo>.`"
   ]
  },
  {
   "cell_type": "code",
   "execution_count": 12,
   "metadata": {},
   "outputs": [
    {
     "data": {
      "text/plain": [
       "48"
      ]
     },
     "execution_count": 12,
     "metadata": {},
     "output_type": "execute_result"
    }
   ],
   "source": [
    "# truque Python para acessar atributos \"privados\"\n",
    "e._Estacionamento__vagas"
   ]
  },
  {
   "cell_type": "markdown",
   "metadata": {},
   "source": [
    "Resumidamente:\n",
    "\n",
    "- <span style=\"color:blue\">**Nenhum bom programador Python deve acessar/modificar um atributo privado!**</span>\n",
    "    - Em outras palavras, se o atributo está sinalizado como privado, significa que usuários daquela classe não devem acessá-lo diretamente\n",
    "    - Python segue uma filosofia que diz que **\"programadores são adultos e sabem o que fazem\"**\n",
    "- O encapsulamento permite especificar a **interface pública** da classe\n",
    "    - Interface pública: parte exposta da classe para quem vai utilizá-la (ela possui outras partes não expostas que compõem a sua implementação)\n",
    "    - Esconder a sua implementação $\\equiv$ encapsular\n",
    "    - Na classe Estacionamento, os métodos `entrada` e `saida` devem ser utilizados para alterar o valor de `__vagas`"
   ]
  },
  {
   "cell_type": "markdown",
   "metadata": {},
   "source": [
    "## 2. Getters / Setters\n",
    "\n",
    "Uma vez que os atributos privados de uma classe só podem ser acessados de dentro da classe, torna-se útil utilizar métodos `getters/setters` para acessar/atribuir novos valores a estes atributos através de métodos:\n",
    "\n",
    "- Métodos `getters`: retornam o valor de um atributo\n",
    "- Métodos `setters`: atribuem um novo valor para um atributo\n",
    "\n",
    "Observe a seguir um exemplo de uso de getters/setters."
   ]
  },
  {
   "cell_type": "code",
   "execution_count": 13,
   "metadata": {},
   "outputs": [],
   "source": [
    "class ContaBancaria:\n",
    "    '''\n",
    "    Uma conta bancária com saldo e titular.\n",
    "    Set/get definidos para o titular\n",
    "    Get definido para o saldo\n",
    "    '''\n",
    "    \n",
    "    def __init__(self, titular):\n",
    "        '''Saldo e titular (os dois privados)'''\n",
    "        self.__titular = titular\n",
    "        self.__saldo = 0\n",
    "        \n",
    "    def __str__(self):\n",
    "        return '{0}: ${1}.'.format(self.__titular , self.__saldo)\n",
    "    \n",
    "    def getSaldo(self):\n",
    "        '''retorna o saldo'''\n",
    "        return self.__saldo\n",
    "    \n",
    "    def getTitular(self):\n",
    "        '''retorna o titular'''\n",
    "        return self.__titular\n",
    "    \n",
    "    def setTitular(self, novo_titular):\n",
    "        '''Muda o titular da conta'''\n",
    "        if type(novo_titular) != str:\n",
    "            print('Erro: titular deve ser string.')\n",
    "        else:\n",
    "            self.__titular = novo_titular\n",
    "        \n",
    "    def deposito(self, valor):\n",
    "        '''Realiza deposito de um valor'''\n",
    "        self.__saldo += valor"
   ]
  },
  {
   "cell_type": "markdown",
   "metadata": {},
   "source": [
    "Podemos utilizar os métodos ```set``` e ```get``` da classe para acessar, de maneira controlada, os atributos da classe"
   ]
  },
  {
   "cell_type": "code",
   "execution_count": 14,
   "metadata": {},
   "outputs": [
    {
     "name": "stdout",
     "output_type": "stream",
     "text": [
      "pedro: $1000.\n",
      "1000\n",
      "joão: $1000.\n",
      "joão\n"
     ]
    }
   ],
   "source": [
    "c = ContaBancaria(\"pedro\")\n",
    "c.deposito(1000)\n",
    "print(c)\n",
    "print(c.getSaldo())\n",
    "c.setTitular(\"joão\")\n",
    "print(c)\n",
    "print(c.getTitular())"
   ]
  },
  {
   "cell_type": "markdown",
   "metadata": {},
   "source": [
    "Setters/Getters em Python:\n",
    "- Os métodos ```set``` podem ser muito úteis para validar os novos valores dos atributos. Por exemplo, no `setTitular` acima, o parâmetro a ser atribuído como titular deve ser obrigatoriamente do tipo string. \n",
    "- Esta convenção de getters/setters é fortemente utilizada em Java\n",
    "- Em Python, ela deve ser utilizada apenas quando necessária. Motivos:\n",
    "    - Mais código, por exemplo, ```print(c.x)``` vs ```print(c.getX())```  (lembre... o Zen de Python... *Beautiful is better than ugly*).\n",
    "    - É possível burlar o acesso privado à classe, tornando estes métodos inúteis\n",
    "\n",
    "## 3. Properties: A forma \"pythônica\" para getters e setters \n",
    "\n",
    "Existe uma forma mais elegante, eficiente e automática de se utilizar getters/setters em Python: uso da função ```property```.\n",
    "\n",
    "Observe a nova versão da classe `ContaBancaria` a seguir."
   ]
  },
  {
   "cell_type": "code",
   "execution_count": 15,
   "metadata": {},
   "outputs": [],
   "source": [
    "class ContaBancaria:\n",
    "    \n",
    "    def __init__(self, titular):\n",
    "        self.__titular = titular\n",
    "        self.__saldo = 0\n",
    "        \n",
    "    def __str__(self):\n",
    "        return '{0}: ${1}.'.format(self.__titular , self.__saldo)\n",
    "    \n",
    "    def getSaldo(self):\n",
    "        '''retorna o saldo'''\n",
    "        print('Método getSaldo ')\n",
    "        return self.__saldo\n",
    "    \n",
    "    def getTitular(self):\n",
    "        '''retorna o titular'''\n",
    "        print('Método getTitular')\n",
    "        return self.__titular\n",
    "    \n",
    "    def setTitular(self, novo_titular):\n",
    "        '''muda o titular da conta'''\n",
    "        print('Método setTitular')\n",
    "        self.__titular = novo_titular\n",
    "        \n",
    "    def deposita(self, valor):\n",
    "        '''Deposita valor'''\n",
    "        self.__saldo += valor\n",
    "    \n",
    "    # ainda dentro do escopo da classe\n",
    "    titular = property(getTitular, setTitular)\n",
    "    saldo = property(getSaldo)"
   ]
  },
  {
   "cell_type": "code",
   "execution_count": 16,
   "metadata": {
    "scrolled": true
   },
   "outputs": [
    {
     "name": "stdout",
     "output_type": "stream",
     "text": [
      "Método getSaldo \n",
      "2000\n",
      "Método getTitular\n",
      "carlos\n",
      "carlos: $2000.\n"
     ]
    }
   ],
   "source": [
    "c1 = ContaBancaria(\"joao\")\n",
    "c1.deposita(2000)\n",
    "print(c1.saldo) # saldo é um método \"disfarçado\" (acesso a um atributo que realiza uma chamada a um método)\n",
    "print(c1.titular)\n",
    "c1.titular = \"jose\"\n",
    "#c1.saldo = 4  Erro!\n",
    "print(c1)"
   ]
  },
  {
   "cell_type": "markdown",
   "metadata": {},
   "source": [
    "### 3.1 Decoradores em Python\n",
    "\n",
    "A forma mais \"pythônica\" de se trabalhar com getters/setters é utilizando\n",
    "**decoradores**.\n",
    "\n",
    "Decoradores em Python são construções da linguagem utilizando o símbolo `@`\n",
    "antes de alguma função/método. Estes decoradores fazem a função/método\n",
    "em que eles estão sendo usados ganharem um comportamento especial.\n",
    "\n",
    "Observe o código a seguir."
   ]
  },
  {
   "cell_type": "code",
   "execution_count": 17,
   "metadata": {},
   "outputs": [],
   "source": [
    "class ContaBancaria:\n",
    "    \n",
    "    def __init__(self, titular):\n",
    "        self.__titular = titular\n",
    "        self.__saldo = 0\n",
    "        \n",
    "    def __str__(self):\n",
    "        return '{0}: ${1}.'.format(self.__titular , self.__saldo)\n",
    "    \n",
    "    @property\n",
    "    def saldo(self):\n",
    "        '''retorna o saldo'''\n",
    "        print('Método getSaldo ')\n",
    "        return self.__saldo\n",
    "\n",
    "    @property\n",
    "    def titular(self):\n",
    "        '''retorna o titular'''\n",
    "        print('Método getTitular')\n",
    "        return self.__titular\n",
    "    \n",
    "    # IMPORTANTE: Python não aceita duas funções/métodos com o mesmo nome, mesmo que possua parâmetros\n",
    "    # diferentes. Ao fazer isto, o código não será considerado inválido. Ao invés disto, a última\n",
    "    # implementação do método é que vale.\n",
    "    \n",
    "    # Portanto, um setter é na verdade uma redefinição de um método anterior\n",
    "    @titular.setter\n",
    "    def titular(self, novo_titular):\n",
    "        '''Muda o titular da conta'''\n",
    "        print('Método setTitular')\n",
    "        self.__titular = novo_titular\n",
    "        \n",
    "    def depositar(self, valor):\n",
    "        '''Depositar valor'''\n",
    "        self.__saldo += valor"
   ]
  },
  {
   "cell_type": "code",
   "execution_count": null,
   "metadata": {},
   "outputs": [],
   "source": [
    "c1 = ContaBancaria(\"joao\")\n",
    "c1.depositar(2000)\n",
    "print(c1.saldo) # chama o getter de saldo\n",
    "print(c1.titular) # chama o getter de titular\n",
    "c1.titular = \"jose\" # chama o setter de titular\n",
    "#c1.saldo = 4 # erro! saldo não tem setter\n",
    "print(c1)"
   ]
  },
  {
   "cell_type": "markdown",
   "metadata": {},
   "source": [
    "Note que:\n",
    "- O atributo privado titular possui um setter e getter.\n",
    "- O atributo saldo só possui um getter (retornando o saldo atual)\n",
    "- `@property` define o getter\n",
    "- `@<atributo>.setter` define o setter (como no exemplo `@titular.setter`)"
   ]
  },
  {
   "cell_type": "markdown",
   "metadata": {},
   "source": [
    "## Exercício para fixação: Máquina de Café\n",
    "\n",
    "Uma máquina de café aceita moedas de 5 e 10 centavos. Um café custa X reais. Implemente uma classe que simule a operação da máquina de café. A classe deve oferecer métodos para saber se o café está disponível e se houver troco. Por exemplo, se X=50 centavos, a máquina funcionaria como a seguir: \n",
    "\n",
    "```\n",
    "10 c. (faltam 40 c)\n",
    "10 c. (faltam 30 c)\n",
    "5 c. (faltam 25 c)\n",
    "10 c. (faltam 15 c)\n",
    "5 c. (faltam 10 c)\n",
    "5 c. (faltam 5 c)\n",
    "10 c. Troco: 5 c. \n",
    "Café disponível!!\n",
    "```\n",
    "\n",
    "Antes de escrever código, reflita:\n",
    "- Quais são os atributos para determinar o estado da máquina?\n",
    "- Quais desses atributos deveriam ser privados e quais públicos?\n",
    "- Dos atributos privados, em quais você implementaria getters? Em quais setters?\n",
    "- Quais são os métodos que a máquina deveria oferecer em sua interface pública?"
   ]
  }
 ],
 "metadata": {
  "kernelspec": {
   "display_name": "Python 3 (ipykernel)",
   "language": "python",
   "name": "python3"
  },
  "language_info": {
   "codemirror_mode": {
    "name": "ipython",
    "version": 3
   },
   "file_extension": ".py",
   "mimetype": "text/x-python",
   "name": "python",
   "nbconvert_exporter": "python",
   "pygments_lexer": "ipython3",
   "version": "3.9.7"
  }
 },
 "nbformat": 4,
 "nbformat_minor": 4
}
