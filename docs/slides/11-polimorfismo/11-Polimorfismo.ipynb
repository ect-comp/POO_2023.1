{
 "cells": [
  {
   "cell_type": "markdown",
   "metadata": {},
   "source": [
    "# Aula 11 - Polimorfismo\n",
    "\n",
    "Este documento mostra como Python utiliza polimorfismo. Observe que isto é feito muitas vezes de forma implícita ao programador através do princípio conhecido como **Duck Typing**.\n",
    "\n",
    "## 1. Exemplo: Pessoa/Aluno/Professor\n",
    "\n",
    "Observe o exemplo a seguir e perceba algumas formas de polimorfismo na prática em Python."
   ]
  },
  {
   "cell_type": "code",
   "execution_count": 18,
   "metadata": {},
   "outputs": [
    {
     "name": "stdout",
     "output_type": "stream",
     "text": [
      "True\n",
      "Pessoa('joao', 25)\n",
      "Aluno('hugo', 20, 111)\n",
      "Professor('santos', 40, 'ECT')\n"
     ]
    }
   ],
   "source": [
    "class Pessoa:\n",
    "    def __init__(self, nome, idade):\n",
    "        self.nome = nome\n",
    "        self.idade = idade\n",
    "\n",
    "    def __repr__(self):\n",
    "        return f'Pessoa{self.nome, self.idade}'\n",
    "\n",
    "    def compara_idades(self, p2):\n",
    "        '''Retorna verdadeiro se self for mais novo que p2.'''\n",
    "        return self.idade <= p2.idade\n",
    "    \n",
    "    def cumprimenta(self, p):\n",
    "        '''Cumprimenta um objeto p do tipo Pessoa'''\n",
    "        print(f'Olá {p.nome}, tudo bem?')\n",
    "\n",
    "class Aluno(Pessoa):\n",
    "    def __init__(self, nome, idade, matricula):\n",
    "        Pessoa.__init__(self, nome, idade)\n",
    "        self.matricula = matricula\n",
    "\n",
    "    def __repr__(self):\n",
    "        return f'Aluno{self.nome, self.idade, self.matricula}'\n",
    "\n",
    "class Professor(Pessoa):\n",
    "    def __init__(self, nome, idade, departamento):\n",
    "        super().__init__(nome, idade)\n",
    "        self.departamento = departamento\n",
    "\n",
    "    def __repr__(self):\n",
    "        return f'Professor{self.nome, self.idade, self.departamento}'\n",
    "    \n",
    "def main():\n",
    "    p = Pessoa('joao', 25)\n",
    "    a = Aluno('hugo', 20, 111)\n",
    "    prof = Professor('santos', 40, 'ECT')\n",
    "\n",
    "    p1 = Pessoa('maria', 28)\n",
    "    print(p1.compara_idades(prof)) # método \"compara_idades\" funciona\n",
    "                                   # com qualquer objeto que tenha\n",
    "                                   # o atributo \"idade\"\n",
    "    \n",
    "    for pess in [p, a, prof]:\n",
    "        print(pess) # executa o __repr__ de cada objeto na lista\n",
    "    \n",
    "if __name__ == \"__main__\":\n",
    "    main()"
   ]
  },
  {
   "cell_type": "markdown",
   "metadata": {},
   "source": [
    "### 1.1 Princípio de substituição de Liskov\n",
    "\n",
    "Os métodos `compara_idades` e `cumprimenta` da classe base `Pessoa` funciona para qualquer classe derivada de `Pessoa`. Neste ponto, é utilizado o _princípio de substituição de Liskov_.\n",
    "\n",
    "### 1.2 Métodos polimórficos\n",
    "\n",
    "O método `__repr__` de cada classe também é chamado de acordo com o objeto que está sendo passado como parâmetro na chamada ao método `print`."
   ]
  },
  {
   "cell_type": "markdown",
   "metadata": {},
   "source": [
    "## 2. Exemplo: Hierarquia de Animais\n",
    "\n",
    "Observe a funçãom `main` a seguir. Qual dos métodos `emite_som` deve ser executado ? "
   ]
  },
  {
   "cell_type": "code",
   "execution_count": 1,
   "metadata": {},
   "outputs": [
    {
     "name": "stdout",
     "output_type": "stream",
     "text": [
      "Mamífero nasceu do ventre\n",
      "Mamífero nasceu do ventre\n",
      "Ornitorrinco nasceu do ovo\n",
      "Ave nasceu do ovo\n",
      "Ave nasceu do ovo\n",
      "Ave voou\n",
      "Pinguim não voa\n",
      "Nome da classe: Gato\n",
      "Miau\n",
      "Animal morreu\n",
      "Nome da classe: Cachorro\n",
      "Au\n",
      "Animal morreu\n",
      "Nome da classe: Ornitorrinco\n",
      "Prprpr\n",
      "Animal morreu\n",
      "Nome da classe: Pinguim\n",
      "Quack\n",
      "Animal morreu\n",
      "Nome da classe: Aguia\n",
      "In\n",
      "Animal morreu\n"
     ]
    }
   ],
   "source": [
    "from abc import ABC, abstractmethod\n",
    "\n",
    "class Animal(ABC):\n",
    "    '''Classe abstrata'''\n",
    "    def __init__(self):\n",
    "        self.nasce()\n",
    "\n",
    "    @abstractmethod\n",
    "    def nasce(self):\n",
    "        pass\n",
    "\n",
    "    def morre(self):\n",
    "        print('Animal morreu')\n",
    "\n",
    "    @abstractmethod\n",
    "    def emite_som(self):\n",
    "        pass\n",
    "\n",
    "class Mamifero(Animal):\n",
    "    '''Abstrata: não implementa o método emite_som'''\n",
    "    \n",
    "    def amamenta(self):\n",
    "        print('Mamífero amamentou')\n",
    "        \n",
    "    def nasce(self):\n",
    "        print('Mamífero nasceu do ventre')\n",
    "\n",
    "class Ave(Animal):\n",
    "    '''Abstrata: não implementa o método emite_som'''\n",
    "    \n",
    "    def voa(self):\n",
    "        print('Ave voou')\n",
    "        \n",
    "    def nasce(self):\n",
    "        print('Ave nasceu do ovo')\n",
    "\n",
    "class Gato(Mamifero):\n",
    "    \n",
    "    def emite_som(self):\n",
    "        print('Miau')\n",
    "\n",
    "class Cachorro(Mamifero):\n",
    "    \n",
    "    def emite_som(self):\n",
    "        print('Au')\n",
    "\n",
    "class Ornitorrinco(Mamifero):\n",
    "    \n",
    "    def emite_som(self):\n",
    "        print('Prprpr')\n",
    "        \n",
    "    def nasce(self):\n",
    "        print('Ornitorrinco nasceu do ovo')\n",
    "\n",
    "class Pinguim(Ave):\n",
    "    \n",
    "    def emite_som(self):\n",
    "        print('Quack')\n",
    "        \n",
    "    def voa(self):\n",
    "        print('Pinguim não voa')\n",
    "\n",
    "class Aguia(Ave):\n",
    "    \n",
    "    def emite_som(self):\n",
    "        print('In')\n",
    "\n",
    "def main():\n",
    "    g = Gato()\n",
    "    c = Cachorro()\n",
    "    o = Ornitorrinco()\n",
    "    p = Pinguim()\n",
    "    a = Aguia()\n",
    "    a.voa()\n",
    "    p.voa()\n",
    "    animais = [g,c,o,p,a]\n",
    "\n",
    "    for a in animais:\n",
    "        print(f'Nome da classe: {a.__class__.__name__}') # Imprime o nome da classe\n",
    "        a.emite_som()\n",
    "        a.morre()\n",
    "        \n",
    "if __name__ == \"__main__\":\n",
    "    main()\n"
   ]
  },
  {
   "cell_type": "markdown",
   "metadata": {},
   "source": [
    "Para responder a esta pergunta, utilize as regras:\n",
    "\n",
    " - A variável `a` (no laço `for`) é acessada e o objeto armazenado é encontrado\n",
    " - A classe de `a` é encontrada\n",
    " - A implementação do método é encontrada e executada\n",
    " - Se a classe de  `a` não tiver uma implementação do método, o método é buscado na sua superclasse\n",
    " \n",
    " Por exemplo:"
   ]
  },
  {
   "cell_type": "code",
   "execution_count": null,
   "metadata": {},
   "outputs": [],
   "source": [
    "aguia = Aguia()\n",
    "ping = Pinguim()\n",
    "ping.voa() # método da classe Pinguim\n",
    "aguia.voa() # método da superclasse (Ave)\n",
    "aguia.morre() # método da classe Animal"
   ]
  },
  {
   "cell_type": "markdown",
   "metadata": {},
   "source": [
    "## 3. *Duck Typing*\n",
    "\n",
    "*Quando eu vejo um pássaro que anda como pato, nada como um pato\n",
    "e grasna como pato, então pra mim este pássaro é um pato*\n",
    "\n",
    "Sendo Python uma linguagem de tipagem dinâmica, um método/função pode ser utilizado por qualquer objeto que implemente certo comportamento (sem ser parte de uma hierarquia de herança).\n",
    "\n",
    "Em outras palavras, a linguagem Python não checa automaticamente o tipo de um parâmetro: desde que aquele parâmetro possua os atributos/métodos usados na implementação do método, o método irá ser executado sem erros de execução.\n",
    "\n",
    "Observe isto no exemplo a seguir, onde as classes A, B e C não possuem relação entre si. Mesmo assim, algumas delas podem ser utilizadas na função `trabalha`, porque implementam o método `fazAlgo`."
   ]
  },
  {
   "cell_type": "code",
   "execution_count": 19,
   "metadata": {
    "scrolled": true
   },
   "outputs": [
    {
     "name": "stdout",
     "output_type": "stream",
     "text": [
      "Trabalhando em A\n",
      "Trabalhando em B\n"
     ]
    }
   ],
   "source": [
    "class A:\n",
    "    def fazAlgo(self):\n",
    "        return 'Trabalhando em A'\n",
    "\n",
    "class B:\n",
    "    def fazAlgo(self):\n",
    "        return 'Trabalhando em B'\n",
    "class C:\n",
    "    pass\n",
    "\n",
    "# Note que as classes não pertencem à mesma hierarquia (não existem relações de herança entre elas)\n",
    "def trabalha(x):\n",
    "    '''x deve ser um objeto que implementa o método fazAlgo'''\n",
    "    print(x.fazAlgo())\n",
    "\n",
    "def main():\n",
    "    a = A()\n",
    "    b = B()\n",
    "    c = C()\n",
    "    trabalha(a)\n",
    "    trabalha(b)\n",
    "    #trabalha(c) #Erro! a classe C não implementa o método fazAlgo \n",
    "    \n",
    "if __name__ == '__main__':\n",
    "    main()   "
   ]
  },
  {
   "cell_type": "markdown",
   "metadata": {},
   "source": [
    "## 4. Funções e Métodos Polimórficos Através de Parâmetros\n",
    "\n",
    "Sabemos que em Python não é possível que existam duas funções métodos/com o mesmo nome.\n",
    "\n",
    "Isto introduz um problema, que é como implementar funções/métodos que devem operar\n",
    "de diferentes formas (devem ser **polimórficos**) de acordo com os parâmetros recebidos.\n",
    "\n",
    "### 4.1 Método Polimórfico de Acordo com Valores de Parâmetros\n",
    "\n",
    "Considere como exemplo que gostaríamos de alterar o método `cumprimenta` da classe `Pessoa`.\n",
    "Especificamente, desejamos realizar a seguinte mudança no método:\n",
    "ele deve poder _opcionalmente_ imprimir `'Bom dia'`, `'Boa tarde'`\n",
    "ou `'Boa noite'`.\n",
    "\n",
    "Podemos fazer isto de acordo com as strings `'d'`, `'t'` ou `'n'` sendo passadas como um\n",
    "parâmetro, como mostrado a seguir."
   ]
  },
  {
   "cell_type": "code",
   "execution_count": 2,
   "metadata": {},
   "outputs": [
    {
     "name": "stdout",
     "output_type": "stream",
     "text": [
      "Bom dia Maria, tudo bem?\n"
     ]
    }
   ],
   "source": [
    "class Pessoa:\n",
    "    def __init__(self, nome, idade):\n",
    "        self.nome = nome\n",
    "        self.idade = idade\n",
    "\n",
    "    def __repr__(self):\n",
    "        return f'Pessoa{self.nome, self.idade}'\n",
    "    \n",
    "    def cumprimenta(self, p, periodo):\n",
    "        '''Cumprimenta um objeto p do tipo Pessoa'''\n",
    "        s = ''\n",
    "        if periodo == 'd':\n",
    "            s = 'Bom dia'\n",
    "        if periodo == 't':\n",
    "            s = 'Boa tarde'\n",
    "        if periodo == 'n':\n",
    "            s = 'Boa noite'\n",
    "        print(f'{s} {p.nome}, tudo bem?')\n",
    "          \n",
    "def main():\n",
    "    p1 = Pessoa('Joao', 25)\n",
    "    p2 = Pessoa('Maria', 21)\n",
    "    p1.cumprimenta(p2, 'd')\n",
    "            \n",
    "if __name__ == '__main__':\n",
    "    main()"
   ]
  },
  {
   "cell_type": "markdown",
   "metadata": {},
   "source": [
    "Entretanto, da forma proposta, informar se a pessoa deve usar `'Bom dia'`, `'Boa tarde'`\n",
    "ou `'Boa noite'` é obrigatório e não opcional.\n",
    "\n",
    "Como Python não permite duas implementações para uma mesma\n",
    "função/método, precisamos de um novo recurso da linguagem.\n",
    "\n",
    "#### Parâmetros com Valores Padrão em Python\n",
    "\n",
    "Um valor padrão pode ser fornecido para um parâmetro de função/método em Python.\n",
    "Isto permite ao programador implementar métodos que se comportem de diferentes formas,\n",
    "de acordo com o valor fornecido para um parâmetro na hora da chamada da função/método.\n",
    "\n",
    "Observe como isto funciona a seguir."
   ]
  },
  {
   "cell_type": "code",
   "execution_count": 12,
   "metadata": {},
   "outputs": [
    {
     "name": "stdout",
     "output_type": "stream",
     "text": [
      "6\n",
      "50\n"
     ]
    }
   ],
   "source": [
    "def multiplica(x, y = 5): # valor padrão 5 é dado para o parâmetro y\n",
    "    '''\n",
    "    Calcula o produto entre 2 números ou\n",
    "    entre o número fornecido e 5.\n",
    "    '''\n",
    "    return x*y\n",
    "\n",
    "def main():\n",
    "    print(multiplica(2,3)) # produto entre 2 e 3\n",
    "    print(multiplica(10)) # produto entre 10 e o valor padrão do 2o. parâmetro, que é 5\n",
    "\n",
    "if __name__ == '__main__':\n",
    "    main()"
   ]
  },
  {
   "cell_type": "markdown",
   "metadata": {},
   "source": [
    "Valores padrão podem ser fornecidos para quaisquer parâmetros de funções/métodos.\n",
    "A única restrição é que os parâmetros com valores padrão devem vir **após** todos os parâmetros\n",
    "sem valores padrão."
   ]
  },
  {
   "cell_type": "code",
   "execution_count": 2,
   "metadata": {},
   "outputs": [
    {
     "name": "stdout",
     "output_type": "stream",
     "text": [
      "24\n",
      "100\n"
     ]
    }
   ],
   "source": [
    "def multiplica(x, y = 5, z = 10):\n",
    "    '''\n",
    "    Calcula o produto entre 3 números ou\n",
    "    entre o número fornecido, 5 e 10.\n",
    "    '''\n",
    "    return x*y*z\n",
    "\n",
    "def main():\n",
    "    print(multiplica(2,3,4)) # produto entre 2, 3 e 4\n",
    "    print(multiplica(2)) # produto entre 2 e os valores padrão dos outros parâmetros, que são 5 e 10\n",
    "\n",
    "if __name__ == '__main__':\n",
    "    main()"
   ]
  },
  {
   "cell_type": "markdown",
   "metadata": {},
   "source": [
    "É possível chamar o método/função fornecendo valores apenas para alguns dos parâmetros que possuem valores padrão, como mostrado a seguir."
   ]
  },
  {
   "cell_type": "code",
   "execution_count": 14,
   "metadata": {},
   "outputs": [
    {
     "name": "stdout",
     "output_type": "stream",
     "text": [
      "50\n",
      "40\n"
     ]
    }
   ],
   "source": [
    "def multiplica(x = 1, y = 5, z = 10): # 3 parâmetros com valores padrão\n",
    "    '''\n",
    "    Calcula o produto entre 3 números ou\n",
    "    entre 1, 5 e 10.\n",
    "    '''\n",
    "    return x*y*z\n",
    "\n",
    "def main():\n",
    "    print(multiplica()) # produto entre 1, 5 e 10\n",
    "    print(multiplica(x = 2, z = 4)) # produto entre 2, 5 e 4\n",
    "\n",
    "if __name__ == '__main__':\n",
    "    main()"
   ]
  },
  {
   "cell_type": "markdown",
   "metadata": {},
   "source": [
    "Voltando ao problema em questão da classe `Pessoa`, o método `cumprimenta` pode ser implementado\n",
    "utilizando um valor padrão para um parâmetro.\n",
    "Desta forma, caso nenhuma das strings `'d'`, `'t'` ou `'n'` seja fornecida, o método será executado\n",
    "como originalmente. Caso contrário, o método será executado informando uma mensagem de bom dia, boa\n",
    "tarde ou boa noite, conforme o caso."
   ]
  },
  {
   "cell_type": "code",
   "execution_count": 3,
   "metadata": {},
   "outputs": [
    {
     "name": "stdout",
     "output_type": "stream",
     "text": [
      "Olá Maria, tudo bem?\n"
     ]
    }
   ],
   "source": [
    "class Pessoa:\n",
    "    def __init__(self, nome, idade):\n",
    "        self.nome = nome\n",
    "        self.idade = idade\n",
    "\n",
    "    def __repr__(self):\n",
    "        return f'Pessoa{self.nome, self.idade}'\n",
    "    \n",
    "    def cumprimenta(self, p, periodo = None):\n",
    "        '''\n",
    "        Cumprimenta um objeto p do tipo Pessoa.\n",
    "        O método agora é polimórfico, de acordo\n",
    "        com os valores dos seus parâmetros.\n",
    "        '''\n",
    "        s = ''\n",
    "        if periodo == None:\n",
    "            s = 'Olá'\n",
    "        if periodo == 'd':\n",
    "            s = 'Bom dia'\n",
    "        if periodo == 't':\n",
    "            s = 'Boa tarde'\n",
    "        if periodo == 'n':\n",
    "            s = 'Boa noite'\n",
    "        print(f'{s} {p.nome}, tudo bem?')\n",
    "\n",
    "def main():\n",
    "    p1 = Pessoa('Joao', 25)\n",
    "    p2 = Pessoa('Maria', 21)\n",
    "    p1.cumprimenta(p2) # adicione o parâmetro 'd', 't' ou 'n' para cumprimentar de diferentes formas\n",
    "        \n",
    "if __name__ == '__main__':\n",
    "    main()"
   ]
  },
  {
   "cell_type": "markdown",
   "metadata": {},
   "source": [
    "### 4.2 Método Polimórfico por Tipo de Parâmetro\n",
    "\n",
    "Há ainda a possibilidade de se implementar métodos polimórficos por tipo do parâmetros.\n",
    "Ou seja, o método opera de diferentes formas de acordo com o tipo (classe) do objeto\n",
    "passado como parâmetro.\n",
    "\n",
    "Observe o exemplo a seguir."
   ]
  },
  {
   "cell_type": "code",
   "execution_count": 19,
   "metadata": {},
   "outputs": [
    {
     "name": "stdout",
     "output_type": "stream",
     "text": [
      "Olá prof. Joaquim, tudo bem?\n",
      "Olá Joao, tudo bem?\n"
     ]
    }
   ],
   "source": [
    "class Pessoa:\n",
    "    def __init__(self, nome, idade):\n",
    "        self.nome = nome\n",
    "        self.idade = idade\n",
    "\n",
    "    def __repr__(self):\n",
    "        return f'Pessoa{self.nome, self.idade}'\n",
    "    \n",
    "    def cumprimenta(self, p):\n",
    "        '''Cumprimenta um objeto p do tipo Pessoa'''\n",
    "        if isinstance(p, Professor): # o método é polimórfico: executa de forma diferente de acordo com a classe do objeto passado como parâmetro\n",
    "            print(f'Olá prof. {p.nome}, tudo bem?')\n",
    "        else:\n",
    "            print(f'Olá {p.nome}, tudo bem?')\n",
    "\n",
    "class Professor(Pessoa):\n",
    "    def __init__(self, nome, idade, departamento):\n",
    "        super().__init__(nome, idade)\n",
    "        self.departamento = departamento\n",
    "\n",
    "    def __repr__(self):\n",
    "        return f'Professor{self.nome, self.idade, self.departamento}'\n",
    "    \n",
    "def main():\n",
    "    p1 = Pessoa('Joao', 25)\n",
    "    p2 = Professor('Joaquim', 45, 'Depto. de Física')\n",
    "    \n",
    "    p1.cumprimenta(p2) # parâmetro passado é um Professor\n",
    "    p2.cumprimenta(p1) # parâmetro passado é uma Pessoa\n",
    "    \n",
    "if __name__ == '__main__':\n",
    "    main()"
   ]
  },
  {
   "cell_type": "markdown",
   "metadata": {},
   "source": [
    "## 5. Sobrecarga de Operadores\n",
    "\n",
    "Em programação orientada a objetos, sobrecarregar um operador consiste em\n",
    "programar a forma como os operadores `+`, `-`, `*`, `/`, `==`, `!=`, etc\n",
    "devem funcionar para uma determinada classe.\n",
    "\n",
    "Em Python, isto é feito ao serem implementados métodos mágicos como\n",
    "`__add__`, `__sub__`, `__mul__`, `__div__`, etc, sendo cada um\n",
    "destes métodos chamado implicitamente quando um operador específico\n",
    "é utilizado com objetos da classe em questão.\n",
    "\n",
    "Ou seja, os métodos mágicos correspondentes aos operadores são\n",
    "também uma forma de polimorfismo.\n",
    "\n",
    "Observe no exemplo a seguir um uso de polimorfismo com operadores em Python."
   ]
  },
  {
   "cell_type": "code",
   "execution_count": 1,
   "metadata": {},
   "outputs": [
    {
     "name": "stdout",
     "output_type": "stream",
     "text": [
      "aula de poo\n",
      "35\n"
     ]
    }
   ],
   "source": [
    "def main():\n",
    "    s1 = 'aula de'\n",
    "    s2 = ' poo'\n",
    "    print(s1 + s2) # método __add__ da classe str é chamado implicitamente\n",
    "                   # Python traduz esta instrução em str.__add__(s1,s2)\n",
    "\n",
    "    i1 = 15\n",
    "    i2 = 20\n",
    "    print(i1 + i2) # método __add__ da classe int é chamado implicitamente\n",
    "                   # Python traduz esta instrução em int.__add__(i1,i2)\n",
    "\n",
    "if __name__ == '__main__':\n",
    "    main()"
   ]
  },
  {
   "cell_type": "markdown",
   "metadata": {},
   "source": [
    "São listados abaixos os operadores que podem ser sobrecarregados e qual o seu método mágico correspondente.\n",
    "\n",
    "### 5.1 Métodos para Operadores Matemáticos\n",
    "\n",
    "| Operação      |          Método             |\n",
    "|:------------- | ---------------------------:|\n",
    "| ```x + y```   | ```__add__(self, y)```      |\n",
    "| ```x - y```   | ```__sub__(self, y)```      |\n",
    "| ```x * y```   | ```__mul__(self, y)```      |\n",
    "| ```x / y```   | ```__truediv__(self, y)```  |\n",
    "| ```x // y```  | ```__floordiv__(self, y)``` |\n",
    "| ```x % y```   | ```__mod__(self, y)```      |\n",
    "| ```x ** y```  | ```__pow__(self, y)```      |\n",
    "\n",
    "### 5.2 Métodos para Operadores Matemáticos com Atribuição\n",
    "\n",
    "| Operação      |          Método               |\n",
    "|:------------- | -----------------------------:|\n",
    "| ```x += y```   | ```__iadd__(self, y)```      |\n",
    "| ```x -= y```   | ```__isub__(self, y)```      |\n",
    "| ```x *= y```   | ```__imul__(self, y)```      |\n",
    "| ```x /= y```   | ```__itruediv__(self, y)```  |\n",
    "| ```x //= y```  | ```__ifloordiv__(self, y)``` |\n",
    "| ```x %= y```   | ```__imod__(self, y)```      |\n",
    "| ```x **= y```  | ```__ipow__(self, y)```      |\n",
    "\n",
    "### 5.3 Métodos para Operadores Relacionais\n",
    "\n",
    "| Operação       |          Método            |\n",
    "|:-------------  | --------------------------:|\n",
    "| ```x == y```   | ```__eq__(self, y)```      |\n",
    "| ```x != y```   | ```__ne__(self, y)```      |\n",
    "| ```x < y```    | ```__lt__(self, y)```      |\n",
    "| ```x <= y```   | ```__le__(self, y)```      |\n",
    "| ```x > y```    | ```__gt__(self, y)```      |\n",
    "| ```x >= y```   | ```__ge__(self, y)```      |\n",
    "\n",
    "### 5.4 Métodos para Outras Funcionalidades\n",
    "\n",
    "| Funcionalidade                                 |          Método                 |\n",
    "|:---------------------------------------------- | ------------------------------: |\n",
    "| 1. Função especial ```len```                   | ```__len__(self)```             |\n",
    "| 2. Função especial ```in```                    | ```__contains__(self, e)```     |\n",
    "| 3. Acesso a uma posição do objeto.\n",
    "     Sendo o objeto `obj` e a posição `i`, \n",
    "     `obj[i]` é implementado com                 | ```__getitem__(self, idx)```    |\n",
    "| 4. Atribuição a uma posição do objeto.\n",
    "     Sendo o objeto `obj`, a posição `i`\n",
    "     e o valor a ser atribuído `v`,\n",
    "     `obj[i] = v` é implementado com             | ```__setitem__(self, i, v)``` |"
   ]
  },
  {
   "cell_type": "markdown",
   "metadata": {},
   "source": [
    "## Exercício de Fixação 1\n",
    "\n",
    "Considerando as classes `Pessoa`, `Aluno`, e `Professor`\n",
    "dos exemplos desta aula, implemente um método de classe que receba\n",
    "como parâmetro uma lista de pessoas. O método deve calcular\n",
    "a média de idade das pessoas na lista.\n",
    "\n",
    "## Exercício de Fixação 2\n",
    "\n",
    "Considerando a hierarquia de animais desta aula:\n",
    "\n",
    "- Implemente o método abstrato `pode_voar` (que deve retornar    \n",
    "  `True/False`) na classe `Ave`.\n",
    "- Implemente na classe `Ave` um método de classe que recebe como   \n",
    "  parâmetro uma lista de aves `L` e retorna uma sublista de  `L` com \n",
    "  as aves que podem voar.\n",
    "- Adicione um atributo e propriedade `peso` na classe `Animal`.\n",
    "- Implemente um método de classe que retorne a média dos pesos de uma \n",
    "  lista de animais. \n",
    "\n",
    "## Exercício de Fixação 3\n",
    "\n",
    "Considere a classe `Complexo` para representar um número complexo,\n",
    "do exercício da [Aula 3](https://raw.githubusercontent.com/ect-info/POO_2022.1/master/docs/03-classes-objetos/03-Classes-Objetos.ipynb).\n",
    "\n",
    "Reimplemente o método `soma` como sendo o operador `+` e teste o seu código.\n",
    "\n",
    "## Exercício de Fixação 4\n",
    "\n",
    "Considere uma classe para representar um `Ponto2D`.\n",
    "Esta classe deve ter como atributos as coordenadas `x` e `y` do ponto.\n",
    "\n",
    "Implemente o restante da classe como a seguir.\n",
    "\n",
    "- Sobrecarregue o operador `+` (método mágico `__add__`): ele deve poder operar com o parâmetro sendo uma tupla de dois números ou uma instância de `Ponto2D`, retornando o resultado em um objeto da mesma classe do parâmetro.\n",
    "- Sobrecarregue o operador `*` (método mágico `__mul__`): ele deve poder operar com o parâmetro sendo um número real ou um `Ponto2D`. No primeiro caso, o método deve retornar uma instância de `Ponto2D` resultante da multiplicação do parâmetro pelas coordenadas do ponto. No segundo caso, o método deve retornar o produto interno entre os dois pontos (o produto interno é igual ao produto das coordenadas x dos dois pontos somado com o produto das coordenadas y dos dois pontos).\n",
    "- Sobrecarregue o operador `==` (método mágico `__eq__`): dele deve poder operar com o parâmetro sendo uma tupla de dois números ou uma instância de `Ponto2D`, retornando verdadeiro caso as coordenadas dos pontos sejam iguais ou falso caso contrário.\n",
    "- Sobrecarregue o operador `[]` para retornar a coordenada `x` do ponto se for usado o índice 0 e a coordenada `y` \n",
    "  se for usado o índice 1\n",
    "- Sobrecarregue o operador `[]` para atribuir um valor à coordenada `x` do ponto se for usado o índice 0 e\n",
    "  à coordenada `y` se for usado o índice 1\n",
    "\n",
    "Utilize o código a seguir para testar o seu programa."
   ]
  },
  {
   "cell_type": "code",
   "execution_count": null,
   "metadata": {},
   "outputs": [],
   "source": [
    "def main():\n",
    "    p1 = Ponto2D(2.0, -2.0)\n",
    "    p2 = Ponto2D(-2.0, 2.0)\n",
    "    print(p1 + p2) # retorna Ponto2D\n",
    "    print(p1 + (5.0, 5.0)) # retorna tupla\n",
    "\n",
    "    p3 = p1 * 4 # multiplica por escalar, retorna Ponto2D\n",
    "    print(p3)\n",
    "\n",
    "    print(p1 * p2) # produto interno/escalar, retorna nr. real\n",
    "\n",
    "    print(p3 == (8.0, -8.0))\n",
    "    print(p3 == p1)\n",
    "    \n",
    "    p1[0] = 7.0\n",
    "    p1[1] = 6.0\n",
    "    print(f'x: {p1[0]}, y: {p1[1]}')\n",
    "\n",
    "if __name__ == '__main__':\n",
    "    main()"
   ]
  },
  {
   "cell_type": "markdown",
   "metadata": {},
   "source": [
    "Saída esperada:\n",
    "\n",
    "```\n",
    "Ponto2D(0.0, 0.0)\n",
    "(7.0, 3.0)\n",
    "Ponto2D(8.0, -8.0)\n",
    "-8.0\n",
    "True\n",
    "False\n",
    "x: 7.0, y: 6.0\n",
    "```"
   ]
  },
  {
   "cell_type": "code",
   "execution_count": null,
   "metadata": {},
   "outputs": [],
   "source": []
  }
 ],
 "metadata": {
  "kernelspec": {
   "display_name": "Python 3 (ipykernel)",
   "language": "python",
   "name": "python3"
  },
  "language_info": {
   "codemirror_mode": {
    "name": "ipython",
    "version": 3
   },
   "file_extension": ".py",
   "mimetype": "text/x-python",
   "name": "python",
   "nbconvert_exporter": "python",
   "pygments_lexer": "ipython3",
   "version": "3.9.7"
  }
 },
 "nbformat": 4,
 "nbformat_minor": 4
}
