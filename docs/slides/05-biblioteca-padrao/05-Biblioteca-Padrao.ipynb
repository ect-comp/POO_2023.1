{
 "cells": [
  {
   "cell_type": "markdown",
   "metadata": {},
   "source": [
    "# Aula 5 - Estruturas de Dados da Biblioteca Padrão Python\n",
    "\n",
    "Neste documento serão apresentadas as principais estruturas de dados da biblioteca padrão Python.\n",
    "\n",
    "As classes a seguir, que representam **sequências** em Python (`tuple`, `list` e `str`), possuem um conjunto de operações bem definido na sua interface pública.\n",
    " \n",
    "## 1. Tuplas\n",
    "\n",
    "- Utilizadas para guardar vários valores agrupados\n",
    "    - Observe que em Python os valores são objetos e como tudo é objeto em Python, uma tupla pode armazenar qualquer coisa\n",
    "- Definidas pela especificação de vários elementos separados por vírgula entre parênteses `()`\n",
    "- Exemplos:\n",
    "    - Tupla de inteiros: `a = (1,2,3)`\n",
    "    - Tupla de strings: `b = ('alo','mundo')`\n",
    "    - Tupla mista: `c = ((1, 'cálculo',10), (2, 'álgebra', 9))`\n",
    "- Uma tupla não é alterável: uma vez definida, ela não pode ser alterada\n",
    "\n",
    "Observe como se trabalha com tuplas em Python a seguir."
   ]
  },
  {
   "cell_type": "code",
   "execution_count": null,
   "metadata": {},
   "outputs": [],
   "source": [
    "l_vazia = tuple() # instancia um objeto da classe tuple como sendo uma tupla vazia\n",
    "l = ('alo', 3, ('e', 'f')) # instancia uma tuple com objetos dados\n",
    "print(type(l)) # tuple\n",
    "x = l[0] # acessa o primeiro elemento da tupla\n",
    "y = l[1] # acessa o segundo elemento da tupla\n",
    "print(x,y)\n",
    "\n",
    "# \"desempacota\" (unpack) tupla: atribui tupla a um número de valores (deve ser igual ao tamanho da tupla)\n",
    "x,y,z = l\n",
    "print(x,y,z)\n",
    "\n",
    "# tuplas são imutáveis: não é possível adicionar, remover ou alterar elementos\n",
    "#l[0] = 'mundo' # erro"
   ]
  },
  {
   "cell_type": "code",
   "execution_count": null,
   "metadata": {},
   "outputs": [],
   "source": [
    "# toda função que retorna mais de um valor em Python\n",
    "# na verdade retorna uma tupla com todos os valores.\n",
    "\n",
    "def sumprod(x, y):\n",
    "    '''Retorna a soma e o produto de um número'''\n",
    "    return (x+y, x*y)\n",
    "\n",
    "def main():\n",
    "    # duas formas equivalentes de atribuição de tuplas\n",
    "    \n",
    "    # forma 1: atribui em a o primeiro resultado e em b o segundo\n",
    "    a,b = sumprod(3,5)\n",
    "    print('Soma: {}, produto: {}'.format(a, b))\n",
    "\n",
    "    # forma 2: atribui o resultado a uma tupla\n",
    "    t = sumprod(3,5)\n",
    "    print('Soma: {}, produto: {}'.format(t[0], t[1]))\n",
    "\n",
    "if __name__ == \"__main__\":\n",
    "\n",
    "    main()"
   ]
  },
  {
   "cell_type": "markdown",
   "metadata": {},
   "source": [
    "## 2. Listas\n",
    "\n",
    "- Utilizadas para guardar uma coleção de valores que pode ser alterada\n",
    "- Definidas pela especificação de vários elementos separados por vírgula entre colchetes `[]`\n",
    "- Exemplos:\n",
    "    - Lista de inteiros: `a = [1,2,3]`\n",
    "    - Lista de strings: `b = ['alo','mundo']`\n",
    "    - Lista mista: `c = [1.93, 'alo', (0,'aula')]`\n",
    "\n",
    "Observe como se trabalha com listas em Python a seguir."
   ]
  },
  {
   "cell_type": "code",
   "execution_count": null,
   "metadata": {},
   "outputs": [],
   "source": [
    "l_vazia = list() # instancia um objeto da classe list como sendo uma lista vazia\n",
    "l = ['alo', 3, ('e', 'f')] # instancia uma list com objetos dados\n",
    "print(type(l)) # list\n",
    "x = l[0] # acessa o primeiro elemento da lista\n",
    "y = l[1] # acessa o segundo elemento da lista\n",
    "print(x,y)\n",
    "\n",
    "# \"desempacota\" (unpack) lista: atribui lista a um número de valores (deve ser igual ao tamanho da lista)\n",
    "x,y,z = l\n",
    "print(x,y,z)\n",
    "\n",
    "# listas são mutáveis: é possível adicionar, remover ou alterar elementos\n",
    "l[0] = 'mundo'\n",
    "print(l)"
   ]
  },
  {
   "cell_type": "markdown",
   "metadata": {},
   "source": [
    "Listas em Python possuem outras operações, definidas na interface pública da classe (digite `help(list)` em um terminal para mais detalhes):\n",
    "\n",
    "- `append`: adiciona objeto ao final da lista\n",
    "- `insert`: adiciona objeto em posição específica da lista\n",
    "- `remove`: remove primeira ocorrência do parâmetro passado\n",
    "- `extend`: adiciona todos os objetos do parâmetro\n",
    "- `clear`: remove todos os objetos\n",
    "- `pop`: remove o último objeto ou objeto na posição do parâmetro\n",
    "- `sort`: ordena a lista\n",
    "- `copy`: retorna uma cópia da lista\n",
    "- `count`: retorna quantos objetos são iguais ao parâmetro"
   ]
  },
  {
   "cell_type": "code",
   "execution_count": null,
   "metadata": {},
   "outputs": [],
   "source": [
    "l = [] # cria lista vazia\n",
    "l.append(1)\n",
    "print(l)\n",
    "l2 = [2,3,4]\n",
    "l.extend(l2) # adiciona os elementos de l2 em l\n",
    "print(l)\n",
    "l3 = l + l # operador de soma concatena listas\n",
    "print(l3)\n",
    "l = [1,3]\n",
    "l.insert(1,'dois') # insere string na posição 1\n",
    "print(l)\n",
    "l.clear() # remove todos os elementos\n",
    "print(l)\n",
    "l = ['a','b','c','b']\n",
    "l.remove('b') # remove a primeira ocorrência \n",
    "print(l)\n",
    "l.pop() # remove o último elemento\n",
    "print(l)\n",
    "l += ['e','f','g'] # operador de soma e atribuição também está implementado\n",
    "print(l)\n",
    "l.pop(1) # remove o elemento na posição 1\n",
    "print(l)\n",
    "l = [1,4,2,6,4]\n",
    "l.sort() # ordena\n",
    "print(l)\n",
    "l2 = l.copy() # cria uma copia\n",
    "print(l2)\n",
    "print(l.count(4)) # número de ocorrências do número 4 na lista"
   ]
  },
  {
   "cell_type": "markdown",
   "metadata": {},
   "source": [
    "## 3. Strings\n",
    "\n",
    "Strings também são consideradas sequências em Python e portanto,\n",
    "possuem diversos comportamentos em comum com tuplas e listas.\n",
    "Assim como tuplas, strings são imutáveis.\n",
    "\n",
    "O uso básico de strings é mostrado a seguir. Para mais detalhes da interface pública da classe `str`, digite `help(str)` em um terminal."
   ]
  },
  {
   "cell_type": "code",
   "execution_count": null,
   "metadata": {
    "scrolled": true
   },
   "outputs": [],
   "source": [
    "s_vazia = str() # instancia um objeto da classe str como sendo uma string vazia\n",
    "s = \"alo\" # instancia uma str com valor dado\n",
    "print(type(s)) # str\n",
    "print(s[0]) # acessa primeiro caractere da string\n",
    "s2 = \"alo mundo Python\"\n",
    "print(s2.count(' ')) # conta espaços em branco na string\n",
    "#s2[2] = 'a' # erro: string é imutável\n",
    "s2 += \"!\" # concatena string com uma outra\n",
    "print(s2)"
   ]
  },
  {
   "cell_type": "markdown",
   "metadata": {},
   "source": [
    "## 4. Operações comuns em estruturas de dados\n",
    "\n",
    "Todos os tipos de sequências apresentados suportam um conjunto comum de operações. Estas operações são dadas pela forma de acesso aos objetos das sequências, formas de se iterar nos objetos contidos nas sequências e a funções/operadores utilitários que recebem sequências como parâmetros.\n",
    "\n",
    "### Acesso a posições das sequências\n",
    "\n",
    "Sendo `s` seja uma sequência (`tuple`, `list` ou `str`):\n",
    "\n",
    "- `s[0]` acessa o primeiro elemento de  `s`, `s[1]` o segundo e assim por diante\n",
    "- `s[-1]` acessa o último elemento de `s`, `s[-2]` o penúltimo e assim por diante\n",
    "- Caso o índice `i` em `s[i]` seja maior ou igual ao total de elementos, ocorre um erro de execução\n",
    "\n",
    "### Fatiamento (*slicing*)\n",
    "\n",
    "Sendo `s` seja uma sequência:\n",
    "\n",
    "- É possível realizar o seu \"fatiamento\":\n",
    "    - `s[2:5]`: retorna os elementos de índice 2, 3 e 4\n",
    "    - `s[i:j]`: retorna os elementos de índice `i` até `j-1`\n",
    "    - `s[i:]`: retorna os elementos de índice `i` até o último índice da sequência\n",
    "    - `s[:i]`: retorna os elementos do primeiro índice até o índice `i-1`\n",
    "    - `s[i:j:d]`: retorna os elementos de índice `i` até `j-1` com incremento de `d`\n",
    "    - `s[::]`: retorna todos os elementos\n",
    "    - `s[::-1]`: retorna todos os elementos na ordem inversa"
   ]
  },
  {
   "cell_type": "code",
   "execution_count": null,
   "metadata": {},
   "outputs": [],
   "source": [
    "s = ('x', 'y', 'z', 1, 2, 3, 'a', 'b', 'c')\n",
    "print(s[1:3]) # seq. com objetos nas posições 1 e 2\n",
    "print(s[-1]) # objeto na última posição\n",
    "print(s[-1:1:-1]) # seq. com objetos nas posições 8, 7, 6... até 2"
   ]
  },
  {
   "cell_type": "markdown",
   "metadata": {},
   "source": [
    "### Outras funções em sequências\n",
    "\n",
    "Sequências em Python também possuem funções especiais que as recebem como parâmetro:\n",
    "\n",
    "- `len`: retorna o tamanho de uma sequência/dicionário\n",
    "- `in`: operador (e não função) que retorna verdadeiro caso um objeto pertença à sequência/chaves de um dicionário\n",
    "- `max`: retorna o maior valor da sequência/chaves de um dicionário (os objetos precisam ter o mesmo tipo)\n",
    "- `min`: retorna o menor valor da sequência/chaves de um dicionário (os objetos precisam ter o mesmo tipo)\n",
    "- `sum`: retorna o somatório da sequência/chaves de um dicionário (se eles tiverem tipo numérico)\n",
    "- `any`: retorna verdadeiro se algum valor da sequência/chaves de um dicionário tiver valor lógico `True`\n",
    "- `all`: retorna verdadeiro se todos os valores da sequência/chaves de um dicionário tiverem valor lógico `True`"
   ]
  },
  {
   "cell_type": "code",
   "execution_count": null,
   "metadata": {},
   "outputs": [],
   "source": [
    "s = [1, 2, 3]\n",
    "print(len(s))\n",
    "print(5 in s)\n",
    "print(max(s))\n",
    "print(min(s))\n",
    "print(sum(s))\n",
    "print(any(s))\n",
    "s = [0, 2, 3]\n",
    "print(all(s))\n",
    "d = {1: 'um', 2: 'dois', 3: 'tres'}\n",
    "print(sum(d)) # opera nas chaves do dicionário"
   ]
  },
  {
   "cell_type": "markdown",
   "metadata": {},
   "source": [
    "### Percorrendo os elementos de uma sequência\n",
    "\n",
    "Sequências em Python podem ser percorridas (iteradas) de diversas maneiras, como mostrado a seguir."
   ]
  },
  {
   "cell_type": "code",
   "execution_count": null,
   "metadata": {},
   "outputs": [],
   "source": [
    "l = ['a','b','c']\n",
    "\n",
    "# 1. Estilo c++ \n",
    "for i in range(len(l)): # range é uma função que cria um intervalo de valores\n",
    "    print(l[i], end='-') # end é o caractere a ser impresso no final (padrão, \\n)\n",
    "print('\\n============================')\n",
    "\n",
    "# Lembre o Zen de Python... \"Beautiful is better than ugly.\"\n",
    "# 2. com o operador 'in' -> a variável do laço recebe cada objeto da sequência diretamente\n",
    "for i in l:\n",
    "    print(i, end='-')    \n",
    "print('\\n============================')    \n",
    "\n",
    "# 3. função enumerate: retorna uma enumeração (tuplas formadas por (posição, valor))\n",
    "for e in enumerate(l):\n",
    "    print(e, end='-')\n",
    "print('\\n============================')    \n",
    "\n",
    "#Uso comum\n",
    "for (i,v) in enumerate(l):\n",
    "    print('posição={}, valor={}'.format(i, v))"
   ]
  },
  {
   "cell_type": "markdown",
   "metadata": {},
   "source": [
    "## 5. Dicionários\n",
    "\n",
    "Python também possui o tipo dicionário, que, apesar de não ser considerado uma sequência, possui alguma similaridade com listas/tuplas/strings.\n",
    "\n",
    "- Tipo de dados `dict`\n",
    "- Utilizado para armazenar vários pares formados por uma chave e um valor\n",
    "- Definido pela especificação de vários pares `chave: valor` separados por vírgula entre chaves `{}`\n",
    "- Exemplos de dicionários:\n",
    "    - `d1 = {0: 'zero', 1: 'um', 2: 'dois'}`\n",
    "    - `d2 = {'zero': 0, 'um': 1, 'dois': 2}`\n",
    "    - `d3 = {'zero': 0, 1: [1,2,3], 'c': (3.0, -3.0)}`\n",
    "- O acesso aos seus elementos se dá com o uso da chave entre colchetes\n",
    "\n",
    "Observe como se trabalha com dicionários em Python a seguir."
   ]
  },
  {
   "cell_type": "code",
   "execution_count": null,
   "metadata": {},
   "outputs": [],
   "source": [
    "d_vazio = dict() # instancia um objeto da classe dict como sendo um dicionário vazio\n",
    "d = {1:'um', 2:'dois', 3:'três'} # instancia um dict com pares chave:valor dados\n",
    "print(type(d)) #dict\n",
    "print(d[2])\n",
    "d[4] = 'quatro' # adiciona novo par chave (4) -> valor ('quatro')\n",
    "print(d)\n",
    "d[1] = 'one' # podemos alterar o valor de uma chave\n",
    "print(d)"
   ]
  },
  {
   "cell_type": "markdown",
   "metadata": {},
   "source": [
    "Os dicionários são muito úteis para acessar informações indexadas por uma chave. Observe a seguir."
   ]
  },
  {
   "cell_type": "code",
   "execution_count": null,
   "metadata": {},
   "outputs": [],
   "source": [
    "class Pessoa:\n",
    "    '''Definição de uma Pessoa'''\n",
    "    def __init__(self, cpf, nome, fone):\n",
    "        self.cpf = cpf\n",
    "        self.nome = nome\n",
    "        self.fone = fone\n",
    "        \n",
    "    def __str__(self):\n",
    "        # esta forma de formatar string funciona com Python versão > 3.6\n",
    "        return f'cpf={self.cpf}, nome={self.nome}, fone={self.fone}'\n",
    "        #return 'cpf={}, nome={}, fone={}'.format(self.cpf, self.nome, self.fone)\n",
    "\n",
    "if __name__ == \"__main__\":\n",
    "    # cria objetos da classe Pessoa\n",
    "    P1 = Pessoa('11111-1', 'carlos', '12345')\n",
    "    P2 = Pessoa('22222-2', 'mario', '54321')\n",
    "    P3 = Pessoa('33333-3', 'joão', '133245')\n",
    "\n",
    "    pessoas = {} # cria um dicionário de objetos da classe Pessoa\n",
    "    pessoas[P1.cpf] = P1 # chave: cpf, valor: pessoa\n",
    "    pessoas[P2.cpf] = P2\n",
    "    pessoas[P3.cpf] = P3\n",
    "\n",
    "    cpf = '22222-2'\n",
    "    if cpf in pessoas:\n",
    "        print(f'Pessoa: {pessoas[cpf]}')\n",
    "    else:\n",
    "        print('CPF não cadastrado')"
   ]
  },
  {
   "cell_type": "markdown",
   "metadata": {},
   "source": [
    "As funções especiais abaixo também funcionam em dicionários:\n",
    "\n",
    "- `len`: retorna o tamanho de um dicionário\n",
    "- `in`: operador que retorna verdadeiro caso um objeto pertença às chaves de um dicionário\n",
    "- `max`: retorna a maior chave de um dicionário (as chaves precisam ter o mesmo tipo)\n",
    "- `min`: retorna a menor chave de um dicionário (as chaves precisam ter o mesmo tipo)\n",
    "- `sum`: retorna o somatório das chaves de um dicionário (se elas tiverem tipo numérico)\n",
    "- `any`: retorna verdadeiro se alguma das chaves de um dicionário tiver valor lógico `True`\n",
    "- `all`: retorna verdadeiro se todos as chaves de um dicionário tiverem valor lógico `True`"
   ]
  },
  {
   "cell_type": "code",
   "execution_count": 24,
   "metadata": {},
   "outputs": [
    {
     "name": "stdout",
     "output_type": "stream",
     "text": [
      "5\n",
      "True\n",
      "120\n",
      "0\n",
      "179\n",
      "True\n",
      "False\n",
      "179\n"
     ]
    }
   ],
   "source": [
    "d = {1: 'um', 55: 'cincocinco', 3: 'três', 120: 'umdoiszero', 0: 'zero'}\n",
    "print(len(d))\n",
    "print(3 in d)\n",
    "print(max(d))\n",
    "print(min(d))\n",
    "print(sum(d))\n",
    "print(any(d))\n",
    "print(all(d))"
   ]
  },
  {
   "cell_type": "markdown",
   "metadata": {},
   "source": [
    "Um dicionário pode ser percorrido como mostrado a seguir."
   ]
  },
  {
   "cell_type": "code",
   "execution_count": null,
   "metadata": {},
   "outputs": [],
   "source": [
    "d = {1: 'um', 2: 'dois', 3: 'tres', 4: 'quatro', 5: 'cinco'}\n",
    "\n",
    "# percorre todas as chaves\n",
    "for c in d.keys(): # mesma coisa se só usar d\n",
    "    print(c)\n",
    "\n",
    "# percorre todos os valores\n",
    "for v in d.values():\n",
    "    print(v)\n",
    "    \n",
    "# percorre todos pares chave/valor\n",
    "for c, v in d.items(): # mesma coisa se usar enumerate(d)\n",
    "    print('chave: {}, valor: {}'.format(c,v))"
   ]
  },
  {
   "cell_type": "markdown",
   "metadata": {},
   "source": [
    "## 6. Extra: `Iterators` e `Generators`\n",
    "\n",
    "### Iteradores\n",
    "\n",
    "Em linguagens orientadas a objetos, é comum utilizar objetos especiais, chamados de **iteradores** (*iterators*), para percorrer suas estruturas de dados.\n",
    "\n",
    "Em Python, é possível utilizar as função `next`, que retorna o próximo elemento ou resulta no erro de execução `StopIteration` quando não houver mais elementos (mais na frente estudaremos o mecanismo de erros e exceções).\n",
    "\n",
    "Para isto, você deve primeiramente criar um objeto do tipo `iter` passando um objeto iterável (sequência ou dicionário) no construtor."
   ]
  },
  {
   "cell_type": "code",
   "execution_count": null,
   "metadata": {},
   "outputs": [],
   "source": [
    "t = ('a','b','c')\n",
    "it = iter(t) # objeto iterador da tupla t \n",
    "print(next(it)) # 'a'\n",
    "print(next(it)) # 'b'\n",
    "print(next(it)) # 'c'\n",
    "#next(it) # este next resulta em erro"
   ]
  },
  {
   "cell_type": "markdown",
   "metadata": {},
   "source": [
    "### Generators\n",
    "\n",
    "Um outro comando muito útil em Python é o `yield`. Este comando, ao ser utilizado em uma função ao invés de um `return`, faz com que a função se torne um objeto especial chamado de `generator`.\n",
    "\n",
    "Desta forma, uma chamada à função gera um objeto iterável. Ao ser utilizada a função especial `next` neste objeto, um valor de retorno é produzido, mas a função \"se lembra\" onde estava (guarda o seu estado) para produzir o resultado correto em uma próxima chamada.\n",
    "\n",
    "Observe um exemplo de `generator` que retorna, sob demanda, a sequência de Fibonacci."
   ]
  },
  {
   "cell_type": "code",
   "execution_count": null,
   "metadata": {},
   "outputs": [],
   "source": [
    "# gera a sequência Fibonacci sob demanda\n",
    "def fib(n):\n",
    "    '''n >= 2 é o número de elementos a serem gerados'''\n",
    "    a = b = 1 # sim, isso funciona em Python\n",
    "    yield a # gera o primeiro valor\n",
    "    yield b # gera o segundo valor\n",
    "\n",
    "    # gera os outros valores\n",
    "    for i in range(n-2):\n",
    "        s = a + b\n",
    "        yield s\n",
    "        # atualiza a e b\n",
    "        a,b = b, s # atribuição simultânea\n",
    "\n",
    "if __name__ == \"__main__\":\n",
    "    for x in fib(10): # chamada de função gera um iterável (generator)\n",
    "        print(x) # laço itera e imprime todos os valores produzidos\n",
    "\n",
    "    type(fib(10)) # função se torna um objeto generator\n",
    "    \n",
    "    #seq = fib(10) # alternativa: seq é o generator, que é um iterável\n",
    "    #print(next(seq)) # chamar função next no iterável gerado\n",
    "    #print(next(seq))\n",
    "    #print(next(seq))"
   ]
  },
  {
   "cell_type": "markdown",
   "metadata": {},
   "source": [
    "## Exercício para fixação\n",
    "\n",
    "Utilize as estruturas de dados em Python para implementar um sistema de distribuição de senhas em uma clínica médica que chama os pacientes pelo código.\n",
    "\n",
    "O paciente a ser atendido pode escolher entrar na fila de atendimento para uma *consulta* médica ou para um *exame* médico.\n",
    "\n",
    "O recepcionista pode chamar o próximo paciente da fila, imprimir a fila\n",
    "ou consultar o tamanho da fila.\n",
    "\n",
    "O sistema a ser implementado deve encapsular uma lista Python (`list`), juntamente com outros atributos de classe, e deve ter uma interface pública que contemple as operações relatadas acima.\n",
    "\n",
    "Observe o código que utiliza a classe a seguir para uma melhor compreensão."
   ]
  },
  {
   "cell_type": "code",
   "execution_count": null,
   "metadata": {},
   "outputs": [],
   "source": [
    "class FilaPacientes:\n",
    "    pass\n",
    "\n",
    "def main():\n",
    "    f = FilaPacientes()\n",
    "\n",
    "    f.adiciona_consulta()\n",
    "    f.adiciona_consulta()\n",
    "    f.adiciona_exame()\n",
    "    f.adiciona_consulta()\n",
    "    f.adiciona_exame()\n",
    "    f.adiciona_consulta()\n",
    "\n",
    "    print('# DEBUG: Fila no 1o momento')\n",
    "    f.imprime()\n",
    "    print(f'Tamanho da fila: {f.tamanho()}')\n",
    "\n",
    "    f.chama_proximo()\n",
    "    f.chama_proximo()\n",
    "    f.chama_proximo()\n",
    "\n",
    "    f.adiciona_exame()\n",
    "    f.adiciona_exame()\n",
    "    f.adiciona_consulta()\n",
    "\n",
    "    print('# DEBUG: Fila no 2o momento')\n",
    "\n",
    "if __name__ == '__main__':\n",
    "    main()"
   ]
  },
  {
   "cell_type": "markdown",
   "metadata": {},
   "source": [
    "Resposta esperada para a execução acima:\n",
    "\n",
    "```python\n",
    "# DEBUG: consulta C0 adicionada à fila\n",
    "# DEBUG: consulta C1 adicionada à fila\n",
    "# DEBUG: exame E0 adicionado à fila\n",
    "# DEBUG: consulta C2 adicionada à fila\n",
    "# DEBUG: exame E1 adicionado à fila\n",
    "# DEBUG: consulta C3 adicionada à fila\n",
    "# DEBUG: Fila no 1o momento\n",
    "consulta C0\n",
    "consulta C1\n",
    "exame E0\n",
    "consulta C2\n",
    "exame E1\n",
    "consulta C3\n",
    "Tamanho da fila: 6\n",
    "Chamando próxima senha: C0\n",
    "Chamando próxima senha: C1\n",
    "Chamando próxima senha: E0\n",
    "# DEBUG: exame E2 adicionado à fila\n",
    "# DEBUG: exame E3 adicionado à fila\n",
    "# DEBUG: consulta C4 adicionada à fila\n",
    "# DEBUG: Fila no 2o momento\n",
    "Tamanho da fila: 6\n",
    "consulta C2\n",
    "exame E1\n",
    "consulta C3\n",
    "exame E2\n",
    "exame E3\n",
    "consulta C4\n",
    "```"
   ]
  }
 ],
 "metadata": {
  "kernelspec": {
   "display_name": "Python 3",
   "language": "python",
   "name": "python3"
  },
  "language_info": {
   "codemirror_mode": {
    "name": "ipython",
    "version": 3
   },
   "file_extension": ".py",
   "mimetype": "text/x-python",
   "name": "python",
   "nbconvert_exporter": "python",
   "pygments_lexer": "ipython3",
   "version": "3.8.8"
  }
 },
 "nbformat": 4,
 "nbformat_minor": 4
}
