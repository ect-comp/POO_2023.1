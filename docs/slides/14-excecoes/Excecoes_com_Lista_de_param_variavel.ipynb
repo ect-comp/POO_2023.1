{
 "cells": [
  {
   "cell_type": "markdown",
   "metadata": {},
   "source": [
    "# Aula 13 - Erros e Exceções\n",
    "\n",
    "Este documento mostra como trabalhar com exceções em Python.\n",
    "\n",
    "## 1. Exceções e Tratamento\n",
    "\n",
    "Comando ```raise```: levanta uma exceção da classe informada\n",
    "\n",
    "A lista de classes de exceções predefinidas em Python está [aqui](https://docs.python.org/3/library/exceptions.html)."
   ]
  },
  {
   "cell_type": "code",
   "execution_count": 1,
   "metadata": {},
   "outputs": [
    {
     "name": "stdout",
     "output_type": "stream",
     "text": [
      "0.5\n"
     ]
    },
    {
     "ename": "ZeroDivisionError",
     "evalue": "",
     "output_type": "error",
     "traceback": [
      "\u001b[0;31m---------------------------------------------------------------------------\u001b[0m",
      "\u001b[0;31mZeroDivisionError\u001b[0m                         Traceback (most recent call last)",
      "\u001b[0;32m<ipython-input-1-8a8ac909c0b7>\u001b[0m in \u001b[0;36m<module>\u001b[0;34m\u001b[0m\n\u001b[1;32m      7\u001b[0m \u001b[0;34m\u001b[0m\u001b[0m\n\u001b[1;32m      8\u001b[0m \u001b[0mprint\u001b[0m\u001b[0;34m(\u001b[0m\u001b[0minv\u001b[0m\u001b[0;34m(\u001b[0m\u001b[0;36m2\u001b[0m\u001b[0;34m)\u001b[0m\u001b[0;34m)\u001b[0m\u001b[0;34m\u001b[0m\u001b[0;34m\u001b[0m\u001b[0m\n\u001b[0;32m----> 9\u001b[0;31m \u001b[0mprint\u001b[0m\u001b[0;34m(\u001b[0m\u001b[0minv\u001b[0m\u001b[0;34m(\u001b[0m\u001b[0;36m0\u001b[0m\u001b[0;34m)\u001b[0m\u001b[0;34m)\u001b[0m\u001b[0;34m\u001b[0m\u001b[0;34m\u001b[0m\u001b[0m\n\u001b[0m",
      "\u001b[0;32m<ipython-input-1-8a8ac909c0b7>\u001b[0m in \u001b[0;36minv\u001b[0;34m(n)\u001b[0m\n\u001b[1;32m      2\u001b[0m     \u001b[0;34m'''Função para inverter um número (n não pode ser zero).'''\u001b[0m\u001b[0;34m\u001b[0m\u001b[0;34m\u001b[0m\u001b[0m\n\u001b[1;32m      3\u001b[0m     \u001b[0;32mif\u001b[0m \u001b[0mn\u001b[0m \u001b[0;34m==\u001b[0m \u001b[0;36m0\u001b[0m\u001b[0;34m:\u001b[0m\u001b[0;34m\u001b[0m\u001b[0;34m\u001b[0m\u001b[0m\n\u001b[0;32m----> 4\u001b[0;31m         \u001b[0;32mraise\u001b[0m \u001b[0mZeroDivisionError\u001b[0m\u001b[0;34m(\u001b[0m\u001b[0;34m)\u001b[0m\u001b[0;34m\u001b[0m\u001b[0;34m\u001b[0m\u001b[0m\n\u001b[0m\u001b[1;32m      5\u001b[0m     \u001b[0;32melse\u001b[0m\u001b[0;34m:\u001b[0m\u001b[0;34m\u001b[0m\u001b[0;34m\u001b[0m\u001b[0m\n\u001b[1;32m      6\u001b[0m         \u001b[0;32mreturn\u001b[0m \u001b[0;36m1\u001b[0m \u001b[0;34m/\u001b[0m \u001b[0mn\u001b[0m\u001b[0;34m\u001b[0m\u001b[0;34m\u001b[0m\u001b[0m\n",
      "\u001b[0;31mZeroDivisionError\u001b[0m: "
     ]
    }
   ],
   "source": [
    "def inv(n):\n",
    "    '''Função para inverter um número (n não pode ser zero).'''\n",
    "    if n == 0:\n",
    "        raise ZeroDivisionError()\n",
    "    else:\n",
    "        return 1 / n\n",
    "\n",
    "print(inv(2))\n",
    "print(inv(0))"
   ]
  },
  {
   "cell_type": "code",
   "execution_count": null,
   "metadata": {},
   "outputs": [],
   "source": [
    "raise TypeError()"
   ]
  },
  {
   "cell_type": "markdown",
   "metadata": {},
   "source": [
    "Exemplo da classe Conta:"
   ]
  },
  {
   "cell_type": "code",
   "execution_count": null,
   "metadata": {},
   "outputs": [],
   "source": [
    "class Conta:\n",
    "    def __init__(self):\n",
    "        self.__saldo =0\n",
    "\n",
    "    def deposito(self,v):\n",
    "        '''Deposito v > 0'''\n",
    "        if v <= 0:\n",
    "            raise ValueError(\"Valor de depósito não válido\")\n",
    "        else:\n",
    "            self.__saldo += v\n",
    "            \n",
    "c = Conta()\n",
    "c.deposito(3)\n",
    "c.deposito(5)\n",
    "c.deposito(0)\n"
   ]
  },
  {
   "cell_type": "markdown",
   "metadata": {},
   "source": [
    "## Tratamento de exceções\n",
    "\n",
    "Trecho de código responsável por fazer o programa se recuperar da exceção detectada\n",
    "\n",
    "Se a exceção não for tratada pelo programador, o tratamento padrão da linguagem Python é executado: imprimir a mensagem de erro na tela e encerrar o programa\n",
    "\n"
   ]
  },
  {
   "cell_type": "code",
   "execution_count": null,
   "metadata": {},
   "outputs": [],
   "source": [
    "class Pessoa:\n",
    "    def __init__(self, nome=''):\n",
    "        self._nome = nome\n",
    "\n",
    "    @property\n",
    "    def nome(self):\n",
    "        return self._nome\n",
    "    \n",
    "    @nome.setter\n",
    "    def nome(self, x):\n",
    "        '''x deve ser do tipo str'''\n",
    "        if type(x) == str:\n",
    "            self._nome = x\n",
    "        else:\n",
    "            #Note a mensagem adicional no construtor da classe TypeError\n",
    "            raise TypeError('Exceçao: x precisa ser do tipo str')\n",
    "\n",
    "if __name__ == \"__main__\":\n",
    "    p = Pessoa()\n",
    "    try:\n",
    "        n = 3\n",
    "        p.nome = n # ira levantar erro, já que n nao e str\n",
    "    except: # cláusula de tratamento de erros:\n",
    "        print('Ocorreu um erro na leitura dos dados') # imprime uma mensagem\n",
    "        print('Atribuindo nome em branco') # atribui um nome padrão para pessoa#\n",
    "        p.nome = 'sem nome'\n",
    "    print(f'Nome: {p.nome}')"
   ]
  },
  {
   "cell_type": "markdown",
   "metadata": {},
   "source": [
    "- Cláusula ```try```: contém bloco de código que pode levantar exceções\n",
    "- Cláusula ```except```: captura e trata exceções  "
   ]
  },
  {
   "cell_type": "code",
   "execution_count": null,
   "metadata": {},
   "outputs": [],
   "source": [
    "class Pessoa:\n",
    "    def __init__(self, nome=''):\n",
    "        self._nome = nome\n",
    "\n",
    "    @property\n",
    "    def nome(self):\n",
    "        return self._nome\n",
    "\n",
    "    @nome.setter\n",
    "    def nome(self, n):\n",
    "        if type(n) == str:\n",
    "            self._nome = n\n",
    "        else:\n",
    "            raise TypeError('Exceçao: n precisa ser do tipo str')\n",
    "\n",
    "if __name__ == \"__main__\":\n",
    "    p = Pessoa()\n",
    "    try:\n",
    "        p.nome = 'roberto'\n",
    "        print(p.numero)\n",
    "        print(f'Nome: {p.nome}, sobrenome: {p.sobrenome}') # outro erro: atributo inexistente\n",
    "    \n",
    "    except AttributeError:\n",
    "        print('Erro acessando atributo inexistente')\n",
    "    except Exception:\n",
    "        print('Erro qualquer')\n",
    "    "
   ]
  },
  {
   "cell_type": "markdown",
   "metadata": {},
   "source": [
    "- Apenas um ```except``` é executado por lançamento de exceção\n",
    "- Observe a ordem e hierarquia das exceções:  ```AttributeError``` é uma subclasse de ```Exception```\n",
    "\n",
    "--- \n",
    "### Except as object\n",
    "- É possível capturar uma exceção\n",
    "  como um objeto utilizando ```as <objeto>```\n",
    "- Isto permite acessar informações do erro levantado"
   ]
  },
  {
   "cell_type": "code",
   "execution_count": null,
   "metadata": {},
   "outputs": [],
   "source": [
    "class Pessoa:\n",
    "\tdef __init__(self, nome=''):\n",
    "\t\tself._nome = nome\n",
    "\n",
    "\t@property\n",
    "\tdef nome(self):\n",
    "\t\treturn self._nome\n",
    "\t\n",
    "\t@nome.setter\n",
    "\tdef nome(self, n):\n",
    "\t\tif type(n) == str:\n",
    "\t\t\tself._nome = n\n",
    "\t\telse:\n",
    "\t\t\traise TypeError('Excecao: n precisa ser do tipo str')\n",
    "\n",
    "if __name__ == \"__main__\":\n",
    "\tp = Pessoa()\n",
    "\ttry:\n",
    "\t\tp.nome = 3\n",
    "\texcept Exception as err: # captura erro como um objeto\n",
    "\t\tprint(err) # imprime informações sobre o objeto exceção"
   ]
  },
  {
   "cell_type": "markdown",
   "metadata": {},
   "source": [
    "### Cláusula ```else```\n",
    "  - O ```else``` é executado quando não há exceções capturadas\n",
    "  - Útil para conter código que estaria após o ```try``` que\n",
    "      só pode ser executado quando não há exceção"
   ]
  },
  {
   "cell_type": "code",
   "execution_count": null,
   "metadata": {},
   "outputs": [],
   "source": [
    "class Pessoa:\n",
    "\tdef __init__(self, nome=''):\n",
    "\t\tself._nome = nome\n",
    "\n",
    "\t@property\n",
    "\tdef nome(self):\n",
    "\t\treturn self._nome\n",
    "\t\n",
    "\t@nome.setter\n",
    "\tdef nome(self, n):\n",
    "\t\tif type(n) == str:\n",
    "\t\t\tself._nome = n\n",
    "\t\telse:\n",
    "\t\t\traise TypeError('Excecao: n precisa ser do tipo str')\n",
    "\n",
    "if __name__ == \"__main__\":\n",
    "\tp = Pessoa()\n",
    "\ttry:\n",
    "\t\tn = (1,2,3)\n",
    "\t\tp.nome = n\n",
    "\texcept Exception as err:\n",
    "\t\tprint(err)\n",
    "\telse:\n",
    "\t\tprint(f'Nome: {p.nome}')\n",
    "\tprint('Fim do programa')\n"
   ]
  },
  {
   "cell_type": "markdown",
   "metadata": {},
   "source": [
    "### Cláusula ```finally```\n",
    "\n",
    "  - Executada por último, independentemente de exceções\n",
    "      lançadas/capturadas\n",
    "  - Útil para conter código relacionado ao ```try```\n",
    "      para limpar recursos utilizados (ex.: fechar arquivos, encerrar\n",
    "      conexões, etc.)\n",
    "      "
   ]
  },
  {
   "cell_type": "code",
   "execution_count": null,
   "metadata": {},
   "outputs": [],
   "source": [
    "class Pessoa:\n",
    "\tdef __init__(self, nome=''):\n",
    "\t\tself._nome = nome\n",
    "\n",
    "\t@property\n",
    "\tdef nome(self):\n",
    "\t\treturn self._nome\n",
    "\t\n",
    "\t@nome.setter\n",
    "\tdef nome(self, n):\n",
    "\t\tif type(n) == str:\n",
    "\t\t\tself._nome = n\n",
    "\t\telse:\n",
    "\t\t\traise TypeError('Excecao: n precisa ser do tipo str')\n",
    "\n",
    "if __name__ == \"__main__\":\n",
    "\tp = Pessoa()\n",
    "\ttry:\n",
    "\t\tn = (1,2,3)\n",
    "\t\tp.nome = n\n",
    "\texcept Exception as err:\n",
    "\t\tprint('Erro: {}'.format(err))\n",
    "\tfinally:\n",
    "\t\tprint('Executando finally, independentemente de erros')\n",
    "\tprint('Fim do programa')\n"
   ]
  },
  {
   "cell_type": "markdown",
   "metadata": {},
   "source": [
    "Em resumo, o funcionamento das cláusulas\n",
    "```try```, ```except```, ```else``` e ```finally```\n",
    "podem ser vistos em um exemplo:"
   ]
  },
  {
   "cell_type": "code",
   "execution_count": null,
   "metadata": {},
   "outputs": [],
   "source": [
    "if __name__ == \"__main__\":\n",
    "    for i in range(3):\n",
    "        try:\n",
    "            d = 10/i\n",
    "        except ZeroDivisionError:\n",
    "            print(f'Divisao por zero para i = {i}')\n",
    "        else:\n",
    "            print(f'Divisao por {i} efetuada sem erros')\n",
    "        finally:\n",
    "            print(f'Fim do try para i = {i}')\n"
   ]
  },
  {
   "cell_type": "markdown",
   "metadata": {},
   "source": [
    "\n",
    "## Relançar exceções \n",
    "No código a seguir, o operador ```+``` (```__add__```) captura a excepção quando ```outro``` não é um complexo e relança a exceção."
   ]
  },
  {
   "cell_type": "code",
   "execution_count": null,
   "metadata": {},
   "outputs": [],
   "source": [
    "class Complexo:\n",
    "\tdef __init__(self, re=0.0, im=0.0):\n",
    "\t\tself.re = re\n",
    "\t\tself.im = im\n",
    "\n",
    "\tdef __repr__(self):\n",
    "\t\ts = ''\n",
    "\t\tif self.im >= 0:\n",
    "\t\t\ts = '{} + {}j'.format(self.re, self.im)\n",
    "\t\telse:\n",
    "\t\t\ts = '{} - {}j'.format(self.re, -self.im)\n",
    "\t\treturn s\n",
    "\n",
    "\tdef __add__(self, outro):\n",
    "\t\ttry:\n",
    "\t\t\tres = Complexo()\n",
    "\t\t\tres.re = self.re + outro.re\n",
    "\t\t\tres.im = self.im + outro.im\n",
    "\t\t\treturn res\n",
    "\t\texcept AttributeError:\n",
    "\t\t\tprint('Exeção: outro deve ser do tipo Complexo')\n",
    "\t\t\traise # relaçar a exceção\n",
    "\n",
    "if __name__ == \"__main__\":\n",
    "\tc1 = Complexo(0.5, 0.3)\n",
    "\tc2 = Complexo(0.1, 0.1)\n",
    "\tprint('C1:')\n",
    "\tprint(c1)\n",
    "\tprint('C2:')\n",
    "\tprint(c2)\n",
    "\tprint(f'C3: {c1+c2}'.format(c1 + c2))\n",
    "\tprint(f'C4: {c1 + 2}')"
   ]
  },
  {
   "cell_type": "markdown",
   "metadata": {},
   "source": [
    "Alternativamente, o método poderia imprimir uma mensagem e retornar o nr. complexo igual a 0\n",
    "\n",
    "```\n",
    "def __add__(self, outro):\n",
    "    try:\n",
    "      res = Complexo()\n",
    "      res.re = self._re + outro.re\n",
    "      res.im = self._im + outro.im\n",
    "      return res\n",
    "    except AttributeError:\n",
    "      print(`Excecao: outro deve ser do tipo Complexo')\n",
    "      print(`Retornando nr. complexo igual a 0')\n",
    "      return Complexo(0, 0)\n",
    "```\n",
    "  "
   ]
  },
  {
   "cell_type": "markdown",
   "metadata": {},
   "source": [
    "## Lista de parâmetros variável\n",
    "\n"
   ]
  },
  {
   "cell_type": "code",
   "execution_count": null,
   "metadata": {},
   "outputs": [],
   "source": [
    "# Lista de parâmetros variáveis\n",
    "def f(x, *y):\n",
    "    '''Calcula x * sum(y1,...,yn)'''\n",
    "    print(f'Parametros do sumatório: {y}')\n",
    "    # y é uma tupla com os valores fornecidos como parâmetros\n",
    "    return x * sum(y)\n",
    "\n",
    "print(f(5,1,2))\n",
    "print(f(5,1))\n",
    "print(f(5))\n",
    "l = [1,2,3,4,5,6]\n",
    "print(f(5, *l))\n",
    "\n",
    "print('---------------')\n",
    "# Lista de parâmetros com nomes\n",
    "def f(x, **opc):\n",
    "    '''\n",
    "    opções incluem:\n",
    "     - sumlist : lista de números para calcular o somatório \n",
    "     - fator: valor a ser multiplicado\n",
    "     - inv: se o resultado *= -1\n",
    "    '''\n",
    "    print(f'Parámetros: {opc}')\n",
    "    s=0\n",
    "    f=1\n",
    "    if 'sumlist' in opc:\n",
    "        s = sum(opc['sumlist'])\n",
    "    if 'fator' in opc:\n",
    "        f = opc['fator']\n",
    "    if 'inv' in opc and opc['inv']:\n",
    "        f *= -1\n",
    "    return x * f*s\n",
    "\n",
    "print(f(3))\n",
    "print(f(3, sumlist=[1,2,3]))\n",
    "print(f(3, sumlist=[1,2,3], inv=True))\n",
    "print(f(3, sumlist=[1,2,3], inv=True, fator=2))\n",
    "conf = {'sumlist':[1,2,3], 'fator':5}\n",
    "print(f(3,**conf))\n",
    "\n",
    "\n",
    "\n",
    "    \n",
    "          \n"
   ]
  },
  {
   "cell_type": "markdown",
   "metadata": {},
   "source": [
    "## Implementando Classes para Exceções\n"
   ]
  },
  {
   "cell_type": "code",
   "execution_count": null,
   "metadata": {},
   "outputs": [],
   "source": [
    "class ErroBasePessoa(Exception):\n",
    "    pass\n",
    "\n",
    "class ErroNome(ErroBasePessoa):\n",
    "    pass\n",
    "\n",
    "class Pessoa:\n",
    "    def __init__(self, nome=''):\n",
    "        self._nome = nome\n",
    "\n",
    "    @property\n",
    "    def nome(self):\n",
    "        return self._nome\n",
    "    \n",
    "    @nome.setter\n",
    "    def nome(self, x):\n",
    "        if type(x) == str:\n",
    "            self._nome = x\n",
    "        else:\n",
    "            # Note que o construtor recebe qualquer número de parâmetros\n",
    "            raise ErroNome('Excecao: x precisa ser do tipo str', x, 'terceiro parametro', 4)\n",
    "\n",
    "if __name__ == \"__main__\":\n",
    "    p = Pessoa()\n",
    "    try:\n",
    "        p.nome = (1, 2, 3)\n",
    "        print(f'Nome: {p.nome}')\n",
    "    except ErroNome as err: # captura erro como um objeto\n",
    "        print(err.args)\n"
   ]
  },
  {
   "cell_type": "markdown",
   "metadata": {},
   "source": [
    "\n",
    "\n",
    "## Obtendo Informações da Execução do Programa\n",
    "\n",
    "- É possível obter informações da execução do programa\n",
    "  dentro de uma cláusula ```except```\n",
    "- Estas informações podem conter, por exemplo, o nome\n",
    "  do arquivo e número da linha onde ocorreu a exceção\n",
    "  sendo tratada"
   ]
  },
  {
   "cell_type": "code",
   "execution_count": null,
   "metadata": {},
   "outputs": [],
   "source": [
    "import sys, traceback\n",
    "try:\n",
    "    raise Exception()\n",
    "except:\n",
    "    traceback.print_exc()\n",
    "    exc_type, exc_obj, exc_tb = sys.exc_info()\n",
    "    print(f'linha: {exc_tb.tb_lineno}')"
   ]
  },
  {
   "cell_type": "markdown",
   "metadata": {},
   "source": [
    "## Prática 3.1a - Livros e Biblioteca\n",
    "\n",
    "Um Livro contém como atributos um título, um ano e um código chamado ISBN.\n",
    "Uma biblioteca contém uma lista de livros e um método para cadastrar um livro na lista. Considerando que:\n",
    "\n",
    "- O título de um livro não pode ser a string vazia\n",
    "- O ano de um livro deve estar entre 1400 e 2100\n",
    "- O ISBN de um livro deve conter pelo menos 6 caracteres\n",
    "- O método `cadastra` da biblioteca deve informar erro se\n",
    "  o parâmetro não for um livro\n",
    "- Dois livros diferentes não podem conter o mesmo ISBN.\n",
    "  Note que dois livros com anos diferentes de mesmo título\n",
    "  são considerados livros diferentes.\n",
    "- A biblioteca não pode armazenar um mesmo livro mais de uma vez.\n",
    "\n",
    "Implemente o sistema, com lançamento de exceções nos casos indicados.\n",
    "Para isto, defina uma classe exceção base para o módulo e uma classe exceção derivada da exceção base para cada situação de erro prevista.\n",
    "Então, implemente getters/setters (com `property`) de forma que as checagens sejam realizadas em cada `set`.\n",
    "\n",
    "O bloco `__main__` do programa deve instanciar livros e uma biblioteca. Na instanciação dos livros, as exceções devem ser\n",
    "tratadas pedindo ao usuário que insira novamente os dados\n",
    "com problemas (comando `input`).\n",
    "Isto simularia o que ocorre com uma interface gráfica, em que\n",
    "uma mensagem de erro seria emitida ao usuário\n",
    "e este cadastraria novamente o item.\n",
    "\n",
    "Não trate as exceções no cadastro dos livros na biblioteca, ou\n",
    "seja, o programa irá ser finalizado com as mensagens de erro\n",
    "programadas para cada situação.\n",
    "\n",
    "Observe a execução do programa a seguir como um exemplo de como o seu programa deve funcionar."
   ]
  },
  {
   "cell_type": "markdown",
   "metadata": {},
   "source": [
    "```\n",
    "# dentro de um bloco try:\n",
    "l1 = Livro()\n",
    "l1.titulo = ''\n",
    "\n",
    "# as seguintes mensagens serão impressas:\n",
    ">ExcecaoTituloLivro: Título do livro deve ser uma string não vazia\n",
    ">Insira um novo título para o livro:\n",
    "\n",
    "```"
   ]
  },
  {
   "cell_type": "code",
   "execution_count": null,
   "metadata": {},
   "outputs": [],
   "source": [
    "```"
   ]
  }
 ],
 "metadata": {
  "kernelspec": {
   "display_name": "Python 3 (ipykernel)",
   "language": "python",
   "name": "python3"
  },
  "language_info": {
   "codemirror_mode": {
    "name": "ipython",
    "version": 3
   },
   "file_extension": ".py",
   "mimetype": "text/x-python",
   "name": "python",
   "nbconvert_exporter": "python",
   "pygments_lexer": "ipython3",
   "version": "3.9.7"
  }
 },
 "nbformat": 4,
 "nbformat_minor": 2
}
