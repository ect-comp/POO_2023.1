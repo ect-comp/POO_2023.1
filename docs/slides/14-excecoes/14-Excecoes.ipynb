{
 "cells": [
  {
   "cell_type": "markdown",
   "metadata": {},
   "source": [
    "# Aula 14 - Erros e Exceções\n",
    "\n",
    "Este documento mostra como trabalhar com exceções em Python.\n",
    "\n",
    "## 1. Levantando Exceções em Python\n",
    "\n",
    "Comando `raise`: levanta uma exceção de uma determinada classe, imprimindo uma dada mensagem passada no inicializador do objeto.\n",
    "\n",
    "A lista de classes de exceções predefinidas em Python está [aqui](https://docs.python.org/3/library/exceptions.html)."
   ]
  },
  {
   "cell_type": "code",
   "execution_count": null,
   "metadata": {},
   "outputs": [],
   "source": [
    "raise TypeError('Erro de atribuição de tipo') # Levanta erro TypeError"
   ]
  },
  {
   "cell_type": "code",
   "execution_count": null,
   "metadata": {},
   "outputs": [],
   "source": [
    "raise NameError('Erro de nome desconhecido') # Levanta erro NameError"
   ]
  },
  {
   "cell_type": "markdown",
   "metadata": {},
   "source": [
    "O código a seguir lança exceção quando ocorre divisão por zero."
   ]
  },
  {
   "cell_type": "code",
   "execution_count": null,
   "metadata": {},
   "outputs": [],
   "source": [
    "def inv(n):\n",
    "    '''Função para inverter um número (n não pode ser zero).'''\n",
    "    if n == 0:\n",
    "        raise ZeroDivisionError('Erro de divisão por zero')\n",
    "    else:\n",
    "        return 1 / n\n",
    "\n",
    "def main():\n",
    "    print(inv(4))\n",
    "    print(inv(0)) # levanta exceção"
   ]
  },
  {
   "cell_type": "markdown",
   "metadata": {},
   "source": [
    "O código a seguir lança exceção quando um depósito é realizado\n",
    "com valor inválido."
   ]
  },
  {
   "cell_type": "code",
   "execution_count": null,
   "metadata": {},
   "outputs": [],
   "source": [
    "class Conta:\n",
    "    def __init__(self):\n",
    "        self.__saldo = 0\n",
    "\n",
    "    def deposito(self, v):\n",
    "        '''Deposito: v > 0'''\n",
    "        if v <= 0:\n",
    "            raise ValueError(\"Valor de depósito não válido\")\n",
    "        else:\n",
    "            self.__saldo += v\n",
    "\n",
    "def main():\n",
    "    c = Conta()\n",
    "    c.deposito(3)\n",
    "    c.deposito(5)\n",
    "    c.deposito(0) # ValueError\n",
    "            \n",
    "if __name__ == '__main__':\n",
    "    main()"
   ]
  },
  {
   "cell_type": "markdown",
   "metadata": {},
   "source": [
    "## 2. Tratando Exceções em Python\n",
    "\n",
    "O tratamento de uma exceção é o trecho de código responsável\n",
    "por fazer o programa se recuperar da exceção detectada.\n",
    "\n",
    "Para isto, o bloco de código que pode lançar exceções é colocado\n",
    "dentro da cláusula `try`, enquanto o código responsável por tratar\n",
    "a exceção lançada deve está dentro da cláusula `except`.\n",
    "\n",
    "A cláusula `try` contém um bloco de código que _pode_ levantar exceções.\n",
    "Ela __tenta__ executar o bloco de comando nela contido. \n",
    "- Se uma exceção for levantada por uma das linhas dentro do `try`,\n",
    "  o fluxo do programa é _redirecionado_ para a cláusula `except`\n",
    "- As linhas do bloco `try` situadas após a linha de comando que levantou\n",
    "  a exceção __não são executadas__"
   ]
  },
  {
   "cell_type": "code",
   "execution_count": null,
   "metadata": {},
   "outputs": [],
   "source": [
    "class Pessoa:\n",
    "    def __init__(self, nome=''):\n",
    "        self._nome = nome\n",
    "\n",
    "    @property\n",
    "    def nome(self):\n",
    "        return self._nome\n",
    "    \n",
    "    @nome.setter\n",
    "    def nome(self, x):\n",
    "        '''x deve ser do tipo str'''\n",
    "        if type(x) == str:\n",
    "            self._nome = x\n",
    "        else:\n",
    "            raise TypeError('Exceção: x precisa ser do tipo str')\n",
    "\n",
    "def main():\n",
    "    p = Pessoa()\n",
    "    try:\n",
    "        n = 3\n",
    "        p.nome = n # irá levantar erro, já que n não é str\n",
    "    except: # cláusula de tratamento de erros:\n",
    "        print('Ocorreu um erro na leitura dos dados') # imprime uma mensagem\n",
    "        print('Atribuindo nome padrão') # atribui um nome padrão para pessoa#\n",
    "        p.nome = 'sem nome'\n",
    "    print(f'Nome: {p.nome}')\n",
    "            \n",
    "if __name__ == \"__main__\":\n",
    "    main()"
   ]
  },
  {
   "cell_type": "markdown",
   "metadata": {},
   "source": [
    "O programa acima levanta uma exceção do tipo `TypeError` na classe `Pessoa`.\n",
    "No bloco `main`, esta exceção é tratada.\n",
    "Uma exceção do tipo `TypeError` denota, dentre outras coisas,\n",
    "um parâmetro com tipo não válido."
   ]
  },
  {
   "cell_type": "markdown",
   "metadata": {},
   "source": [
    "### 2.1 Tratando Exceções Específicas e Genéricas\n",
    "\n",
    "É possível utilizar várias cláusulas `Except`, sendo uma\n",
    "para cada tipo de exceção que pode ocorrer no código.\n",
    "Entretanto, apenas um `Except` é executado por lançamento\n",
    "de exceção (o que corresponder primeiro ao tipo de exceção\n",
    "lançada). Por isto, exceções mais específicas devem vir antes de exceções mais genéricas.\n",
    "\n",
    "Observe a hierarquia das exceções no código a seguir e perceba\n",
    "que `Exception` (a classe base de exceção) está por último."
   ]
  },
  {
   "cell_type": "code",
   "execution_count": null,
   "metadata": {},
   "outputs": [],
   "source": [
    "class Pessoa:\n",
    "    def __init__(self, nome=''):\n",
    "        self._nome = nome\n",
    "\n",
    "    @property\n",
    "    def nome(self):\n",
    "        return self._nome\n",
    "\n",
    "    @nome.setter\n",
    "    def nome(self, n):\n",
    "        if type(n) == str:\n",
    "            self._nome = n\n",
    "        else:\n",
    "            raise TypeError('Exceçao: n precisa ser do tipo str')\n",
    "\n",
    "def main():\n",
    "    p = Pessoa()\n",
    "    try:\n",
    "        p.nome = 15 # erro: levantado no setter de nome\n",
    "        print(f'Nome: {p.nome}, sobrenome: {p.sobrenome}') # erro: atributo inexistente\n",
    "                                                           # pode lenvantar AttributeError\n",
    "                                                           # ou Exception, dependendo da ordem\n",
    "    except TypeError:\n",
    "        print('Erro no tipo de valores atribuídos')\n",
    "    #except AttributeError:\n",
    "    #    print('Erro acessando atributo inexistente')\n",
    "    except Exception:\n",
    "        print('Erro qualquer')\n",
    "            \n",
    "if __name__ == \"__main__\":\n",
    "    main()"
   ]
  },
  {
   "cell_type": "markdown",
   "metadata": {},
   "source": [
    "Se a exceção não for tratada pelo programa, o tratamento padrão da linguagem Python é executado: imprimir a mensagem de erro na tela e encerrar o programa. O código a seguir apenas trata exceções do tipo `TypeError`; para qualquer outra, é realizado o tratamento padrão."
   ]
  },
  {
   "cell_type": "code",
   "execution_count": 3,
   "metadata": {},
   "outputs": [
    {
     "name": "stdout",
     "output_type": "stream",
     "text": [
      "Erro no tipo de valores atribuídos\n"
     ]
    }
   ],
   "source": [
    "class Pessoa:\n",
    "    def __init__(self, nome=''):\n",
    "        self._nome = nome\n",
    "\n",
    "    @property\n",
    "    def nome(self):\n",
    "        return self._nome\n",
    "\n",
    "    @nome.setter\n",
    "    def nome(self, n):\n",
    "        if type(n) == str:\n",
    "            self._nome = n\n",
    "        else:\n",
    "            raise TypeError('Excecao: n precisa ser do tipo str')\n",
    "\n",
    "def main():\n",
    "    p = Pessoa()\n",
    "    try:\n",
    "        p.nome = 15 # erro: neste caso, será tratado\n",
    "        print(f'Nome: {p.nome}, sobrenome: {p.sobrenome}') # erro: é executado o tratamento padrão\n",
    "    except TypeError:\n",
    "        print('Erro no tipo de valores atribuídos')\n",
    "            \n",
    "if __name__ == \"__main__\":\n",
    "    main()\n",
    "    "
   ]
  },
  {
   "cell_type": "markdown",
   "metadata": {},
   "source": [
    "### 2.2 Except as object\n",
    "\n",
    "É possível capturar uma exceção como um objeto\n",
    "utilizando `as <nome_do_objeto>`.\n",
    "Isto permite acessar informações do erro levantado\n",
    "contidas no objeto, como a seguir."
   ]
  },
  {
   "cell_type": "code",
   "execution_count": 4,
   "metadata": {},
   "outputs": [
    {
     "name": "stdout",
     "output_type": "stream",
     "text": [
      "('Excecao: n precisa ser do tipo str', 3)\n",
      "Excecao: n precisa ser do tipo str\n",
      "3\n"
     ]
    }
   ],
   "source": [
    "class Pessoa:\n",
    "    def __init__(self, nome=''):\n",
    "        self._nome = nome\n",
    "\n",
    "    @property\n",
    "    def nome(self):\n",
    "        return self._nome\n",
    "    \n",
    "    @nome.setter\n",
    "    def nome(self, n):\n",
    "        if type(n) == str:\n",
    "            self._nome = n\n",
    "        else:\n",
    "            raise TypeError('Excecao: n precisa ser do tipo str', n)\n",
    "\n",
    "def main():\n",
    "    p = Pessoa()\n",
    "    try:\n",
    "        p.nome = 3\n",
    "    except Exception as err: # captura exceção como objeto 'err'\n",
    "        print(err) # imprime informações sobre o objeto exceção\n",
    "        print(err.args[0])\n",
    "        print(err.args[1])\n",
    "            \n",
    "if __name__ == \"__main__\":\n",
    "    main()"
   ]
  },
  {
   "cell_type": "markdown",
   "metadata": {},
   "source": [
    "### 2.3 Cláusula `else`\n",
    "\n",
    "Em Python, o block `try...except` também pode possuir\n",
    "uma cláusula `else`.\n",
    "O `else` é executado quando não há exceções capturadas.\n",
    "\n",
    "Isto é útil quando um bloco de código deve ser executado\n",
    "quando não houver exceções.\n",
    "Esta cláusula deve vir após o último `except`, como mostrado\n",
    "a seguir."
   ]
  },
  {
   "cell_type": "code",
   "execution_count": null,
   "metadata": {},
   "outputs": [],
   "source": [
    "class Pessoa:\n",
    "    def __init__(self, nome=''):\n",
    "        self._nome = nome\n",
    "\n",
    "    @property\n",
    "    def nome(self):\n",
    "        return self._nome\n",
    "    \n",
    "    @nome.setter\n",
    "    def nome(self, n):\n",
    "        if type(n) == str:\n",
    "            self._nome = n\n",
    "        else:\n",
    "            raise TypeError('Excecao: n precisa ser do tipo str')\n",
    "\n",
    "def main():\n",
    "    p = Pessoa()\n",
    "    try:\n",
    "        n = (1,2,3)\n",
    "        p.nome = n\n",
    "    except Exception as err:\n",
    "        print(err)\n",
    "    else:\n",
    "        print(f'Nome: {p.nome}') # imprime apenas quando não há exceção\n",
    "    print('Fim do programa')\n",
    "            \n",
    "if __name__ == \"__main__\":\n",
    "    main()\n"
   ]
  },
  {
   "cell_type": "markdown",
   "metadata": {},
   "source": [
    "### 2.4 Cláusula `finally`\n",
    "\n",
    "Python também possui a cláusula `finally`,\n",
    "que deve conter código relacionado ao bloco\n",
    "`try` a ser executado independentemente se\n",
    "houve ou não exceção.\n",
    "\n",
    "Isto é útil para limpar recursos utilizados\n",
    "(ex.: fechar arquivos, encerrar conexões, etc.).\n",
    "\n",
    "Um uso do `finally` é mostrado a seguir."
   ]
  },
  {
   "cell_type": "code",
   "execution_count": null,
   "metadata": {},
   "outputs": [],
   "source": [
    "class Pessoa:\n",
    "    def __init__(self, nome=''):\n",
    "        self._nome = nome\n",
    "\n",
    "    @property\n",
    "    def nome(self):\n",
    "        return self._nome\n",
    "    \n",
    "    @nome.setter\n",
    "    def nome(self, n):\n",
    "        if type(n) == str:\n",
    "            self._nome = n\n",
    "        else:\n",
    "            raise TypeError('Excecao: n precisa ser do tipo str')\n",
    "\n",
    "def main():\n",
    "    p = Pessoa()\n",
    "    try:\n",
    "        n = (1,2,3)\n",
    "        p.nome = n\n",
    "    except Exception as err:\n",
    "        print(f'Erro: {err}')\n",
    "    else:\n",
    "        print('Sem erros')\n",
    "    finally:\n",
    "        print('Executando finally, independentemente de erros')\n",
    "    print('Fim do programa')\n",
    "            \n",
    "if __name__ == \"__main__\":\n",
    "    main()\n"
   ]
  },
  {
   "cell_type": "markdown",
   "metadata": {},
   "source": [
    "### 2.5 `try... except` com `else` e `finally`\n",
    "\n",
    "Em resumo, o funcionamento das cláusulas\n",
    "```try```, ```except```, ```else``` e ```finally```\n",
    "podem ser vistos no exemplo mostrado a seguir."
   ]
  },
  {
   "cell_type": "code",
   "execution_count": null,
   "metadata": {},
   "outputs": [],
   "source": [
    "def main():\n",
    "    for i in range(3):\n",
    "        try:\n",
    "            d = 10/i\n",
    "        except ZeroDivisionError:\n",
    "            print(f'Divisao por zero para i = {i}')\n",
    "        else:\n",
    "            print(f'Divisao por {i} efetuada sem erros')\n",
    "        finally:\n",
    "            print(f'Fim do try para i = {i}')\n",
    "\n",
    "if __name__ == \"__main__\":\n",
    "    main()"
   ]
  },
  {
   "cell_type": "markdown",
   "metadata": {},
   "source": [
    "## 3. Relançando Exceções \n",
    "\n",
    "No código a seguir, o operador `+` (`__add__`) captura\n",
    "a excepção quando `outro` não é um complexo e relança a exceção.\n",
    "\n",
    "Observe que, em relação aos outros exemplos, o `try.. except` está\n",
    "dentro da classe e não na função `main`."
   ]
  },
  {
   "cell_type": "code",
   "execution_count": null,
   "metadata": {},
   "outputs": [],
   "source": [
    "class Complexo:\n",
    "    def __init__(self, re=0.0, im=0.0):\n",
    "        self.re = re\n",
    "        self.im = im\n",
    "\n",
    "    def __repr__(self):\n",
    "        s = ''\n",
    "        if self.im >= 0:\n",
    "            s = '{} + {}j'.format(self.re, self.im)\n",
    "        else:\n",
    "            s = '{} - {}j'.format(self.re, -self.im)\n",
    "        return s\n",
    "\n",
    "    def __add__(self, outro):\n",
    "        try:\n",
    "            res = Complexo()\n",
    "            res.re = self.re + outro.re\n",
    "            res.im = self.im + outro.im\n",
    "            return res\n",
    "        except AttributeError:\n",
    "            print('Exceção: outro deve ser do tipo Complexo')\n",
    "            raise # relança a exceção -> pode ser tratada em outra parte do programa\n",
    "\n",
    "def main():\n",
    "    c1 = Complexo(0.5, 0.3)\n",
    "    c2 = Complexo(0.1, 0.1)\n",
    "    print('C1:')\n",
    "    print(c1)\n",
    "    print('C2:')\n",
    "    print(c2)\n",
    "    print(f'C3: {c1 + c2}')\n",
    "    print(f'C4: {c1 + 2}')\n",
    "            \n",
    "if __name__ == \"__main__\":\n",
    "    main()"
   ]
  },
  {
   "cell_type": "markdown",
   "metadata": {},
   "source": [
    "Alternativamente, o método poderia imprimir uma mensagem e retornar o nr. complexo igual a 0\n",
    "\n",
    "```\n",
    "def __add__(self, outro):\n",
    "    try:\n",
    "      res = Complexo()\n",
    "      res.re = self._re + outro.re\n",
    "      res.im = self._im + outro.im\n",
    "      return res\n",
    "    except AttributeError:\n",
    "      print('Excecao: outro deve ser do tipo Complexo')\n",
    "      print('Retornando nr. complexo igual a 0')\n",
    "      return Complexo(0, 0)\n",
    "```"
   ]
  },
  {
   "cell_type": "markdown",
   "metadata": {},
   "source": [
    "## 4. Implementando Classes para Exceções\n",
    "\n",
    "Em Python, é fácil definir uma nova classe de exceção\n",
    "que represente uma situação de erro específica a um domínio\n",
    "de problema.\n",
    "\n",
    "Para isto, basta definir uma classe com corpo em branco\n",
    "que herde da classe base `Exception`, como mostrado a seguir."
   ]
  },
  {
   "cell_type": "code",
   "execution_count": null,
   "metadata": {},
   "outputs": [],
   "source": [
    "class MinhaExcecao(Exception):\n",
    "    pass"
   ]
  },
  {
   "cell_type": "markdown",
   "metadata": {},
   "source": [
    "Uma boa prática em Python é definir uma exceção base\n",
    "para o módulo e então fazer as exceções específicas\n",
    "do domínio do problema herdarem da exceção base.\n",
    "\n",
    "Ao fazer isto, a classe que denota um tipo específico\n",
    "de exceção do seu programa possui os mesmos atributos\n",
    "de `Exception`."
   ]
  },
  {
   "cell_type": "code",
   "execution_count": null,
   "metadata": {},
   "outputs": [],
   "source": [
    "# Classe exceção base do módulo\n",
    "class ErroBasePessoa(Exception):\n",
    "    pass\n",
    "\n",
    "# Classe exceção específica: erro no nome\n",
    "class ErroNome(ErroBasePessoa):\n",
    "    pass\n",
    "\n",
    "class Pessoa:\n",
    "    def __init__(self, nome=''):\n",
    "        self._nome = nome\n",
    "\n",
    "    @property\n",
    "    def nome(self):\n",
    "        return self._nome\n",
    "    \n",
    "    @nome.setter\n",
    "    def nome(self, x):\n",
    "        if type(x) == str:\n",
    "            self._nome = x\n",
    "        else:\n",
    "            raise ErroNome('Excecao: x precisa ser do tipo str')\n",
    "\n",
    "def main():\n",
    "    p = Pessoa()\n",
    "    try:\n",
    "        p.nome = (1, 2, 3)\n",
    "        print(f'Nome: {p.nome}')\n",
    "    except ErroNome as err: # captura erro como um objeto\n",
    "        print(err)\n",
    "            \n",
    "if __name__ == \"__main__\":\n",
    "    main()"
   ]
  },
  {
   "cell_type": "markdown",
   "metadata": {},
   "source": [
    "## 5. Extras\n",
    "\n",
    "### 5.1 Passando Parâmetros para o objeto `Exception`\n",
    "\n",
    "A inicialização do objeto `Exception` pode ser feita\n",
    "com quantos parâmetros forem necessários.\n",
    "\n",
    "Os parâmetros passados no inicializador são armazenados\n",
    "no atributo `args` (que tem tipo tupla) do objeto\n",
    "`Exception`.\n",
    "\n",
    "Observe o exemplo a seguir."
   ]
  },
  {
   "cell_type": "code",
   "execution_count": null,
   "metadata": {},
   "outputs": [],
   "source": [
    "E = Exception('parametro0',2,['a','b','c'])\n",
    "print(E.args[2][1])"
   ]
  },
  {
   "cell_type": "markdown",
   "metadata": {},
   "source": [
    "### 5.2 Obtendo Informações da Execução do Programa\n",
    "\n",
    "É possível obter informações da execução do programa\n",
    "dentro de uma cláusula ```except```.\n",
    "Estas informações podem conter, por exemplo, o nome\n",
    "do arquivo e número da linha onde ocorreu a exceção\n",
    "sendo tratada.\n",
    "\n",
    "O exemplo a seguir ilustra esta situação."
   ]
  },
  {
   "cell_type": "code",
   "execution_count": null,
   "metadata": {},
   "outputs": [],
   "source": [
    "import sys, traceback\n",
    "try:\n",
    "    raise Exception()\n",
    "except:\n",
    "    traceback.print_exc()\n",
    "    exc_type, exc_obj, exc_tb = sys.exc_info()\n",
    "    print(f'Erro na linha: {exc_tb.tb_lineno}')"
   ]
  },
  {
   "cell_type": "markdown",
   "metadata": {},
   "source": [
    "## Exercício de Fixação - Exceções em Números Complexos\n",
    "\n",
    "Considere a classe que representa um número complexo dada a seguir:"
   ]
  },
  {
   "cell_type": "code",
   "execution_count": null,
   "metadata": {},
   "outputs": [],
   "source": [
    "class Complexo:\n",
    "    def __init__(self, re, im):\n",
    "        self.re = re\n",
    "        self.im = im\n",
    "        \n",
    "    def __repr__(self):\n",
    "        if self.im >= 0:\n",
    "            return f'{self.re} +{self.im}i'\n",
    "        else:\n",
    "            return f'{self.re} {self.im}i'\n",
    "    \n",
    "    def __add__(self, outro):\n",
    "        if type(outro) != Complexo:\n",
    "            print('Erro: soma deve ser realizada com nr. complexo')\n",
    "        else:\n",
    "            return Complexo(self.re + outro.re, self.im + outro.im)\n",
    "\n",
    "    def __mul__(self, outro):\n",
    "        if type(outro) in (int, float):\n",
    "            return Complexo(outro*self.re, outro*self.im)\n",
    "        if type(outro) == Complexo:\n",
    "            return Complexo(self.re*outro.re - self.im*outro.im,\n",
    "                            self.re*outro.im + outro.re*self.im)\n",
    "        else:\n",
    "            print('Erro: multiplicação deve ser realizada com escalar ou nr. complexo')\n",
    "        \n",
    "    def __getitem__(self, p):\n",
    "        if type(p) != int:\n",
    "            print('Erro: índice deve ser nr. inteiro')\n",
    "        else:\n",
    "            if p == 0:\n",
    "                return self.re\n",
    "            elif p == 1:\n",
    "                return self.im\n",
    "            else:\n",
    "                print('Erro: índice deve ser 0 ou 1')\n",
    "    \n",
    "def main():\n",
    "    c1 = Complexo(6.0, 3.0)\n",
    "    c2 = Complexo(4.0, -3.0)\n",
    "    c3 = c1 + 5 # ErroSoma\n",
    "    print(f'Parte real: {c3[0]}, parte imaginária: {c3[10]}') # ErroVetor\n",
    "    c4 = c1*'c2' #ErroMultiplicacao\n",
    "    print(c4)\n",
    "    \n",
    "if __name__ == \"__main__\":\n",
    "    main()"
   ]
  },
  {
   "cell_type": "markdown",
   "metadata": {},
   "source": [
    "Observe que a classe `Complexo` possui apenas `print` para possíveis erros, sendo eles:\n",
    "- Utilizar o operador `+` com um objeto que não seja `Complexo`\n",
    "- Utilizar o operador `*` com um objeto que não seja `int`, `float` e nem `Complexo`\n",
    "- Utilizar o operador `[]` com índices que não sejam nem `0` e nem `1` (`0` retorna a parte real e `1` a parte imaginária do número)\n",
    "\n",
    "Então:\n",
    "\n",
    "1. Implemente classes de exceções para o seu domínio de problema, que devem ser `ErroSoma`, `ErroVetor` e `ErroMultiplicacao`, para cada uma das situações apontadas acima (nesta ordem)\n",
    "2. Substitua as mensagens de `print` pelos levantamentos adequados de exceções\n",
    "3. No bloco `__main__`, trate exceções lançadas com `try.. except`. O tratamento deve apenas imprimir as mensagens de erro"
   ]
  },
  {
   "cell_type": "code",
   "execution_count": null,
   "metadata": {},
   "outputs": [],
   "source": []
  }
 ],
 "metadata": {
  "kernelspec": {
   "display_name": "Python 3 (ipykernel)",
   "language": "python",
   "name": "python3"
  },
  "language_info": {
   "codemirror_mode": {
    "name": "ipython",
    "version": 3
   },
   "file_extension": ".py",
   "mimetype": "text/x-python",
   "name": "python",
   "nbconvert_exporter": "python",
   "pygments_lexer": "ipython3",
   "version": "3.9.7"
  }
 },
 "nbformat": 4,
 "nbformat_minor": 2
}
