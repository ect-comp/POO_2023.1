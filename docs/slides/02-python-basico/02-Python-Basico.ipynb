{
 "cells": [
  {
   "cell_type": "markdown",
   "metadata": {},
   "source": [
    "# Aula 2 - Python Básico\n",
    "\n",
    "Neste documento serão apresentados comandos básicos em Python."
   ]
  },
  {
   "cell_type": "markdown",
   "metadata": {},
   "source": [
    "## 1. Terminal Python\n",
    "\n",
    "O terminal Python pode ser utilizado como uma calculadora interativa,\n",
    "imprimindo o resultado para cada comando. Por exemplo:"
   ]
  },
  {
   "cell_type": "code",
   "execution_count": 1,
   "metadata": {},
   "outputs": [
    {
     "data": {
      "text/plain": [
       "120"
      ]
     },
     "execution_count": 1,
     "metadata": {},
     "output_type": "execute_result"
    }
   ],
   "source": [
    "3 * 40"
   ]
  },
  {
   "cell_type": "code",
   "execution_count": 4,
   "metadata": {},
   "outputs": [
    {
     "data": {
      "text/plain": [
       "5"
      ]
     },
     "execution_count": 4,
     "metadata": {},
     "output_type": "execute_result"
    }
   ],
   "source": [
    "x = 2\n",
    "y = 3\n",
    "x + y #isto é um comentário em Python"
   ]
  },
  {
   "cell_type": "markdown",
   "metadata": {},
   "source": [
    "## 2. Declaração de Variáveis\n",
    "\n",
    "Variáveis em Python assumem um tipo de acordo com o valor atribuído.\n",
    "Utilize a função da biblioteca ```type``` para saber o tipo de uma variável."
   ]
  },
  {
   "cell_type": "code",
   "execution_count": 2,
   "metadata": {},
   "outputs": [
    {
     "name": "stdout",
     "output_type": "stream",
     "text": [
      "0\n"
     ]
    },
    {
     "data": {
      "text/plain": [
       "bool"
      ]
     },
     "execution_count": 2,
     "metadata": {},
     "output_type": "execute_result"
    }
   ],
   "source": [
    "x = 5 #declara um inteiro (int)\n",
    "y = 3.1415 #declara um real (float)\n",
    "z = int() #assim também declara um inteiro, inicializando com 0\n",
    "flag = True #declara um booleano (bool), que também pode assumir valor False\n",
    "carac = 'a' #declara uma string (str)\n",
    "palavra1 = 'aula de poo' #Python não difere entre char e str; tanto faz utilizar aspas simples ou duplas\n",
    "palavra2 = \"outra string\"\n",
    "palavra3 = '''terceira string''' #também aceito desta forma\n",
    "type(flag)"
   ]
  },
  {
   "cell_type": "markdown",
   "metadata": {},
   "source": [
    "### Conversão entre tipos\n",
    "\n",
    "Utilize as funções com o nome do tipo correspondente para converter variáveis de um tipo em um outro"
   ]
  },
  {
   "cell_type": "code",
   "execution_count": 24,
   "metadata": {},
   "outputs": [
    {
     "data": {
      "text/plain": [
       "int"
      ]
     },
     "execution_count": 24,
     "metadata": {},
     "output_type": "execute_result"
    }
   ],
   "source": [
    "s = '50' #string\n",
    "x = int(s) #converte string s para int e atribui resultado a x\n",
    "type(x)"
   ]
  },
  {
   "cell_type": "markdown",
   "metadata": {},
   "source": [
    "Em Python, existe a conversão implícita (assim como em C++)"
   ]
  },
  {
   "cell_type": "code",
   "execution_count": 26,
   "metadata": {},
   "outputs": [
    {
     "data": {
      "text/plain": [
       "float"
      ]
     },
     "execution_count": 26,
     "metadata": {},
     "output_type": "execute_result"
    }
   ],
   "source": [
    "a = 10 #a é int\n",
    "b = 1.333 #b é float\n",
    "c = a + b #qual o tipo de c?\n",
    "type(c)"
   ]
  },
  {
   "cell_type": "markdown",
   "metadata": {},
   "source": [
    "# 3. Operadores\n",
    "\n",
    "### Operadores aritméticos\n",
    "\n",
    "- Adição: ```+```\n",
    "- Subtração: ```-```\n",
    "- Multiplicação: ```*```\n",
    "- Divisão: ```/```\n",
    "- Divisão inteira: ```//``` (divide e aplica a função ```floor``` no resultado)\n",
    "- Resto da divisão: ```%```\n",
    "- Exponenciação: ```**```\n",
    "- Raíz quadrada: função ```sqrt``` (é preciso importar o módulo ```math```)\n",
    "- Atribuição e operação: ```+=, -=, ``` etc.\n",
    "\n",
    "Em comparação com C/C++:\n",
    "\n",
    "- Existe o operador de divisão inteira\n",
    "- O operador de resto funciona com ```float```\n",
    "- Existe um operador para potência ao invés de uma função\n",
    "- Não existe o operador de incremento/decremento"
   ]
  },
  {
   "cell_type": "code",
   "execution_count": 30,
   "metadata": {},
   "outputs": [
    {
     "data": {
      "text/plain": [
       "25"
      ]
     },
     "execution_count": 30,
     "metadata": {},
     "output_type": "execute_result"
    }
   ],
   "source": [
    "a = 5\n",
    "b = 2\n",
    "a + b\n",
    "a - b\n",
    "a/b\n",
    "a//b\n",
    "a**b"
   ]
  },
  {
   "cell_type": "code",
   "execution_count": 1,
   "metadata": {},
   "outputs": [
    {
     "name": "stdout",
     "output_type": "stream",
     "text": [
      "4.0\n"
     ]
    }
   ],
   "source": [
    "import math # importa módulo com funções matemáticas\n",
    "\n",
    "print(math.sqrt(16))"
   ]
  },
  {
   "cell_type": "markdown",
   "metadata": {},
   "source": [
    "### Operadores relacionais\n",
    "\n",
    "- Igual: ```==```\n",
    "- Diferente: ```!=```\n",
    "- Maior: ```>```\n",
    "- Maior ou igual: ```>=```\n",
    "- Menor: ```<```\n",
    "- Menor ou igual: ```<=```\n",
    "\n",
    "Em comparação com C++, expressões como ```1 < 2 < 3 < 4``` funcionam em Python"
   ]
  },
  {
   "cell_type": "code",
   "execution_count": 32,
   "metadata": {},
   "outputs": [
    {
     "data": {
      "text/plain": [
       "True"
      ]
     },
     "execution_count": 32,
     "metadata": {},
     "output_type": "execute_result"
    }
   ],
   "source": [
    "1 < 2 < 3"
   ]
  },
  {
   "cell_type": "markdown",
   "metadata": {},
   "source": [
    "### Operadores lógicos\n",
    "\n",
    "- Negação: ```not```\n",
    "- E (conjunção): ```and```\n",
    "- Ou (disjunção): ```or```\n",
    "\n",
    "Interpretado como valor falso:\n",
    "\n",
    "- ```False```, ```0```, ```None```, ```\"\"``` (string vazia) e sequências vazias\n",
    "- `None` é o equivalente ao valor nulo (`NULL`) em Python\n",
    "\n",
    "Interpretado como valor verdadeiro:\n",
    "\n",
    "- Todo o resto"
   ]
  },
  {
   "cell_type": "markdown",
   "metadata": {},
   "source": [
    "### Precedência de operadores\n",
    "\n",
    "1. Operadores aritméticos\n",
    "2. Operadores relacionais\n",
    "3. Operadores lógicos\n",
    "\n",
    "Na dúvida, utilize parênteses ```()``` para construir expressões"
   ]
  },
  {
   "cell_type": "markdown",
   "metadata": {},
   "source": [
    "## 4. Comandos de Entrada e Saída\n",
    "\n",
    "### Saída: ```print```"
   ]
  },
  {
   "cell_type": "code",
   "execution_count": 3,
   "metadata": {},
   "outputs": [
    {
     "name": "stdout",
     "output_type": "stream",
     "text": [
      "joao\n",
      "20\n"
     ]
    }
   ],
   "source": [
    "nome = 'joao'\n",
    "idade = 20\n",
    "print(nome) # imprime o valor da variável passada como parâmetro\n",
    "print(idade) # observe que um '\\n' é acrescentado ao final automaticamente"
   ]
  },
  {
   "cell_type": "markdown",
   "metadata": {},
   "source": [
    "Saída formatada:\n",
    "\n",
    "- Estilo `printf` da linguagem C: `print(\"x eh %i, y eh %i\" % (x, y))`\n",
    "- Estilo Python: `print(\"x e {0}, y e {1}\".format(x, y))`\n",
    "- Estilo Python \"f-string\" (a partir de Python 3.6): `print(f'x e {x}')`"
   ]
  },
  {
   "cell_type": "code",
   "execution_count": 1,
   "metadata": {},
   "outputs": [
    {
     "name": "stdout",
     "output_type": "stream",
     "text": [
      "x é 5, y é 6\n",
      "y é 6, x é 5\n",
      "x é 5, y é 6\n",
      "x é 5, y é 6\n"
     ]
    }
   ],
   "source": [
    "x = 5\n",
    "y = 6\n",
    "print(\"x é {0}, y é {1}\".format(x, y)) # os números entre chaves denotam índices dos parâmetros (0 é o primeiro parâmetro do format, 1 é o segundo, etc.)\n",
    "print(\"y é {1}, x é {0}\".format(x, y))\n",
    "print(\"x é {}, y é {}\".format(x, y)) # caso os números sejam omitidos, os parâmetros são tomados na ordem\n",
    "print(f\"x é {x}, y é {y}\")"
   ]
  },
  {
   "cell_type": "markdown",
   "metadata": {},
   "source": [
    "### Entrada: ```input```\n",
    "\n",
    "O comando ```input``` é utilizado para ler dados do teclado. Observe que o comando sempre retorna o dado lido como uma string. Portanto, é necessário converter a string no tipo de dado necessário."
   ]
  },
  {
   "cell_type": "code",
   "execution_count": 4,
   "metadata": {},
   "outputs": [
    {
     "name": "stdout",
     "output_type": "stream",
     "text": [
      "Insira o nome do usuário: joao\n"
     ]
    }
   ],
   "source": [
    "nome = input('Insira o nome do usuário: ') # nome será do tipo str"
   ]
  },
  {
   "cell_type": "code",
   "execution_count": 5,
   "metadata": {},
   "outputs": [
    {
     "name": "stdout",
     "output_type": "stream",
     "text": [
      "Insira a idade do usuário: 20\n"
     ]
    }
   ],
   "source": [
    "idade = int(input('Insira a idade do usuário: ')) # idade será do tipo int, por causa da conversão"
   ]
  },
  {
   "cell_type": "markdown",
   "metadata": {},
   "source": [
    "## 5. Controle de Fluxo em Python\n",
    "\n",
    "### Código indentado é obrigatório\n",
    "\n",
    "- Em Python, não há ```{``` e ```}``` como em C++ para delimitar blocos\n",
    "- Blocos são delimitados pelos espaços em branco\n",
    "- Começar novo bloco: adicionar quatro espaços em branco\n",
    "- Finalizar bloco: remover quatro espaços em branco\n",
    "- Dica: configurar editor de texto para trocar tabulação por quatro espaços\n",
    "- Isto é necessário para os comandos de controle de fluxo, mostrados a seguir"
   ]
  },
  {
   "cell_type": "markdown",
   "metadata": {},
   "source": [
    "### Comando condicional ```if```\n",
    "\n",
    "Sintaxe:\n",
    "\n",
    "```\n",
    "if condicao: #observe o : (dois pontos)\n",
    "\tbloco de comandos\n",
    "```\n",
    "\n",
    "- ```else:``` é opcional\n",
    "- Não existe ```else if``` e sim ```elif```"
   ]
  },
  {
   "cell_type": "code",
   "execution_count": 45,
   "metadata": {},
   "outputs": [
    {
     "name": "stdout",
     "output_type": "stream",
     "text": [
      "x possui outro valor\n"
     ]
    }
   ],
   "source": [
    "x = 5\n",
    "if 0 < x < 10:\n",
    "    print('x está entre 0 e 10')\n",
    "elif 10 < x < 20:\n",
    "    print('x está entre 10 e 20')\n",
    "else:\n",
    "    print('x possui outro valor')"
   ]
  },
  {
   "cell_type": "markdown",
   "metadata": {},
   "source": [
    "### Comando de repetição ```while```\n",
    "\n",
    "Sintaxe:\n",
    "\n",
    "```\n",
    "while condicao:\n",
    "    bloco de comandos\n",
    "```\n",
    "\n",
    "```else:``` é opcional, executado quando a condição é/se torna falsa (não é executado se for utilizado um ```break```"
   ]
  },
  {
   "cell_type": "code",
   "execution_count": 4,
   "metadata": {},
   "outputs": [
    {
     "name": "stdout",
     "output_type": "stream",
     "text": [
      "valor de x: 3\n",
      "valor de x: 2\n",
      "valor de x: 1\n",
      "fim do laço\n"
     ]
    }
   ],
   "source": [
    "x = 3\n",
    "while x > 0:\n",
    "    print('valor de x: {}'.format(x))\n",
    "    x = x - 1\n",
    "else:\n",
    "    print('fim do laço')"
   ]
  },
  {
   "cell_type": "markdown",
   "metadata": {},
   "source": [
    "### Comando de repetição ```for```\n",
    "\n",
    "Sintaxe:\n",
    "\n",
    "```\n",
    "for variavel in range(inicio, fim): #itera no intervalo [inicio,fim[ com incremento igual a 1\n",
    "    bloco de comandos\n",
    "```\n",
    "\n",
    "ou\n",
    "\n",
    "```\n",
    "for variavel in range(inicio, fim, inc): #itera no intervalo [inicio,fim[ com incremento igual a inc\n",
    "    bloco de comandos\n",
    "```\n",
    "\n",
    "```else:``` é opcional, funciona de forma idêntica ao ```while```"
   ]
  },
  {
   "cell_type": "code",
   "execution_count": 53,
   "metadata": {},
   "outputs": [
    {
     "name": "stdout",
     "output_type": "stream",
     "text": [
      "i = 0\n",
      "i = 1\n",
      "i = 2\n",
      "i = 3\n",
      "i = 4\n",
      "chegou em 4\n"
     ]
    }
   ],
   "source": [
    "for i in range(0, 5):\n",
    "    print('i = {}'.format(i))\n",
    "else:\n",
    "    print('chegou em {}'.format(i))"
   ]
  },
  {
   "cell_type": "code",
   "execution_count": 52,
   "metadata": {},
   "outputs": [
    {
     "name": "stdout",
     "output_type": "stream",
     "text": [
      "-5\n",
      "-3\n",
      "-1\n",
      "1\n",
      "3\n",
      "5\n"
     ]
    }
   ],
   "source": [
    "for x in range(-5, 7, 2):\n",
    "    print(x)"
   ]
  },
  {
   "cell_type": "markdown",
   "metadata": {},
   "source": [
    "### Comandos ```break``` e ```continue```\n",
    "\n",
    "- ```break```: encerra o laço (o ```else``` associado ao laço não é executado)\n",
    "- ```continue```: força a próxima iteração do laço"
   ]
  },
  {
   "cell_type": "markdown",
   "metadata": {},
   "source": [
    "## 6. Funções em Python\n",
    "\n",
    "Para definir uma função em Python, basta utilizar a palavra chave ```def``` junto com a seguinte sintaxe:\n",
    "\n",
    "```\n",
    "def nome_funcao(lista de parametros):\n",
    "    corpo da funcao\n",
    "```\n",
    "\n",
    "- Uma função pode ter ```return``` ou não\n",
    "    - Caso a função não tenha `return`, a linguagem adiciona um `return None` ao seu final\n",
    "- A lista de parâmetros é composta de variáveis separadas por vírgulas (sem especificação de tipo)"
   ]
  },
  {
   "cell_type": "code",
   "execution_count": 10,
   "metadata": {},
   "outputs": [],
   "source": [
    "def converte_temp(tf):\n",
    "    '''\n",
    "    Converte temperatura\n",
    "    Farenheint em Celsius.\n",
    "    '''\n",
    "    \n",
    "    return (tf - 32)/1.8"
   ]
  },
  {
   "cell_type": "code",
   "execution_count": 14,
   "metadata": {},
   "outputs": [
    {
     "name": "stdout",
     "output_type": "stream",
     "text": [
      "Help on function converte_temp in module __main__:\n",
      "\n",
      "converte_temp(tf)\n",
      "    Converte temperatura\n",
      "    Farenheint em Celsius.\n",
      "\n",
      "37.0\n"
     ]
    }
   ],
   "source": [
    "help(converte_temp) #imprime a documentação da função\n",
    "print(converte_temp(98.6)) #chama a função e imprime o seu resultado"
   ]
  },
  {
   "cell_type": "markdown",
   "metadata": {},
   "source": [
    "## Arquivos .py\n",
    "\n",
    "- O terminal interativo Python é útil, mas se torna inviável para códigos grandes\n",
    "- Python suporta a edição de código fonte de forma tradicional: arquivo .py\n",
    "    1. Insira o código do programa em um arquivo .py\n",
    "    2. No terminal, vá até a pasta onde se encontra o arquivo e execute\n",
    "       ```python3 arquivo.py``` "
   ]
  },
  {
   "cell_type": "markdown",
   "metadata": {},
   "source": [
    "## Exercícios de Fixação\n",
    "\n",
    "0. Implemente um programa que, dados três valores inteiros, informe quantos deles são pares."
   ]
  },
  {
   "cell_type": "code",
   "execution_count": 6,
   "metadata": {},
   "outputs": [
    {
     "name": "stdout",
     "output_type": "stream",
     "text": [
      "Informe o 1o. nr.: 2\n",
      "Informe o 2o. nr.: 3\n",
      "Informe o 3o. nr.: 4\n",
      "0 numero(s) par(es)\n"
     ]
    }
   ],
   "source": [
    "# Exercício 0 - Solução\n",
    "\n",
    "a = int(input('Informe o 1o. nr.: '))\n",
    "b = int(input('Informe o 2o. nr.: '))\n",
    "c = int(input('Informe o 3o. nr.: '))\n",
    "# Dica: ao invés de ler a entrada do usuário\n",
    "# com o comando 'input', vc pode atribuir\n",
    "# os valores das entradas diretamente no código\n",
    "# quando estiver testando o seu código.\n",
    "# Exemplo:\n",
    "# a = 5\n",
    "# b = 2\n",
    "# c = 3\n",
    "\n",
    "pares = 0\n",
    "\n",
    "# vc pode completar o programa\n",
    "\n",
    "print('{} numero(s) par(es)'.format(pares))"
   ]
  },
  {
   "cell_type": "markdown",
   "metadata": {},
   "source": [
    "1. Implemente um programa que leia três números inteiros denotando os lados de um triangulo.\n",
    "   Três números formam um triângulo se cada um deles for menor do que a soma dos outros dois.\n",
    "   O programa deve informar se eles formam um triângulo e em caso positivo,\n",
    "   qual é o triângulo formado (equilátero, isósceles ou escaleno)."
   ]
  },
  {
   "cell_type": "markdown",
   "metadata": {},
   "source": [
    "2. Implemente um programa que leia do usuário um total ```N``` de números reais e imprima na tela qual foi o maior número digitado."
   ]
  },
  {
   "cell_type": "markdown",
   "metadata": {},
   "source": [
    "3. Implemente um programa que leia do usuário um número `N` de números inteiros que fazem parte de uma sequência. O programa deve imprimir uma mensagem informando se a sequência é composta apenas de números 0s ou 1s, com a mensagem `\"sequência no padrão\"` ou com a mensagem `\"sequência não está no padrão\"`, caso algum dos números digitados não seja 0 nem 1."
   ]
  },
  {
   "cell_type": "markdown",
   "metadata": {},
   "source": [
    "4. Implemente uma função que receba como parâmetro um número inteiro. A função deve calcular quantos dos dígitos dos números são pares. Implemente um programa que leia do usuário um número inteiro, realize uma chamada à função e imprima o resultado calculado. **Não utilize conversões para strings**."
   ]
  },
  {
   "cell_type": "code",
   "execution_count": null,
   "metadata": {},
   "outputs": [],
   "source": []
  }
 ],
 "metadata": {
  "kernelspec": {
   "display_name": "Python 3 (ipykernel)",
   "language": "python",
   "name": "python3"
  },
  "language_info": {
   "codemirror_mode": {
    "name": "ipython",
    "version": 3
   },
   "file_extension": ".py",
   "mimetype": "text/x-python",
   "name": "python",
   "nbconvert_exporter": "python",
   "pygments_lexer": "ipython3",
   "version": "3.9.7"
  }
 },
 "nbformat": 4,
 "nbformat_minor": 2
}
