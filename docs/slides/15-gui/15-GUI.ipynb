{
 "cells": [
  {
   "cell_type": "markdown",
   "metadata": {},
   "source": [
    "# Aula 15 - GUI (Interface Gráfica de Usuário)\n",
    "\n",
    "Este documento mostra como trabalhar com GUIs do tipo Tkinter em Python.\n",
    "\n",
    "Os seguintes links podem ser usados como guia:\n",
    "\n",
    "- [PythonTutorial: Tkinter Tutorial](https://www.pythontutorial.net/tkinter/)\n",
    "- [TutorialsPoint: Tkinter](https://www.tutorialspoint.com/python/python_gui_programming.htm)\n",
    "- [TkDocs](https://tkdocs.com/index.html)\n",
    "\n",
    "> Existem algumas ferramentas que podem ser utilizadas para gerar, de maneira visual, uma GUI. Por exemplo,  [python-gui-builder](http://www.python-gui-builder.com/) e [pygubu](https://github.com/alejandroautalan/pygubu)"
   ]
  },
  {
   "cell_type": "markdown",
   "metadata": {},
   "source": [
    "## 1. Janela Principal da Interface Gráfica TK\n",
    "\n",
    "Uma aplicação com interface gráfica TK pode ser criada pelos passos a seguir:\n",
    "\n",
    "1. Importar o módulo ```tkinter```\n",
    "    - Dica: utilize ```import tkinter as tk``` para não haver conflitos de nomes\n",
    "2. Criar a janela principal do programa: instanciar um objeto da classe ```Tk``` (observe o `T` maiúsculo)\n",
    "3. Repassar o controle da aplicação para o TK: chamar método ```mainloop```\n",
    "    - Após esta chamada, o código que chamou ```mainloop``` fica em espera\n",
    "    - Ou seja, qualquer linha de comando só é executada quando a janela principal\n",
    "      TK é fechada"
   ]
  },
  {
   "cell_type": "code",
   "execution_count": 1,
   "metadata": {},
   "outputs": [
    {
     "name": "stdout",
     "output_type": "stream",
     "text": [
      "Fim\n"
     ]
    }
   ],
   "source": [
    "import tkinter as tk # passo 1\n",
    "\n",
    "def main():\n",
    "    root = tk.Tk() # passo 2: janela principal de um programa\n",
    "    root.title('Programa em TK') # título da janela\n",
    "    root.geometry('400x200+100+0') # tamanho da janela e coordenadas em relação ao canto superior esquerdo\n",
    "\n",
    "    root.mainloop() # passo 3: repassa o controle para a interface gráfica\n",
    "    print('Fim') # só é executado após a janela ser fechada\n",
    "    \n",
    "if __name__ == '__main__':\n",
    "    main()"
   ]
  },
  {
   "cell_type": "markdown",
   "metadata": {},
   "source": [
    "A string `'400x200+100+0'` tem formato `'WxH+x+y'` e significa que a janela principal irá possuir\n",
    "tamanho `WxH` e estar posicionada na posição `(x,y)` da sua tela, sendo todas estes valores em pixels.\n",
    "A origem deste sistema de coordenadas é o canto superior esquerdo, ou seja,\n",
    "`x` cresce para a direita e `y` cresce para baixo."
   ]
  },
  {
   "cell_type": "markdown",
   "metadata": {},
   "source": [
    "## 2. Widget `Label`\n",
    "\n",
    "- Widget `Label` (rótulo): campo de texto informativo\n",
    "- Sintaxe: `widget = tk.Label(root, text='Ola TK!')`\n",
    "    - Cria objeto `widget` do tipo `tk.Label` tendo como mestre\n",
    "      o objeto `root` e o texto informado\n",
    "    - O objeto mestre (obrigatório) informa, dentre outras coisas,\n",
    "      quando e como os objetos escravos devem ser redesenhados"
   ]
  },
  {
   "cell_type": "code",
   "execution_count": 2,
   "metadata": {},
   "outputs": [],
   "source": [
    "import tkinter as tk\n",
    "\n",
    "def main():\n",
    "    root = tk.Tk()\n",
    "    root.geometry('400x200')\n",
    "\n",
    "    l = tk.Label(root, text='Ola TK!') # constroi widget do tipo label\n",
    "    l.pack(expand=True, fill=tk.BOTH) # adiciona widget à sua janela pai\n",
    "\n",
    "    root.mainloop()\n",
    "\n",
    "if __name__ == '__main__':\n",
    "    main()"
   ]
  },
  {
   "cell_type": "markdown",
   "metadata": {},
   "source": [
    "### Alterando propriedades dos widgets\n",
    "\n",
    "Todo widget tem várias propriedades, que podem ser acessadas de   \n",
    "três formas diferentes:\n",
    "1. inicializador; no código anterior, a propriedade `text` foi \n",
    "   alterada desta forma\n",
    "2. dicionário: passando a propriedade desejada como chave de um\n",
    "   dicionário. Por exemplo, `widget['fg'] = 'red'` atribui \n",
    "   vermelho à cor da fonte (*foreground*) do `widget`\n",
    "3. método `config`: passando a propriedade desejada e o seu valor \n",
    "   como parâmetro deste método. Por exemplo, \n",
    "   `widget.config(bg='black')` atribui preto à cor de fundo \n",
    "   (*background*) do `widget`\n",
    "   \n",
    "O código a seguir exemplifica alterações em algumas propriedades."
   ]
  },
  {
   "cell_type": "code",
   "execution_count": 3,
   "metadata": {},
   "outputs": [],
   "source": [
    "import tkinter as tk\n",
    "\n",
    "def main():\n",
    "    root = tk.Tk()\n",
    "    root.geometry('400x200')\n",
    "\n",
    "    l = tk.Label(root, text='Ola TK!')\n",
    "    l['fg'] = 'red' # altera cor da fonte (fg = foreground)\n",
    "    l.config(bg='black') # altera cor do fundo (bg = background)\n",
    "    # observe que l.bg por exemplo, não funciona\n",
    "    l['font'] = ('Helvetica', 16) # para alterar a fonte, usa-se uma tupla com tipo e tamanho\n",
    "\n",
    "    l.pack(expand=False, fill=tk.X) # mais sobre este método a seguir\n",
    "\n",
    "    root.mainloop()\n",
    "\n",
    "if __name__ == '__main__':\n",
    "    main()"
   ]
  },
  {
   "cell_type": "markdown",
   "metadata": {},
   "source": [
    "Consulte os links fornecidos como referência para ter acesso a quais\n",
    "são as propriedades de cada widget."
   ]
  },
  {
   "cell_type": "markdown",
   "metadata": {},
   "source": [
    "## 3. Gerenciador de Geometria `pack`\n",
    "\n",
    "- O ato de criar um widget não o torna visível na janela mestre\n",
    "  informada\n",
    "- Para torná-lo visível, é necessário utilizar um método de um\n",
    "  gerenciador de geometria (*geometry manager*)\n",
    "- Um gerenciador de geometria é um objeto responsável por gerenciar o \n",
    "  posicionamento/dimensionamento de cada widget no seu mestre\n",
    "- Método `pack` (verbo *empacotar* em inglês):\n",
    "    - Adiciona widget ao mestre\n",
    "    - Atributo `fill`: widget deve preencher o mestre\n",
    "      ao longo das direções informadas. Pode assumir os valores\n",
    "      `tk.NONE` (padrão), `tk.X`, `tk.Y` ou `tk.BOTH`\n",
    "    - Atributo `expand`: informa que o widget deve se\n",
    "      expandir (ter mais espaço) caso o widget mestre seja\n",
    "      redimensionado e abra espaço\n",
    "    - Atributo `side`: informa qual o lado do widget mestre deve ser usado como referência no empacotamento. Pode assumir\n",
    "      os valores `tk.TOP` (padrão), `tk.BOTTOM`, `tk.LEFT` ou `tk.RIGHT`"
   ]
  },
  {
   "cell_type": "code",
   "execution_count": 4,
   "metadata": {},
   "outputs": [],
   "source": [
    "# Exemplo 1 de geometry manager Pack\n",
    "\n",
    "import tkinter as tk\n",
    "\n",
    "def main():\n",
    "    root = tk.Tk()\n",
    "    root.geometry('400x400+100+100')\n",
    "\n",
    "    # cria quatro labels\n",
    "    l0 = tk.Label(root, text='Label 0', bg='red', height=5, width=10) # tamanho em unidades de texto\n",
    "    l1 = tk.Label(root, text='Label 1', bg='green', height=5, width=10)\n",
    "    l2 = tk.Label(root, text='Label 2', bg='blue', height=5, width=10)\n",
    "    l3 = tk.Label(root, text='Label 3', bg='orange', height=5, width=10)\n",
    "\n",
    "    # método pack: passa a responsabilidade de posicionar widget para o geometry manager\n",
    "\n",
    "    l0.pack() # com expand=True, o widget é reposicionado quando há espaço no master\n",
    "    l1.pack() # para preencher janela com widget na direção horizontal, use fill=tk.X\n",
    "    l2.pack() # para preencher janela na direção vertical, use expand=True, fill=tk.Y\n",
    "    l3.pack()\n",
    "\n",
    "    root.mainloop()\n",
    "    \n",
    "if __name__ == '__main__':\n",
    "    main()"
   ]
  },
  {
   "cell_type": "code",
   "execution_count": 5,
   "metadata": {},
   "outputs": [],
   "source": [
    "# Exemplo 2 de geometry manager Pack\n",
    "\n",
    "import tkinter as tk\n",
    "\n",
    "def main():\n",
    "    root = tk.Tk()\n",
    "    root.geometry('400x200+100+100')\n",
    "\n",
    "    l0 = tk.Label(root, text='Label 0', bg='red')\n",
    "    l1 = tk.Label(root, text='Label 1', bg='green')\n",
    "    l2 = tk.Label(root, text='Label 2', bg='blue')\n",
    "    l3 = tk.Label(root, text='Label 3', bg='orange')\n",
    "\n",
    "    l0.pack(side=tk.LEFT)\n",
    "    l1.pack(side=tk.LEFT)\n",
    "    l2.pack(side=tk.RIGHT)\n",
    "    l3.pack(side=tk.RIGHT)\n",
    "\n",
    "    root.mainloop()\n",
    "    \n",
    "if __name__ == '__main__':\n",
    "    main()"
   ]
  },
  {
   "cell_type": "markdown",
   "metadata": {},
   "source": [
    "## 4. Widget `Frame`\n",
    "\n",
    "- Widget `Frame` (quadro): utilizado como moldura decorativa ou como widget organizador de outros widgets (quando configurado como o mestre deles)\n",
    "- Sintaxe: `widget = tk.Frame(root, bd=10, bg='yellow', relief=tk.SUNKEN)`\n",
    "    - Cria `widget` do tipo `tk.Frame` tendo como mestre\n",
    "      o objeto `root` com largura de borda igual a 10 e borda afundada\n",
    "- Métodos `pack` podem ser chamados para objetos do tipo frame com uma configuração e para seus widgets filhos (seus escravos) com outras configurações, possibilitando layouts de tela mais complexos"
   ]
  },
  {
   "cell_type": "code",
   "execution_count": 6,
   "metadata": {},
   "outputs": [],
   "source": [
    "import tkinter as tk\n",
    "\n",
    "def main():\n",
    "    root = tk.Tk()\n",
    "    root.geometry('400x200+100+100')\n",
    "\n",
    "    f1 = tk.Frame(root, bd=10, bg='yellow', relief=tk.SUNKEN) # cria frame do topo\n",
    "    f1.pack(fill=tk.BOTH, expand=1)\n",
    "\n",
    "    l0 = tk.Label(f1, text='Label 0', bg='red') # cria dois labels dentro do frame (observe que o mestre é o frame e não a janela)\n",
    "    l1 = tk.Label(f1, text='Label 1', bg='green')\n",
    "\n",
    "    l0.pack(expand=True)\n",
    "    l1.pack()\n",
    "\n",
    "    f2 = tk.Frame(root, bd=10, bg='cyan', relief=tk.RAISED) # cria frame da parte de baixo\n",
    "    f2.pack(fill=tk.BOTH, expand=1)\n",
    "\n",
    "    l2 = tk.Label(f2, text='Label 2', bg='blue') # cria dois labels dentro do frame de baixo\n",
    "    l3 = tk.Label(f2, text='Label 3', bg='orange')\n",
    "\n",
    "    l2.pack()\n",
    "    l3.pack()\n",
    "\n",
    "    root.mainloop()\n",
    "    \n",
    "if __name__ == '__main__':\n",
    "    main()"
   ]
  },
  {
   "cell_type": "markdown",
   "metadata": {},
   "source": [
    "## 5. Gerenciador de Geometria `grid`\n",
    "\n",
    "- Para layouts mais elaborados, é recomendado utilizar o gerenciador\n",
    "  de geometria do tipo *grid* (grade)\n",
    "- Organiza objetos em uma matriz imaginária que envolve todo o widget\n",
    "  mestre\n",
    "- Método `grid`:\n",
    "    - Adiciona widget ao mestre em uma linha dada pelo atributo `row`\n",
    "      e coluna dada pelo atributo `column`\n",
    "    - Permite ao mestre determinar o comportamento de cada widget escravo durante o redimensionamento através de duas funções:\n",
    "        1. `mestre.rowconfigure(i, weight=w)`: informa que a linha `i`\n",
    "           do grid deve ser redimensionada em `w` pixels sempre que o\n",
    "           widget `mestre` for redimensionado\n",
    "        2. `mestre.columnconfigure(j, weight=w)`: informa que a coluna `j` do grid deve ser redimensionada em `w` pixels sempre que o\n",
    "           widget `mestre` for redimensionado\n",
    "    - Para o `grid` pode ser passado ainda o parâmetro `sticky`, com\n",
    "      uma string formada por um ou mais caracteres `\"NSWE\"`\n",
    "        - Isto \"gruda\" o widget à cada uma das bordas norte, sul, oeste e leste, redimensionando-o quando a célula do grid em que se encontra o widget possuir espaço disponível"
   ]
  },
  {
   "cell_type": "code",
   "execution_count": 7,
   "metadata": {},
   "outputs": [],
   "source": [
    "import tkinter as tk\n",
    "\n",
    "def main():\n",
    "    root = tk.Tk()\n",
    "    root.geometry('400x200+100+100')\n",
    "\n",
    "    l0 = tk.Label(root, text='Label 0', bg='gray')\n",
    "    l1 = tk.Label(root, text='Label 1', bg='gray')\n",
    "    l2 = tk.Label(root, text='Label 2', bg='gray')\n",
    "    l3 = tk.Label(root, text='Label 3', bg='gray')\n",
    "    l4 = tk.Label(root, text='Label 4', bg='gray')\n",
    "    l5 = tk.Label(root, text='Label 5', bg='gray')\n",
    "    l6 = tk.Label(root, text='Label 6', bg='gray')\n",
    "    l7 = tk.Label(root, text='Label 7', bg='gray')\n",
    "    l8 = tk.Label(root, text='Label 8', bg='gray')\n",
    "    l9 = tk.Label(root, text='Label 9', bg='blue')\n",
    "\n",
    "    # método grid: informa o geometry manager em qual linha/coluna do master deseja posicionar widget\n",
    "    # (master é dividido em uma matriz)\n",
    "\n",
    "    # propriedade sticky: cola a borda do widget na sua célula (quando esta é maior que o widget) \n",
    "    # (combinações de Norte-N, Sul-S, Leste-E, Oeste-W podem ser usadas)\n",
    "\n",
    "    l0.grid(row=0, column=0, sticky='NSWE')\n",
    "    l1.grid(row=0, column=1)\n",
    "    l2.grid(row=0, column=2)\n",
    "    l3.grid(row=1, column=0)\n",
    "    l4.grid(row=1, column=1)\n",
    "    l5.grid(row=1, column=2)\n",
    "    l6.grid(row=2, column=0)\n",
    "    l7.grid(row=2, column=1)\n",
    "    l8.grid(row=2, column=2)\n",
    "    l9.grid(row=3, columnspan=3, sticky='NSWE')\n",
    "\n",
    "    # método rowconfigure: informa em quantos pixels uma linha deve ser redimensionada quando o seu mestre for redimensionado\n",
    "    # método columnconfigure: informa em quantos pixels uma coluna deve ser redimensionada quando o seu mestre for redimensionado\n",
    "\n",
    "    root.rowconfigure(0, weight=1)\n",
    "    root.rowconfigure(1, weight=1)\n",
    "    root.rowconfigure(2, weight=1)\n",
    "    root.columnconfigure(0, weight=1)\n",
    "    root.columnconfigure(1, weight=1)\n",
    "    root.columnconfigure(2, weight=1)\n",
    "\n",
    "    root.mainloop()\n",
    "    \n",
    "if __name__ == '__main__':\n",
    "    main()"
   ]
  },
  {
   "cell_type": "markdown",
   "metadata": {},
   "source": [
    "## 6. Widget `Entry`\n",
    "\n",
    "- Widget `Entry` (entrada): campo de entrada de texto\n",
    "- Sintaxe: `widget = tk.Entry(root)`\n",
    "    - Cria objeto `widget` do tipo `tk.Entry` tendo como mestre\n",
    "      o objeto `root`"
   ]
  },
  {
   "cell_type": "code",
   "execution_count": 8,
   "metadata": {},
   "outputs": [
    {
     "name": "stdout",
     "output_type": "stream",
     "text": [
      "['background', 'bd', 'bg', 'borderwidth', 'cursor', 'disabledbackground', 'disabledforeground', 'exportselection', 'fg', 'font', 'foreground', 'highlightbackground', 'highlightcolor', 'highlightthickness', 'insertbackground', 'insertborderwidth', 'insertofftime', 'insertontime', 'insertwidth', 'invalidcommand', 'invcmd', 'justify', 'readonlybackground', 'relief', 'selectbackground', 'selectborderwidth', 'selectforeground', 'show', 'state', 'takefocus', 'textvariable', 'validate', 'validatecommand', 'vcmd', 'width', 'xscrollcommand']\n"
     ]
    }
   ],
   "source": [
    "import tkinter as tk\n",
    "\n",
    "def main():\n",
    "    root = tk.Tk()\n",
    "    root.geometry('400x200+100+100')\n",
    "\n",
    "    l0 = tk.Label(root, text='Texto:')\n",
    "    e0 = tk.Entry(root) # cria widget para entrada de texto\n",
    "    l1 = tk.Label(root, text='Duas colunas do grid')\n",
    "\n",
    "    print(e0.keys()) # imprime as propriedades que podem ser alteradas do widget\n",
    "                     # (não funciona para toda classe de Widget)\n",
    "\n",
    "    l0.grid(row=0, column=0)\n",
    "    e0.grid(row=0, column=1)\n",
    "    l1.grid(row=1, columnspan=2) # grid permite que um widget ocupe mais de uma linha/coluna\n",
    "\n",
    "    e0.insert(0, 'Texto inicial') # valor padrão para o campo de texto (utilizar text='texto inicial' não funciona)\n",
    "\n",
    "    root.mainloop()\n",
    "    \n",
    "if __name__ == '__main__':\n",
    "    main()"
   ]
  },
  {
   "cell_type": "markdown",
   "metadata": {},
   "source": [
    "## 7. Widget `Button`\n",
    "\n",
    "- Widget `Button` (botão): botão para interação\n",
    "- Sintaxe: `widget = tk.Button(root, text='Ok')`\n",
    "    - Cria objeto `widget` do tipo `tk.Button` tendo como mestre\n",
    "      o objeto `root` e o texto informado"
   ]
  },
  {
   "cell_type": "code",
   "execution_count": 9,
   "metadata": {},
   "outputs": [],
   "source": [
    "import tkinter as tk\n",
    "\n",
    "def main():\n",
    "    root = tk.Tk()\n",
    "    root.geometry('400x200+100+100')\n",
    "\n",
    "    l0 = tk.Label(root, text='Texto:')\n",
    "    e0 = tk.Entry(root)\n",
    "    l1 = tk.Label(root, text='Duas colunas do grid')\n",
    "    b0 = tk.Button(root, text='OK') # cria widget do tipo botão\n",
    "\n",
    "    l0.grid(row=0, column=0)\n",
    "    e0.grid(row=0, column=1)\n",
    "    b0.grid(row=1, columnspan=2)\n",
    "    l1.grid(row=2, columnspan=2)\n",
    "\n",
    "    root.rowconfigure(0, weight=1)\n",
    "    root.rowconfigure(1, weight=1)\n",
    "    root.rowconfigure(2, weight=1)\n",
    "    root.columnconfigure(0, weight=1)\n",
    "    root.columnconfigure(1, weight=1)\n",
    "\n",
    "    root.mainloop()\n",
    "\n",
    "if __name__ == '__main__':\n",
    "    main()"
   ]
  },
  {
   "cell_type": "markdown",
   "metadata": {},
   "source": [
    "### Programando Clique do Botão com Funções lambda\n",
    "\n",
    "Obviamente, é interessante que o programa reaja ao clique de um botão com alguma ação. Essa ação pode ser definida como uma função e as *funções lambda* de Python se mostram muito úteis para essa tarefa.\n",
    "\n",
    "Uma função lambda nada mais é do que uma função sem nome, usualmente de funcionalidade simples (geralmente uma única expressão), que pode operar em vários parâmetros. Opcionalmente, ela pode ser atribuída a um nome para ser chamada posteriormente. Sintaxe:\n",
    "\n",
    "```\n",
    "<nome_funcao> = lambda <parametros separados por virgula> : <expressao de retorno>\n",
    "```\n",
    "\n",
    "O exemplo a seguir ilustra uma função lambda em Python."
   ]
  },
  {
   "cell_type": "code",
   "execution_count": null,
   "metadata": {},
   "outputs": [],
   "source": [
    "def main():\n",
    "    # Exemplo de funções lambda\n",
    "\n",
    "    # 1. função lambda com um parâmetro x; retorna o próprio x\n",
    "    far_para_celsius = lambda x : (x - 32)*5/9\n",
    "\n",
    "    # A função lambda acima é equivalente a seguinte definição de função\n",
    "    #def far_para_celsius2(x):\n",
    "    #    return (x - 32)*5/9\n",
    "\n",
    "    print(far_para_celsius(100)) # Chama a função lambda\n",
    "\n",
    "    # 2. função lambda com mais de um parâmetro (x e y); retorna o produto entre os dois números\n",
    "    mul = lambda x, y : x * y\n",
    "    print(mul(4,3))\n",
    "\n",
    "if __name__ == '__main__':\n",
    "    main()"
   ]
  },
  {
   "cell_type": "markdown",
   "metadata": {},
   "source": [
    "- Para adicionar uma ação a um botão atribuímos o atributo `command` do botão uma função de `callback`\n",
    "     - `callback`: função que deve ser chamada quando o programa\n",
    "       achar conveniente\n",
    "     - Ou seja, o sistema operacional detecta quando ocorre um clique no botão e ele mesmo chama a função\n",
    "     - Observe que você (programador) deve indicar uma função lambda como função que deve ser chamada e por sua vez, a função lambda tem a chamada a uma outra função (passando os parâmetros necessários) como única expressão\n",
    "\n",
    "Utilizando funções lambda, atribuímos uma função (lambda) que será chamada quando o botão for clicado. Esta função, por sua vez, irá executar a expressão que está no corpo da função lambda."
   ]
  },
  {
   "cell_type": "code",
   "execution_count": null,
   "metadata": {},
   "outputs": [],
   "source": [
    "import tkinter as tk\n",
    "\n",
    "def funcao_simples():\n",
    "    print('OK pressionado')\n",
    "\n",
    "def imprime_ok(par):\n",
    "    print(f'OK pressionado. Parâmetro recebido: {par}')\n",
    "    par += 10\n",
    "\n",
    "def main():\n",
    "    root = tk.Tk()\n",
    "    root.geometry('400x200+100+100')\n",
    "\n",
    "    x = 10\n",
    "    l0 = tk.Label(root, text='Nome:')\n",
    "    e0 = tk.Entry(root)\n",
    "    b0 = tk.Button(root, text='OK')\n",
    "    b0['command'] = lambda: funcao_simples() # adiciona callback: função/método a ser chamado quando evento ocorre\n",
    "\n",
    "    l0.grid(row=0, column=0)\n",
    "    e0.grid(row=0, column=1)\n",
    "    b0.grid(row=1, columnspan=2, sticky=tk.E+tk.W)\n",
    "\n",
    "    root.mainloop()\n",
    "    \n",
    "if __name__ == '__main__':\n",
    "    main()"
   ]
  },
  {
   "cell_type": "markdown",
   "metadata": {},
   "source": [
    "## 8. Alterando Texto de Widgets\n",
    "\n",
    "- Para alterar o texto presente em widgets,\n",
    "  é necessário utilizar variáveis especiais da biblioteca TK ao invés dos tipos nativos da linguagem Python\n",
    "    - `BooleanVar`, `IntVar`, `DoubleVar` e `StringVar`\n",
    "    - Devem ser instanciadas após crianção do objeto `Tk` (janela mestre)\n",
    "- Estas variáveis ficam responsáveis por detectar mudanças nos widgets que as manipulam e exibir seus novos valores"
   ]
  },
  {
   "cell_type": "code",
   "execution_count": 12,
   "metadata": {},
   "outputs": [],
   "source": [
    "import tkinter as tk\n",
    "\n",
    "def atualiza_var(v_tk, widget_entry):\n",
    "    v_tk.set(f'Texto digitado: {widget_entry.get()}') # atribui à variável string do TK o valor que está\n",
    "                                                      # na entrada de texto\n",
    "\n",
    "def main():\n",
    "    root = tk.Tk()\n",
    "    root.geometry('400x200+100+100')\n",
    "\n",
    "    v_texto = tk.StringVar(value='Texto digitado:') # StringVar: variável string do TK\n",
    "    #v_texto.set('Texto digitado: ') # atribuição alternativa de valor inicial do texto\n",
    "\n",
    "    l0 = tk.Label(root, text='Texto:')\n",
    "    e0 = tk.Entry(root)\n",
    "    b0 = tk.Button(root, text='OK', command=lambda: atualiza_var(v_texto, e0))\n",
    "    l1 = tk.Label(root, textvariable=v_texto) # propriedade textvariable deve ser utilizada ao invés de text\n",
    "\n",
    "    l0.grid(row=0, column=0)\n",
    "    e0.grid(row=0, column=1)\n",
    "    b0.grid(row=1, columnspan=2, sticky=tk.E+tk.W)\n",
    "    l1.grid(row=2, columnspan=2, sticky=tk.E+tk.W)\n",
    "\n",
    "    root.mainloop()\n",
    "        \n",
    "if __name__ == '__main__':\n",
    "    main()"
   ]
  },
  {
   "cell_type": "markdown",
   "metadata": {},
   "source": [
    "## Bônus: Mudando o Tema Tkinter\n",
    "\n",
    "A biblioteca Tkinter suporta alterar o tema padrão para\n",
    "se adequar a um tema/sistema operacional específico.\n",
    "\n",
    "Para isto, você deve utilizar um `import` que habilita\n",
    "a criação de widgets temáticos: `import tkinter.ttk as ttk`.\n",
    "Então, os seus widgets (com exceção da janela principal)\n",
    "devem ser criados a partir da biblioteca `ttk` ao invés da\n",
    "`tk`.\n",
    "\n",
    "A lista de strings com os temas disponíveis pode ser impressa\n",
    "com `ttk.Style().theme_names()`.\n",
    "O tema deve ser configurado, após a criação da janela principal,\n",
    "com o comando `ttk.Style().theme_use(tema)`, onde `tema` é uma\n",
    "das strings com o tema desejado.\n",
    "\n",
    "Note que várias propriedades (`fg`, `bg`, etc.) não\n",
    "são suportadas pelas versões temáticas dos widgets,\n",
    "fazendo com que o programa se encerre com a exceção\n",
    "`_tkinter.TclError` caso você tente configurar algum\n",
    "destes parâmetros.\n",
    "\n",
    "Para mais detalhes sobre o uso de widgets temáticos,\n",
    "veja [este link](https://tkdocs.com/tutorial/styles.html).\n",
    "\n",
    "O código a seguir altera o tema de uma interface Tkinter."
   ]
  },
  {
   "cell_type": "code",
   "execution_count": 13,
   "metadata": {},
   "outputs": [],
   "source": [
    "import tkinter as tk\n",
    "import tkinter.ttk as ttk\n",
    "\n",
    "def atualiza_var(tkvar, widget_entry):\n",
    "    tkvar.set('Texto digitado: {}'.format(widget_entry.get()))\n",
    "\n",
    "def main():\n",
    "    root = tk.Tk()\n",
    "    root.geometry('400x200+100+100')\n",
    "    ttk.Style().theme_use('clam') # altera tema dos widgets ttk: utilize 'clam', 'alt', 'default' ou 'classic'\n",
    "\n",
    "    entrada0 = tk.StringVar()\n",
    "    entrada0.set('Texto digitado: ')\n",
    "\n",
    "    l0 = ttk.Label(root, text='Texto:') # cria label ttk (temático)\n",
    "    e0 = ttk.Entry(root) # cria entry ttk\n",
    "    b0 = ttk.Button(root, text='OK', command=lambda: atualiza_var(entrada0, e0)) # cria button ttk\n",
    "    l1 = ttk.Label(root, textvariable=entrada0) # cria label ttk\n",
    "\n",
    "    l0.grid(row=0, column=0)\n",
    "    e0.grid(row=0, column=1)\n",
    "    b0.grid(row=1, columnspan=2, sticky=tk.E+tk.W)\n",
    "    l1.grid(row=2, columnspan=2, sticky=tk.E+tk.W)\n",
    "\n",
    "    root.mainloop()\n",
    "    \n",
    "if __name__ == '__main__':\n",
    "    main()"
   ]
  },
  {
   "cell_type": "markdown",
   "metadata": {},
   "source": [
    "## Exercício de Fixação\n",
    "\n",
    "Implemente uma calculadora com interface gráfica em Tkinter.\n",
    "A calculadora deve conter apenas as operações de soma,\n",
    "divisão e multiplicação com números inteiros.\n",
    "\n",
    "Obrigatoriamente, a calculadora deve funcionar da seguinte\n",
    "forma:\n",
    "\n",
    "1. Em um campo de texto, deve ser digitado o primeiro operando, dígito a dígito\n",
    "2. Em seguida, deve ser clicada a operação desejada. O campo\n",
    "   de texto deve se apagar e aguardar a digitação do segundo operando\n",
    "3. Após o segundo operando ter sido digitado e o usuário clicar no botão de \"=\", o resultado deve ser mostrado\n",
    "4. Uma nova operação pode ser realizada a partir do momento que for\n",
    "digitado qualquer número, quando o campo de texto deve apagar o resultado da operação anterior e exibir os dígitos do primeiro operando da nova operação\n",
    "\n",
    "A operação sendo realizada deve ficar indicada com o botão do operador estando visualmente pressionado (`tk.SUNKEN`) quando o segundo operando está sendo digitado. O botão da operação deve voltar ao normal (`tk.RAISED`) quando o botão \"=\" for clicado para exibir o resultado.\n",
    "\n",
    "Observe o vídeo a seguir com o funcionamento esperado."
   ]
  },
  {
   "cell_type": "code",
   "execution_count": 14,
   "metadata": {},
   "outputs": [
    {
     "data": {
      "text/html": [
       "<video width=\"300\" height=\"300\" controls>\n",
       "  <source src=\"https://raw.githubusercontent.com/ect-info/POO_2021.2/master/docs/21-gui/tk_calc.mp4\" type=\"video/mp4\">\n",
       "</video>\n"
      ],
      "text/plain": [
       "<IPython.core.display.HTML object>"
      ]
     },
     "metadata": {},
     "output_type": "display_data"
    }
   ],
   "source": [
    "%%HTML\n",
    "<video width=\"300\" height=\"300\" controls>\n",
    "  <source src=\"https://raw.githubusercontent.com/ect-info/POO_2022.1/master/docs/15-gui/tk_calc.mp4\" type=\"video/mp4\">\n",
    "</video>"
   ]
  },
  {
   "cell_type": "code",
   "execution_count": null,
   "metadata": {},
   "outputs": [],
   "source": []
  }
 ],
 "metadata": {
  "kernelspec": {
   "display_name": "Python 3 (ipykernel)",
   "language": "python",
   "name": "python3"
  },
  "language_info": {
   "codemirror_mode": {
    "name": "ipython",
    "version": 3
   },
   "file_extension": ".py",
   "mimetype": "text/x-python",
   "name": "python",
   "nbconvert_exporter": "python",
   "pygments_lexer": "ipython3",
   "version": "3.9.7"
  }
 },
 "nbformat": 4,
 "nbformat_minor": 2
}
