{
 "cells": [
  {
   "cell_type": "markdown",
   "metadata": {},
   "source": [
    "# Aula 8 - Herança\n",
    "\n",
    "Neste documento é apresentado como se trabalhar em Python com herança."
   ]
  },
  {
   "cell_type": "markdown",
   "metadata": {},
   "source": [
    "## 1. Herança em Python\n",
    "\n",
    "Em Python, a herança é indicada com a classe base entre parênteses em cada classe derivada, como mostrado a seguir."
   ]
  },
  {
   "cell_type": "code",
   "execution_count": null,
   "metadata": {},
   "outputs": [],
   "source": [
    "# Classe A: classe base\n",
    "class A:\n",
    "    pass\n",
    "\n",
    "# Classe B: classe derivada\n",
    "class B(A):\n",
    "    pass"
   ]
  },
  {
   "cell_type": "markdown",
   "metadata": {},
   "source": [
    "### 1.1 Operador `isinstance`\n",
    "\n",
    "Python possui a função especial `isinstance`:\n",
    "\n",
    "- Sintaxe: `isinstance(obj, classe)`: retorna\n",
    "  verdadeiro se `obj` for da classe `classe`\n",
    "  ou falso caso contrário\n",
    "- `isinstance` considera a hierarquia de classes\n",
    "- `type` tem função parecida, mas não considera a hierarquia de classes"
   ]
  },
  {
   "cell_type": "code",
   "execution_count": null,
   "metadata": {},
   "outputs": [],
   "source": [
    "def main():\n",
    "    obj_a = A()\n",
    "    obj_b = B()\n",
    "    print(isinstance(obj_b, B)) # retorna verdadeiro se obj_b é uma instância da classe B\n",
    "    print(isinstance(obj_a, B)) # retorna verdadeiro se obj_a é uma instância da classe B\n",
    "    print(isinstance(obj_b, A)) # retorna verdadeiro se obj_b é uma instância da classe A\n",
    "    print(isinstance(obj_b, object)) # toda classe em Python é derivada de object\n",
    "\n",
    "if __name__ == \"__main__\":\n",
    "    main()"
   ]
  },
  {
   "cell_type": "markdown",
   "metadata": {},
   "source": [
    "No código acima, `object` é a superclasse Python a partir da qual todas as classes são derivadas."
   ]
  },
  {
   "cell_type": "markdown",
   "metadata": {},
   "source": [
    "### 1.2 Atributos e Métodos são Herdados\n",
    "\n",
    "Observe a seguir que os atributos e métodos definidos na classe `Pessoa` são herdados pela subclasse `Aluno`."
   ]
  },
  {
   "cell_type": "code",
   "execution_count": 2,
   "metadata": {},
   "outputs": [
    {
     "name": "stdout",
     "output_type": "stream",
     "text": [
      "Olá, meu nome é joao\n",
      "alice\n",
      "Olá, meu nome é alice\n"
     ]
    }
   ],
   "source": [
    "class Pessoa:\n",
    "    def __init__(self, nome, idade):\n",
    "        self._nome = nome\n",
    "        self._idade = idade\n",
    "    \n",
    "    @property\n",
    "    def nome(self):\n",
    "        return self._nome\n",
    "    \n",
    "    def se_apresenta(self):\n",
    "        print(f'Olá, meu nome é {self._nome}')     \n",
    "        \n",
    "class Aluno(Pessoa): # todo Aluno é uma Pessoa\n",
    "    pass # todos os atributos e métodos de Pessoa estão em aluno\n",
    "\n",
    "def main():\n",
    "    p = Pessoa('joao', 30)\n",
    "    p.se_apresenta()\n",
    "    a = Aluno('alice', 20)\n",
    "    print(a.nome)\n",
    "    a.se_apresenta()\n",
    "    \n",
    "if __name__ == \"__main__\":\n",
    "    main()"
   ]
  },
  {
   "cell_type": "markdown",
   "metadata": {},
   "source": [
    "### 1.3 Estendendo Classes Derivadas com Novos Atributos\n",
    "\n",
    "Para definir novos atributos em classes derivadas, o método `__init__` precisa ser sobrescrito (redefinido) na classe derivada.\n",
    "Por este motivo, o método `__init__` da superclasse precisa ser explicitamente chamado, inicializando assim a parte que o objeto possui em comum a ambas as classes (superclasse e subclasse).\n",
    "O código a seguir mostra como isto é feito."
   ]
  },
  {
   "cell_type": "code",
   "execution_count": 3,
   "metadata": {},
   "outputs": [
    {
     "name": "stdout",
     "output_type": "stream",
     "text": [
      "regina\n"
     ]
    }
   ],
   "source": [
    "class Funcionario(Pessoa):\n",
    "    def __init__(self, nome, idade, salario):\n",
    "        Pessoa.__init__(self, nome, idade) # chama o inicializador da superclasse\n",
    "                                           # passando os parâmetros esperados\n",
    "        #super().__init__(nome, idade) # <- alternativa: será útil mais\n",
    "                                       # à frente no curso em herança múltipla\n",
    "        self._salario = salario # adiciona um atributo à classe derivada\n",
    "\n",
    "def main():\n",
    "    f = Funcionario('regina', 25, 5000)\n",
    "    print(f.nome)\n",
    "    \n",
    "if __name__ == \"__main__\":\n",
    "    main()"
   ]
  },
  {
   "cell_type": "markdown",
   "metadata": {},
   "source": [
    "Observe que o `__init__` poderia ser escrito como:\n",
    "```\n",
    "\n",
    "def __init__(self, nome, idade, salario):\n",
    "    self._nome = nome\n",
    "    self._idade = idade\n",
    "    self._salario = salario\n",
    "    \n",
    "```"
   ]
  },
  {
   "cell_type": "markdown",
   "metadata": {},
   "source": [
    "Entretanto, fazer isto implica no fato de que,\n",
    "se mais atributos fossem inseridos na classe base, como por exemplo,\n",
    "endereço e e-mail, estas novas mudanças deveriam ser implementadas\n",
    "também na classe derivada.\n",
    "\n",
    "Ou seja, a chamada explícita ao `__init__` da superclasse de uma classe\n",
    "derivada maximiza o reuso de código e portanto, facilita a manutenção\n",
    "de classes maiores ou mais complexas."
   ]
  },
  {
   "cell_type": "markdown",
   "metadata": {},
   "source": [
    "### 1.4 Estendendo Classes Derivadas com Novos Métodos\n",
    "\n",
    "Classes derivadas podem ser estendidas com novos comportamentos\n",
    "através da implementação de novos métodos, como mostrado a seguir."
   ]
  },
  {
   "cell_type": "code",
   "execution_count": 5,
   "metadata": {},
   "outputs": [
    {
     "name": "stdout",
     "output_type": "stream",
     "text": [
      "regina tem salário de 5500\n"
     ]
    }
   ],
   "source": [
    "class Funcionario(Pessoa):\n",
    "    def __init__(self, nome, idade, salario):\n",
    "        Pessoa.__init__(self, nome, idade)\n",
    "        self._salario = salario\n",
    "    \n",
    "    # este get/set existe em Funcionario mas não em Pessoa\n",
    "    @property\n",
    "    def salario(self):\n",
    "        return self._salario\n",
    "    \n",
    "    @salario.setter\n",
    "    def salario(self, s):\n",
    "        self._salario = s\n",
    "\n",
    "def main():\n",
    "    f = Funcionario('regina', 25, 5000)\n",
    "    f.salario = 5500\n",
    "    print(f'{f.nome} tem salário de {f.salario}')\n",
    "    p = Pessoa('jose', 23)\n",
    "    #print(p.salario) # erro: Pessoa não tem salario\n",
    "    \n",
    "if __name__ == \"__main__\":\n",
    "    main()"
   ]
  },
  {
   "cell_type": "markdown",
   "metadata": {},
   "source": [
    "#### 1.4.1 Atributos Privados\n",
    "\n",
    "Observe que atributos privados **não** são herdados. Isto é esperado, já que os atributos que são ao mesmo tempo encapsulados e herdados são os protegidos (`protected`), que Python não possui.\n",
    "Observe o código a seguir."
   ]
  },
  {
   "cell_type": "code",
   "execution_count": null,
   "metadata": {},
   "outputs": [],
   "source": [
    "class Pessoa:\n",
    "    def __init__(self, nome, idade):\n",
    "        self._nome = nome # público: é herdado\n",
    "        self._idade = idade # convenção para protected: é herdado\n",
    "        self.__privado = 'valor privado' # privado: não é herdado\n",
    "\n",
    "class Funcionario(Pessoa):\n",
    "    def __init__(self, nome, idade, salario):\n",
    "        Pessoa.__init__(self, nome, idade)\n",
    "        self._salario = salario\n",
    "    \n",
    "    # get para acessar valor encapsulado:\n",
    "    # erro ao ser chamado\n",
    "    @property\n",
    "    def privado(self):\n",
    "        return self.__privado\n",
    "\n",
    "def main():\n",
    "    f = Funcionario('regina', 25, 5000)\n",
    "    print(f.privado) # erro: Funcionario não tem atributo __privado\n",
    "    \n",
    "if __name__ == \"__main__\":\n",
    "    main()"
   ]
  },
  {
   "cell_type": "markdown",
   "metadata": {},
   "source": [
    "### 1.5 Estendendo Classes Derivadas com Sobrescrita de Métodos\n",
    "\n",
    "Classes derivadas podem ser estendidas com comportamentos implementados através da sobrescrita (*override*) de métodos definidos na superclasse. Observe o exemplo a seguir."
   ]
  },
  {
   "cell_type": "code",
   "execution_count": 9,
   "metadata": {},
   "outputs": [
    {
     "name": "stdout",
     "output_type": "stream",
     "text": [
      "Olá, meu nome é judite\n",
      "Olá, sou um funcionário e meu nome é regina\n"
     ]
    }
   ],
   "source": [
    "class Pessoa:\n",
    "    def __init__(self, nome, idade):\n",
    "        self._nome = nome\n",
    "        self._idade = idade\n",
    "    \n",
    "    @property\n",
    "    def nome(self):\n",
    "        return self._nome\n",
    "    \n",
    "    def se_apresenta(self):\n",
    "        print(f'Olá, meu nome é {self._nome}') \n",
    "\n",
    "class Funcionario(Pessoa):\n",
    "    def __init__(self, nome, idade, salario):\n",
    "        Pessoa.__init__(self, nome, idade)\n",
    "        self._salario = salario\n",
    "    \n",
    "    # o método definido em Pessoa está sendo sobrescrito\n",
    "    def se_apresenta(self):\n",
    "        print(f'Olá, sou um funcionário e meu nome é {self._nome}')\n",
    "\n",
    "def main():\n",
    "    p = Pessoa('judite', 21)\n",
    "    p.se_apresenta() # implementação de Pessoa é usada\n",
    "    f = Funcionario('regina', 25, 5000)\n",
    "    f.se_apresenta() # implementação de Funcionario é usada\n",
    "    \n",
    "if __name__ == \"__main__\":\n",
    "    main()"
   ]
  },
  {
   "cell_type": "markdown",
   "metadata": {},
   "source": [
    "### 1.6 Estendendo Classes Derivadas com Extensão de Métodos\n",
    "\n",
    "Também é possível implementar métodos que estendem outros métodos implementados na superclasse. Esta funcionalidade é mostrada no exemplo a seguir."
   ]
  },
  {
   "cell_type": "code",
   "execution_count": 10,
   "metadata": {},
   "outputs": [
    {
     "name": "stdout",
     "output_type": "stream",
     "text": [
      "Olá, meu nome é regina\n",
      "regina é um funcionário\n"
     ]
    }
   ],
   "source": [
    "class Funcionario(Pessoa):\n",
    "    def __init__(self, nome, idade, salario):\n",
    "        Pessoa.__init__(self, nome, idade)\n",
    "        self._salario = salario\n",
    "    \n",
    "    # o método definido em Pessoa continua sendo sobrescrito,\n",
    "    # mas a implementação base é chamada na implementação derivada\n",
    "    def se_apresenta(self):\n",
    "        Pessoa.se_apresenta(self) # chamada da impl. base do método\n",
    "        print(f'{self._nome} é um funcionário')\n",
    "\n",
    "def main():\n",
    "    f = Funcionario('regina', 25, 5000)\n",
    "    f.se_apresenta()\n",
    "    \n",
    "if __name__ == '__main__':\n",
    "    main()"
   ]
  },
  {
   "cell_type": "markdown",
   "metadata": {},
   "source": [
    "### 1.7 Hierarquia de Contas Bancárias\n",
    "\n",
    "O código a seguir implementa a hierarquia de contas bancárias\n",
    "que possui as seguintes características:\n",
    "\n",
    "- Existem 2 tipos de contas bancárias: conta corrente e conta poupança\n",
    "- Toda conta deve conter os métodos `saque` e `deposito`\n",
    "- Apenas uma conta do tipo conta corrente pode fazer transferência pra qualquer outra conta\n",
    "- Uma conta poupança tem o método `rende`, que aplica a taxa de 0.95% sobre o saldo da poupança\n",
    "- Todo saque em uma conta poupança tem uma taxa de R$2"
   ]
  },
  {
   "cell_type": "code",
   "execution_count": null,
   "metadata": {},
   "outputs": [],
   "source": [
    "class ContaBancaria:\n",
    "    def __init__(self, numero, saldo):\n",
    "        self._numero = numero\n",
    "        self._saldo = saldo\n",
    "    \n",
    "    def saque(self, valor):\n",
    "        self._saldo -= valor\n",
    "        \n",
    "    def deposito(self, valor):\n",
    "        self._saldo += valor\n",
    "        \n",
    "    def __str__(self):\n",
    "        return f\"Numero: {self._numero}, saldo: R${self._saldo}\"\n",
    "\n",
    "class ContaCorrente(ContaBancaria):\n",
    "    \n",
    "    # Como não há nenhum atributo a mais em relação à classe base,\n",
    "    # não é necessário sobrescrever o método __init__\n",
    "    \n",
    "    # extensão de funcionalidade com novo método\n",
    "    def transfere(self, valor, conta):\n",
    "        self.saque(valor)\n",
    "        conta.deposito(valor)\n",
    "    \n",
    "    # sobrescrita de método com reutilização de implementação\n",
    "    def __str__(self):\n",
    "        s = 'Conta Corrente:\\n'\n",
    "        return s + ContaBancaria.__str__(self)\n",
    "\n",
    "class ContaPoupanca(ContaBancaria):\n",
    "    \n",
    "    # Como não há nenhum atributo a mais em relação à classe base,\n",
    "    # não é necessário sobrescrever o método __init__\n",
    "    \n",
    "    # Redefinir o __init__ como a seguir é a mesma coisa que\n",
    "    # não implementá-lo \n",
    "    # def __init__(self, numero, saldo):\n",
    "    #   ContaBancaria.__init__(self, numero, saldo)\n",
    "    \n",
    "    # sobrescrita de método para definição de nova lógica\n",
    "    # de um mesmo método, também utilizando código base\n",
    "    def saque(self, valor):\n",
    "        ContaBancaria.saque(self, valor + 2.0) # R$2 de taxa de saque\n",
    "    \n",
    "    # extensão de funcionalidade com novo método\n",
    "    def rende(self):\n",
    "        self.saldo += self.saldo*0.0095\n",
    "    \n",
    "    # sobrescrita de método com reutilização de implementação\n",
    "    def __str__(self):\n",
    "        s = 'Conta Poupanca:\\n'\n",
    "        return s + ContaBancaria.__str__(self)\n",
    "\n",
    "def main():\n",
    "    cc1 = ContaCorrente(111, 2000.00)\n",
    "    print(cc1)\n",
    "    cc1.deposito(100)\n",
    "    print(cc1)\n",
    "    cp1 = ContaPoupanca(222, 100.00)\n",
    "    print(cp1)\n",
    "    cc1.transfere(300, cp1)\n",
    "    cp1.saque(150)\n",
    "    print(cc1)\n",
    "    print(cp1)\n",
    "    \n",
    "if __name__ == '__main__':\n",
    "    main()"
   ]
  },
  {
   "cell_type": "markdown",
   "metadata": {},
   "source": [
    "## Exercício de Fixação 1\n",
    "\n",
    "Implemente o diagrama de classes e o sistema para vendas online de produtos com os requisitos a seguir:\n",
    "\n",
    "- Existem 2 tipos de `Produto`: `Livro` e `Jogo`\n",
    "- Todo `Produto` tem um `codigo`, `preco` e uma variável \n",
    "  que informa se existem desconto ativado para um produto\n",
    "- Para criar um produto, deve ser utilizado apenas o seu preço\n",
    "    - O seu código deve ser gerado aleatoriamente entre 100 e 999 (código abaixo)\n",
    "- A classe `Produto` contém o método `preco_com_desconto` que  \n",
    "  recebe como parâmetro a porcentagem do desconto e retorna o preço \n",
    "  com desconto\n",
    "- Um `Livro` tem como atributos `titulo` e `autor`\n",
    "- Um `Jogo` tem como atributos `nome` e `plataforma`\n",
    "  (que indica se o jogo é para Playstation 4, Xbox One, etc.)\n",
    "- Se o desconto estiver ativado para um `Livro`, ele deve ser de \n",
    "  30%\n",
    "- Se o desconto estiver ativado para um `Jogo`, ele deve ser de 18% \n",
    "  para jogos da plataforma `PS4`, 20% para jogos da plataforma \n",
    "  `Xbox One` e 10% para qualquer outro jogo"
   ]
  },
  {
   "cell_type": "code",
   "execution_count": null,
   "metadata": {},
   "outputs": [],
   "source": [
    "import random\n",
    "\n",
    "# Gerador de numeros aleatorios entre 1 e 999\n",
    "random.randint(100, 999)  "
   ]
  },
  {
   "cell_type": "code",
   "execution_count": null,
   "metadata": {},
   "outputs": [],
   "source": [
    "def main():\n",
    "    l1 = Livro('O homem duplicado', 'Jose Saramago', 30.00)\n",
    "    l2 = Livro('O idiota', 'Fiodor Dostoievski', 35.00)\n",
    "    l2.ativa_desconto()\n",
    "    l3 = Livro('Revolução dos bichos', 'George Orwell', 35.00)\n",
    "    j1 = Jogo('Street Fighter V', 'PS4', 200.00)\n",
    "    j2 = Jogo('Call of Duty: Black Ops Cold War', 'PS4', 250.00)\n",
    "    j2.ativa_desconto()\n",
    "    j3 = Jogo('Call of Duty: Black Ops Cold War', 'Xbox One', 250.00)\n",
    "    j3.ativa_desconto()\n",
    "    j4 = Jogo('Forza Horizon 4', 'Xbox One', 200.00)\n",
    "    j5 = Jogo('Zelda: Breath of the Wild', 'Switch', 300.00)\n",
    "    j5.ativa_desconto()\n",
    "\n",
    "    l = [l1, l2, l3, j1, j2, j3, j4, j5]\n",
    "    for prod in l:\n",
    "        print(prod)\n",
    "    \n",
    "if __name__ == '__main__':\n",
    "    main()"
   ]
  },
  {
   "cell_type": "markdown",
   "metadata": {},
   "source": [
    "Saída esperada:\n",
    "\n",
    "```\n",
    "Livro: O homem duplicado - Jose Saramago\n",
    "Cod: 133: R$30.00\n",
    "Preço com desconto: R$30.00\n",
    "\n",
    "Livro: O idiota - Fiodor Dostoievski\n",
    "Cod: 159: R$35.00\n",
    "Preço com desconto: R$24.50\n",
    "\n",
    "Livro: Revolução dos bichos - George Orwell\n",
    "Cod: 152: R$35.00\n",
    "Preço com desconto: R$35.00\n",
    "\n",
    "Jogo: Street Fighter V - PS4\n",
    "Cod: 155: R$200.00\n",
    "Preço com desconto: R$200.00\n",
    "\n",
    "Jogo: Call of Duty: Black Ops Cold War - PS4\n",
    "Cod: 182: R$250.00\n",
    "Preço com desconto: R$205.00\n",
    "\n",
    "Jogo: Call of Duty: Black Ops Cold War - Xbox One\n",
    "Cod: 122: R$250.00\n",
    "Preço com desconto: R$200.00\n",
    "\n",
    "Jogo: Forza Horizon 4 - Xbox One\n",
    "Cod: 137: R$200.00\n",
    "Preço com desconto: R$200.00\n",
    "\n",
    "Jogo: Zelda: Breath of the Wild - Switch\n",
    "Cod: 189: R$300.00\n",
    "Preço com desconto: R$270.00\n",
    "```"
   ]
  },
  {
   "cell_type": "markdown",
   "metadata": {},
   "source": [
    "## Exercício de Fixação 2\n",
    "\n",
    "Implemente o diagrama de classes do sistema de contas bancárias apresentado no exemplo do final deste capítulo."
   ]
  }
 ],
 "metadata": {
  "kernelspec": {
   "display_name": "Python 3 (ipykernel)",
   "language": "python",
   "name": "python3"
  },
  "language_info": {
   "codemirror_mode": {
    "name": "ipython",
    "version": 3
   },
   "file_extension": ".py",
   "mimetype": "text/x-python",
   "name": "python",
   "nbconvert_exporter": "python",
   "pygments_lexer": "ipython3",
   "version": "3.10.9"
  }
 },
 "nbformat": 4,
 "nbformat_minor": 4
}
