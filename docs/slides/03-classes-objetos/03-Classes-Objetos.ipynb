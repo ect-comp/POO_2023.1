{
 "cells": [
  {
   "cell_type": "markdown",
   "metadata": {},
   "source": [
    "# Aula 3 - Classes, Objetos e Abstração\n",
    "\n",
    "Neste documento serão apresentados os comandos Python para se trabalhar com classes."
   ]
  },
  {
   "cell_type": "markdown",
   "metadata": {},
   "source": [
    "Ao implementar uma classe, devemos definir: \n",
    " * **Atributos**: características de cada objeto que devemos armazenar. Também chamados de membros. \n",
    " * Um **inicializador**: método especial para inicializar os atributos que um objeto possui.\n",
    " * **Métodos**: funções que determinam o comportamento da classe.\n",
    " \n",
    "Depois que a classe está definida, podemos instanciar/criar objetos da classe e também chamar\n",
    "os métodos da classe a partir dos seus objetos."
   ]
  },
  {
   "cell_type": "markdown",
   "metadata": {},
   "source": [
    "## 1. Inicializadores e atributos\n",
    "\n",
    "A sintaxe a seguir mostra como definir uma classe em Python."
   ]
  },
  {
   "cell_type": "code",
   "execution_count": 2,
   "metadata": {},
   "outputs": [],
   "source": [
    "class Pessoa:\n",
    "    '''Representação de uma pessoa'''\n",
    "    \n",
    "    def __init__(self):\n",
    "        '''Inicia uma pessoa com atributos com valor padrão'''\n",
    "        self.nome = ''\n",
    "        self.idade = 0"
   ]
  },
  {
   "cell_type": "markdown",
   "metadata": {},
   "source": [
    "- `__init__` é o inicializador da classe (parecido com o construtor de outras linguagens)\n",
    "\n",
    "- Chamado automaticamente quando um objeto da classe é criado\n",
    "\n",
    "- `self` é a referência ao próprio objeto criado\n",
    "  - É um nome utilizado para acessar os valores dos atributos dentro da classe\n",
    "  - Em Python, deve ser explicitamente o primeiro parâmetro de todo método\n",
    "  - Similar ao `this` do Java/C++\n",
    "\n",
    "- `self.nome` e `self.idade` são os 2 atributos (características) da classe\n",
    "  - Todos os atributos da classe devem ser declarados no `__init__`"
   ]
  },
  {
   "cell_type": "markdown",
   "metadata": {},
   "source": [
    "## 2. Criando/instanciando objetos\n",
    "\n",
    "Uma vez que a classe foi definida, podemos **criar/instanciar** objetos (também chamados de instâncias) desta classe. Para compreender melhor estes conceitos, lembre-se que um objeto está para a sua classe assim como uma variável está para o seu tipo."
   ]
  },
  {
   "cell_type": "code",
   "execution_count": 3,
   "metadata": {},
   "outputs": [
    {
     "name": "stdout",
     "output_type": "stream",
     "text": [
      "\n",
      "0\n",
      "Joao\n",
      "20\n"
     ]
    }
   ],
   "source": [
    "p = Pessoa() # inicializa um objeto da classe Pessoa\n",
    "# internamente Python chama o método __init__\n",
    "\n",
    "print(p.nome) # acessa os atributos\n",
    "print(p.idade)\n",
    "\n",
    "p.nome = 'Joao' # atribui valores para o atributo nome\n",
    "p.idade = 20 # atribui valores para o atributo idade\n",
    "\n",
    "print(p.nome)\n",
    "print(p.idade)\n",
    "\n",
    "# por enquanto a classe não tem comportamento definido, já que não implementamos nenhum método dela"
   ]
  },
  {
   "cell_type": "markdown",
   "metadata": {},
   "source": [
    "## 3. Definindo os métodos de uma classe\n",
    "\n",
    "O comportamento de uma classe é determinado quando os seus métodos são programados. Um método nada mais é do que uma função dentro do escopo de uma classe. Este deve ser **executado/chamado/invocado** através de objetos da classe."
   ]
  },
  {
   "cell_type": "markdown",
   "metadata": {},
   "source": [
    "### Exemplo 1: classe `Pessoa`"
   ]
  },
  {
   "cell_type": "code",
   "execution_count": 6,
   "metadata": {},
   "outputs": [
    {
     "name": "stdout",
     "output_type": "stream",
     "text": [
      "Joao - 20\n"
     ]
    }
   ],
   "source": [
    "class Pessoa:\n",
    "    '''Representação de uma pessoa'''\n",
    "    \n",
    "    def __init__(self, nome, idade): # inicializador possui dois parâmetros\n",
    "        '''Inicia uma pessoa com atributos com valor padrão'''\n",
    "        self.nome = nome\n",
    "        self.idade = idade\n",
    "        \n",
    "    def imprime(self):\n",
    "        '''Imprime um texto com informações da Pessoa'''\n",
    "        print(f'{self.nome} - {self.idade}')\n",
    "        \n",
    "# A partir deste ponto no código, o código está fora do escopo da classe\n",
    "p = Pessoa('Joao', 20) # dois parâmetros passados\n",
    "p.imprime()"
   ]
  },
  {
   "cell_type": "markdown",
   "metadata": {},
   "source": [
    "### Exemplo 2: classe `Ponto2D`"
   ]
  },
  {
   "cell_type": "code",
   "execution_count": 6,
   "metadata": {},
   "outputs": [
    {
     "name": "stdout",
     "output_type": "stream",
     "text": [
      "Ponto2D(3,2)\n"
     ]
    }
   ],
   "source": [
    "class Ponto2D:\n",
    "    '''Representação de uma coordenada no plano cartesiano'''\n",
    "    \n",
    "    def __init__(self, x, y): # inicializador possui dois parâmetros\n",
    "        '''Inicialização das coordenadas x e y'''\n",
    "        self.x = x\n",
    "        self.y = y\n",
    "        \n",
    "    def imprime(self):\n",
    "        '''Imprime um texto com informações do Ponto2D'''\n",
    "        print('Ponto2D({},{})'.format(self.x, self.y))\n",
    "\n",
    "# A partir deste ponto no código, o código está fora do escopo da classe\n",
    "P1 = Ponto2D(3,2)\n",
    "P1.imprime()"
   ]
  },
  {
   "cell_type": "markdown",
   "metadata": {},
   "source": [
    "### Métodos Mágicos em Python\n",
    "\n",
    "A linguagem Python possui uma série de métodos mágicos, também conhecidos como \"dunders\" (*double underscores*), que começam e terminam com `__` (dois underscores). O `__init__` é um exemplo de método mágico.\n",
    "\n",
    "Existe também um método mágico para converter um objeto em uma string, como mostrado a seguir."
   ]
  },
  {
   "cell_type": "code",
   "execution_count": 7,
   "metadata": {},
   "outputs": [
    {
     "name": "stdout",
     "output_type": "stream",
     "text": [
      "Joao - 20\n",
      "Joao - 20\n",
      "Joao - 20\n"
     ]
    }
   ],
   "source": [
    "class Pessoa:\n",
    "    '''Representação de uma pessoa'''\n",
    "    \n",
    "    def __init__(self, nome, idade): # inicializador possui dois parâmetros\n",
    "        '''Inicia uma pessoa com atributos com valor padrão'''\n",
    "        self.nome = nome\n",
    "        self.idade = idade\n",
    "        \n",
    "    def __str__(self):\n",
    "        '''Retorna uma representaçãoem formato de string de uma Pessoa'''\n",
    "        return(f'{self.nome} - {self.idade}')\n",
    "\n",
    "p = Pessoa('Joao', 20) # dois parâmetros passados\n",
    "s = str(p) # string s recebe o resultado da conversão  \n",
    "print(s) # imprime string\n",
    "print(p.__str__()) # faz o mesmo que acima (quase nunca utilizada)\n",
    "print(p) # melhor forma de imprimir um objeto"
   ]
  },
  {
   "cell_type": "markdown",
   "metadata": {},
   "source": [
    "### Parâmetros de Métodos\n",
    "\n",
    "Nada impede que os métodos recebam outras instâncias da mesma classe (ou de outras classes) como parâmetros. Por exemplo, pode ser interessante para a classe `Pessoa` ter um método `cumprimeta` implementado. Este método é utilizado para uma pessoa cumprimentar\n",
    "uma outra passada como parâmetro:"
   ]
  },
  {
   "cell_type": "code",
   "execution_count": 8,
   "metadata": {},
   "outputs": [
    {
     "name": "stdout",
     "output_type": "stream",
     "text": [
      "Olá Maria, tudo bem?\n",
      "Olá Joao, tudo bem?\n"
     ]
    }
   ],
   "source": [
    "class Pessoa:\n",
    "    '''Representação de uma pessoa'''\n",
    "    \n",
    "    def __init__(self, nome, idade): # inicializador possui dois parâmetros\n",
    "        '''Inicia uma pessoa com atributos com valor padrão'''\n",
    "        self.nome = nome\n",
    "        self.idade = idade\n",
    "        \n",
    "    def __str__(self):\n",
    "        '''Retorna uma representaçãoem formato de string de uma Pessoa'''\n",
    "        return(f'{self.nome} - {self.idade}')\n",
    "    \n",
    "    def cumprimenta(self, p):\n",
    "        '''Cumprimenta uma pessoa passada como parâmetro'''\n",
    "        print(f'Olá {p.nome}, tudo bem?')\n",
    "\n",
    "p1 = Pessoa('Joao', 20)\n",
    "p2 = Pessoa('Maria', 21)\n",
    "p1.cumprimenta(p2) # pessoa p1 cumprimenta p2\n",
    "p2.cumprimenta(p1) # pessoa p2 cumprimenta p1"
   ]
  },
  {
   "cell_type": "markdown",
   "metadata": {},
   "source": [
    "## 4. Classes que Utilizam Outras Classes\n",
    "\n",
    "Em programação orientada a objetos é possível utilizar objetos como atributos das classes sendo construídas.\n",
    "\n",
    "Um possível exemplo é a classe `Circulo`, que tem como atributos o seu raio e o seu centro. Este último é um objeto da classe `Ponto2D`. Observe o código a seguir."
   ]
  },
  {
   "cell_type": "code",
   "execution_count": 10,
   "metadata": {},
   "outputs": [
    {
     "name": "stdout",
     "output_type": "stream",
     "text": [
      "Circulo(Ponto2D(0,0), 5)\n",
      "Circulo(Ponto2D(4,10), 5)\n",
      "Help on Circulo in module __main__ object:\n",
      "\n",
      "class Circulo(builtins.object)\n",
      " |  Circulo(centro, raio)\n",
      " |  \n",
      " |  Representação de um círculo\n",
      " |  \n",
      " |  Methods defined here:\n",
      " |  \n",
      " |  __init__(self, centro, raio)\n",
      " |      Centro (x,y) e raio do círculo\n",
      " |  \n",
      " |  __str__(self)\n",
      " |      Retorna uma representação em formato string de um Circulo\n",
      " |  \n",
      " |  move_centro(self, novoX, novoY)\n",
      " |      Move o centro do círculo\n",
      " |  \n",
      " |  ----------------------------------------------------------------------\n",
      " |  Data descriptors defined here:\n",
      " |  \n",
      " |  __dict__\n",
      " |      dictionary for instance variables (if defined)\n",
      " |  \n",
      " |  __weakref__\n",
      " |      list of weak references to the object (if defined)\n",
      "\n"
     ]
    }
   ],
   "source": [
    "class Ponto2D:\n",
    "    '''Representação de uma coordenada no plano cartesiano'''\n",
    "    \n",
    "    def __init__(self, x, y):\n",
    "        '''Inicialização das coordenadas x e y'''\n",
    "        self.x = x\n",
    "        self.y = y\n",
    "        \n",
    "    def __str__(self):\n",
    "        '''Retorna uma representação em formato string de um Ponto2D'''\n",
    "        return 'Ponto2D({},{})'.format(self.x, self.y)\n",
    "        \n",
    "class Circulo:\n",
    "    '''Representação de um círculo'''\n",
    "    \n",
    "    def __init__(self, centro, raio):\n",
    "        '''Centro (x,y) e raio do círculo'''\n",
    "        self.centro = centro # atributo da classe Ponto2D\n",
    "        self.raio = raio # atributo float\n",
    "    \n",
    "    def move_centro(self, novoX, novoY):\n",
    "        '''\n",
    "        Move o centro do círculo atribuindo\n",
    "        um novo Ponto2D como centro\n",
    "        '''\n",
    "        self.centro = Ponto2D(novoX, novoY)\n",
    "    \n",
    "    def __str__(self):\n",
    "        '''Retorna uma representação em formato string de um Circulo'''\n",
    "        return 'Circulo({}, {})'.format(self.centro, self.raio)\n",
    "\n",
    "# podemos criar objetos da classe Circulo\n",
    "c1 = Circulo(Ponto2D(0,0), 5)\n",
    "print(c1) #Conversão automática para str\n",
    "\n",
    "# move o círculo para uma nova posição\n",
    "c1.move_centro(4,10)\n",
    "print(c1)\n",
    "\n",
    "# help imprime toda a documentação do objeto passado como parâmetro,\n",
    "# neste caso, um objeto da classe Circulo\n",
    "help(c1)"
   ]
  },
  {
   "cell_type": "markdown",
   "metadata": {},
   "source": [
    "## 5. Função Main\n",
    "\n",
    "Em Python, não é necessário definir a função `main` (ver exemplos acima). Porém, existem vantagens em escrever essa função como a seguir."
   ]
  },
  {
   "cell_type": "code",
   "execution_count": 11,
   "metadata": {},
   "outputs": [
    {
     "name": "stdout",
     "output_type": "stream",
     "text": [
      "Circulo(Ponto2D(3,2), 10)\n"
     ]
    }
   ],
   "source": [
    "def main():\n",
    "    '''Função principal'''\n",
    "    C = Circulo(Ponto2D(3,2),10)\n",
    "    print(C)\n",
    "\n",
    "# executar a função principal\n",
    "if __name__ == \"__main__\":\n",
    "    main()"
   ]
  },
  {
   "cell_type": "markdown",
   "metadata": {},
   "source": [
    "O significado de `__name__ == \"__main__\"` vai ficar claro na aula de Módulos. Por enquanto, podemos dizer que o `if` está verificando se nosso programa está rodando no escopo principal (chamado de `__main___`) e não como um Módulo. Por enquanto, podemos ignorar esse `if` e o resultado é o mesmo."
   ]
  },
  {
   "cell_type": "code",
   "execution_count": 12,
   "metadata": {},
   "outputs": [
    {
     "name": "stdout",
     "output_type": "stream",
     "text": [
      "Circulo(Ponto2D(3,2), 10)\n"
     ]
    }
   ],
   "source": [
    "main() #Chamando a função main"
   ]
  },
  {
   "cell_type": "markdown",
   "metadata": {},
   "source": [
    "## 6. Detalhes\n",
    "\n",
    "### Chamada de método em Python\n",
    "\n",
    "Existe uma alternativa de chamada de método em Python, que fará mais sentido algumas aulas à frente. Na chamada `C.move_centro(x, y)`, da implementação da classe `Circulo`, o que a linguagem faz é \"traduzir\" esta chamada para `Circulo.move_centro(C, x, y)`. Ou seja, `move_centro` pode ser vista como uma função do módulo/biblioteca `Circulo` para a qual estão sendo passados os parâmetros `C`, `x` e `y`."
   ]
  },
  {
   "cell_type": "code",
   "execution_count": 15,
   "metadata": {},
   "outputs": [
    {
     "name": "stdout",
     "output_type": "stream",
     "text": [
      "Circulo(Ponto2D(1,1), 1)\n",
      "Circulo(Ponto2D(1,1), 1)\n"
     ]
    }
   ],
   "source": [
    "C = Circulo(Ponto2D(0,0), 1)\n",
    "x = y = 1\n",
    "C.move_centro(x, y) # forma comum de chamar um método\n",
    "print(C)\n",
    "Circulo.move_centro(C, x, y) # forma alternativa (nunca utilizada)\n",
    "print(C)"
   ]
  },
  {
   "cell_type": "markdown",
   "metadata": {},
   "source": [
    "### Python como linguagem dinâmica\n",
    "\n",
    "Python é uma linguagem dinamicamente tipada. De uma forma curta, o tipo (classe) das variáveis (objetos) é determinado com o programa em execução e não no momento da compilação (como acontece com C++). Além disso, é possível modificar os tipos/classes já definidos.\n",
    "\n",
    "Isto pode causar confusão. Observe o exemplo a seguir e veja como a linguagem se comporta com a criação dinâmica de atributos. Obviamente, esta forma de se trabalhar com a linguagem está incorreta e consta neste documento para que você entenda o funcionamento da linguagem com maior clareza."
   ]
  },
  {
   "cell_type": "code",
   "execution_count": 24,
   "metadata": {},
   "outputs": [
    {
     "name": "stdout",
     "output_type": "stream",
     "text": [
      "Ponto2D(0,0)\n",
      "vermelho\n"
     ]
    }
   ],
   "source": [
    "class Ponto2D:\n",
    "    '''Representação de uma coordenada no plano cartesiano'''\n",
    "    \n",
    "    def __init__(self, x, y):\n",
    "        '''Inicialização das coordenadas x e y'''\n",
    "        self.x = x\n",
    "        self.y = y\n",
    "        \n",
    "    def __str__(self):\n",
    "        '''Retorna uma representação em formato string de um Ponto2D'''\n",
    "        return 'Ponto2D({},{})'.format(self.x, self.y)\n",
    "\n",
    "# separação do programa que usa as classes das definições das classes\n",
    "if __name__ == \"__main__\":\n",
    "    p1 = Ponto2D(0, 0)\n",
    "    print(p1)\n",
    "    p1.cor = 'vermelho' # novo atributo criado dinamicamente; observe que ele não está na definição da classe\n",
    "    print(p1.cor)\n",
    "    p2 = Ponto2D(1, 1)\n",
    "    #print(p2.cor) #erro! o objeto p2 não possui o atributo cor"
   ]
  },
  {
   "cell_type": "markdown",
   "metadata": {},
   "source": [
    "## Exercício para fixação: Números complexos\n",
    "\n",
    "Implemente a classe `Complexo` para representar um número complexo.\n",
    "Um número complexo é um número $Z = a + bi$, no qual $a$ é a sua parte real, $b$ é a sua parte imaginária e $i$ é $\\sqrt{-1}$.\n",
    "\n",
    "Sua classe deve oferecer os seguintes métodos:\n",
    " - `__init__`: inicializa um objeto da classe recebendo como parâmetro a sua parte real e imaginária\n",
    " - `reset`: atribui 0.0 à parte real e à parte imaginaria.\n",
    " - `__str__`: converte o número complexo em uma string no formato $a + bi$\n",
    " - `soma`: retorna um número complexo dado pela soma do próprio número complexo com um outro passado como parâmetro. A soma de um número complexo $Z_1 = a_1 + b_1i$ com outro $Z_2 = a_2 + b_2i$ é igual ao número complexo $Z_3 = (a_1 + a_2) + (b_1 + b_2)i$. Observe que o método deve instanciar um objeto da classe `Complexo`, atribuir a sua parte real e imaginária e retorná-lo. Isto não é a mesma coisa que imprimir o número complexo resultante.\n",
    " - `modulo`: retorna o módulo do número complexo, dado por $\\sqrt{a^2 + b^2}$\n",
    " \n",
    "Utilize o código a seguir como ponto de partida. O código de teste para a sua classe é dado e não deve ser modificado."
   ]
  },
  {
   "cell_type": "code",
   "execution_count": null,
   "metadata": {},
   "outputs": [],
   "source": [
    "import math\n",
    "\n",
    "class Complexo:\n",
    "    # implemente o código da classe\n",
    "\n",
    "def main():\n",
    "    '''Função principal do programa.'''\n",
    "    \n",
    "    c1 = Complexo(2, 3)\n",
    "    c2 = Complexo(10, 7)\n",
    "    print(c1)\n",
    "    print(c2)\n",
    "\n",
    "    c3 = c1.soma(c2)\n",
    "    print(c3)\n",
    "    print(c3.modulo())\n",
    "\n",
    "    c3.reset()\n",
    "    print(c3)\n",
    "    \n",
    "if __name__ == '__main__':\n",
    "    main()"
   ]
  },
  {
   "cell_type": "markdown",
   "metadata": {},
   "source": [
    "Saída esperada:\n",
    "\n",
    "```\n",
    "2 + 3i\n",
    "10 + 7i\n",
    "12 + 10i\n",
    "15.620499351813308\n",
    "0.0 + 0.0i\n",
    "```"
   ]
  }
 ],
 "metadata": {
  "kernelspec": {
   "display_name": "Python 3 (ipykernel)",
   "language": "python",
   "name": "python3"
  },
  "language_info": {
   "codemirror_mode": {
    "name": "ipython",
    "version": 3
   },
   "file_extension": ".py",
   "mimetype": "text/x-python",
   "name": "python",
   "nbconvert_exporter": "python",
   "pygments_lexer": "ipython3",
   "version": "3.9.7"
  }
 },
 "nbformat": 4,
 "nbformat_minor": 4
}
