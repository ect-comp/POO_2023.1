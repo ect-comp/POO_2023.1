{
 "cells": [
  {
   "cell_type": "markdown",
   "metadata": {},
   "source": [
    "# Aula 09 - Atributos e métodos de Classe\n",
    "\n",
    "Neste documento é apresentado como se trabalhar em Python com atributos e métodos de classe."
   ]
  },
  {
   "cell_type": "markdown",
   "metadata": {},
   "source": [
    "## 1. Atributos de Classe\n",
    "\n",
    "Atributos de classe são compartilhados entre\n",
    "todas as instâncias daquela classe.\n",
    "\n",
    "Em Python, atributos devem ser declarados dentro\n",
    "do escopo da classe mas fora do corpo\n",
    "de qualquer método.\n",
    "\n",
    "Veja abaixo a sintaxe a ser utilizada."
   ]
  },
  {
   "cell_type": "code",
   "execution_count": null,
   "metadata": {},
   "outputs": [],
   "source": [
    "class A:\n",
    "\n",
    "    # Atributos de classe são declarados fora do __init__\n",
    "    atributo_de_classe1 = ...\n",
    "    atributo_de_classe2 = ...\n",
    "    \n",
    "    def __init__(self, ...):\n",
    "      # Não confundir com os atributos de instância (declarados no __init__)\n",
    "      self.atributo_de_instancia1 = ...\n",
    "      self.atributo_de_instancia2 = ...\n",
    "      self.atributo_de_instancia3 = ...\n",
    "\n",
    "    # Método de classe não tem parâmetro self\n",
    "    def metodo_de_classe():\n",
    "      ..."
   ]
  },
  {
   "cell_type": "markdown",
   "metadata": {},
   "source": [
    "A seguir, são apresnetados alguns exemplos de atributos e métodos de classe."
   ]
  },
  {
   "cell_type": "markdown",
   "metadata": {},
   "source": [
    "### 1.1 Exemplo 1: Atributo de Classe\n",
    "\n",
    "Considere uma classe para representar um veículo\n",
    "com 4 rodas. Uma primeira tentativa de\n",
    "implementar este modelo se dá como segue."
   ]
  },
  {
   "cell_type": "code",
   "execution_count": null,
   "metadata": {},
   "outputs": [],
   "source": [
    "# Primeira tentativa\n",
    "class Veiculo4Rodas:\n",
    "    def __init__(self, nome):\n",
    "        self.nome = nome\n",
    "        self.rodas = 4 # atributo de instância\n",
    "        \n",
    "    def __str__(self):\n",
    "        return f'Veiculo {self.nome} com {self.rodas} rodas'\n",
    "\n",
    "def main():\n",
    "    # cada instância pode ter um número diferente de rodas\n",
    "    v1 = Veiculo4Rodas('carro sedan')\n",
    "    v2 = Veiculo4Rodas('carro esportivo')\n",
    "    print(v1)\n",
    "    print(v2)\n",
    "    v1.rodas = 3 # modificando a qtd. de rodas de v1\n",
    "    print(v1)\n",
    "    print(v2)\n",
    "    \n",
    "if __name__ == '__main__':\n",
    "    main()"
   ]
  },
  {
   "cell_type": "markdown",
   "metadata": {},
   "source": [
    "Entretanto, observe que não faz sentido armazenar em cada instância o número de rodas de um veículo de 4 rodas, porque *todas as instâncias* desta classe devem ter exatamente 4 rodas.\n",
    "\n",
    "Faz sentido então que isto seja um atributo global da classe (compartilhado por todas as instâncias). O código a seguir mostra\n",
    "como isto pode ser implementado."
   ]
  },
  {
   "cell_type": "code",
   "execution_count": null,
   "metadata": {},
   "outputs": [],
   "source": [
    "class Veiculo4Rodas:\n",
    "    \n",
    "    rodas = 4 # atributo de classe, compartilhado por todas as instâncias\n",
    "    \n",
    "    def __init__(self, nome):\n",
    "        self.nome = nome\n",
    "        \n",
    "    def __str__(self):\n",
    "        # dentro da classe, o atributo da classe pode ser acessado\n",
    "        # via self ou via nome da classe\n",
    "        # utilize sempre este último para evitar confusão\n",
    "        return f'Veiculo {self.nome} com {Veiculo4Rodas.rodas} rodas'\n",
    "        #return f'Veiculo {self.nome} com {self.rodas} rodas' # funciona mas é ambíguo\n",
    "\n",
    "def main():\n",
    "    v1 = Veiculo4Rodas('carro sedan')\n",
    "    v2 = Veiculo4Rodas('carro esportivo')\n",
    "    print(v1)\n",
    "    print(v2)\n",
    "    print(v1.nome) # nome é atributo de instância\n",
    "    print(v1.rodas) # rodas é atributo de classe\n",
    "    print(Veiculo4Rodas.rodas)\n",
    "    v1.rodas += 1 # cuidado: Python cria um novo atributo de instância com base no atributo de classe\n",
    "    print(v1)\n",
    "    print(v2)\n",
    "    print(v1.rodas, v1.__class__.rodas) # v1 possui agora 2 atributos diferentes\n",
    "        \n",
    "if __name__ == '__main__':\n",
    "    main()"
   ]
  },
  {
   "cell_type": "markdown",
   "metadata": {},
   "source": [
    "Observe que as mesmas regras de encapsulamento que valem para atributos de instância\n",
    "também valem para atributos de classe."
   ]
  },
  {
   "cell_type": "markdown",
   "metadata": {},
   "source": [
    "### 1.2 Exemplo 2: Atributo de Classe em `Pessoa`\n",
    "\n",
    "Suponha que queiramos armazenar a quantidade de instâncias de uma classe como atributo de uma classe que representa uma `Pessoa`. Veja abaixo como podemos proceder nesta direção."
   ]
  },
  {
   "cell_type": "code",
   "execution_count": null,
   "metadata": {},
   "outputs": [],
   "source": [
    "class Pessoa:\n",
    "    quant = 0 # atributo de classe\n",
    "    \n",
    "    def __init__(self, nome):\n",
    "        self._nome = nome # atributo de instância\n",
    "        Pessoa.quant += 1 # acesso ao atributo de classe com o nome da classe\n",
    "\n",
    "def main():\n",
    "    p1 = Pessoa('Joao')\n",
    "    p2 = Pessoa('Maria')\n",
    "    p3 = Pessoa('Jose')\n",
    "    \n",
    "    print(Pessoa.quant) # utilize como prefixo o nome da classe e não o objeto\n",
    "    print(p1.quant) # também pode ser acessado com o nome do objeto, mas é propenso a confusões/erros\n",
    "    #print(p2.quant)\n",
    "    #print(p3.quant)\n",
    "        \n",
    "if __name__ == \"__main__\":\n",
    "    main()"
   ]
  },
  {
   "cell_type": "markdown",
   "metadata": {},
   "source": [
    "### 1.3 Exemplo 3: Classe para Carta de Baralho\n",
    "\n",
    "Observe no código a seguir como dois atributos de classe foram utilizados\n",
    "para auxiliar na implementação de uma carta de baralho."
   ]
  },
  {
   "cell_type": "code",
   "execution_count": 5,
   "metadata": {},
   "outputs": [
    {
     "name": "stdout",
     "output_type": "stream",
     "text": [
      "Cinco de Ouro\n",
      "Oito de Paus\n",
      "Rainha de Copas\n"
     ]
    }
   ],
   "source": [
    "class Carta:\n",
    "    naipes = ('Ouro', 'Espadas', 'Copas', 'Paus')\n",
    "    valor = {1: 'Ás', 2: 'Dois', 3: 'Três', 4: 'Quatro', 5: 'Cinco',\\\n",
    "             6: 'Seis', 7: 'Sete', 8: 'Oito', 9: 'Nove', 10: 'Dez',\\\n",
    "             11: 'Valete', 12: 'Rainha', 13: 'Rei'}\n",
    "    \n",
    "    def __init__(self, valor, naipe):\n",
    "        self._valor = Carta.valor[valor]\n",
    "        self._naipe = Carta.naipes[naipe]\n",
    "        \n",
    "    def __str__(self):\n",
    "        return f'{self._valor} de {self._naipe}'\n",
    "    \n",
    "def main():\n",
    "    c1 = Carta(5, 0) # primeiro parâmetro: entre 1 e 13\n",
    "    c2 = Carta(8, 3) # segundo parâmetro: entre 0 e 3\n",
    "    c3 = Carta(12, 2)\n",
    "    print(c1)\n",
    "    print(c2)\n",
    "    print(c3)\n",
    "    \n",
    "if __name__ == '__main__':\n",
    "    main()"
   ]
  },
  {
   "cell_type": "markdown",
   "metadata": {},
   "source": [
    "### 1.4 Escopo de Variáveis e Atributos\n",
    "\n",
    "Observe o código abaixo para entender melhor como funciona\n",
    "a resolução de um atributo (como a linguagem determina se um atributo existe) em Python."
   ]
  },
  {
   "cell_type": "code",
   "execution_count": null,
   "metadata": {},
   "outputs": [],
   "source": [
    "class A:\n",
    "    tst = 123\n",
    "    \n",
    "    def __init__(self):\n",
    "        self.tst = 321\n",
    "        tst = 456\n",
    "\n",
    "def main():\n",
    "        \n",
    "    # qual valor será impresso em cada print?\n",
    "        \n",
    "    a1 = A()\n",
    "\n",
    "    print(A.tst)\n",
    "\n",
    "    print(a1.tst)\n",
    "\n",
    "    print(a1.__class__.tst)\n",
    "\n",
    "    A.tst = 456\n",
    "\n",
    "    print(A.tst)\n",
    "    \n",
    "if __name__ == '__main__':\n",
    "    main()"
   ]
  },
  {
   "cell_type": "markdown",
   "metadata": {},
   "source": [
    "## 2. Métodos de Classe\n",
    "\n",
    "Um método de classe é implementado em Python da seguinte forma:\n",
    "\n",
    "- Não tem parâmetro `self`\n",
    "- Tem o decorador `@staticmethod` informando que se trata\n",
    "  de um método de classe (estático)\n",
    "\n",
    "Um método de classe não possui o parâmetro `self` em Python\n",
    "porque ele não diz respeito a uma instância específica\n",
    "(por isso não precisa desta referência).\n",
    "\n",
    "### 2.1 Métodos de Classe para Classe `Pessoa`\n",
    "\n",
    "Considerando o exemplo anterior da classe `Pessoa`,\n",
    "é interessante tornar o atributo com a quantidade de pessoas\n",
    "privado e adicionar um método de classe\n",
    "para encapsular o acesso a ele.\n",
    "\n",
    "Observe as modificações no código anterior para\n",
    "contemplar esta funcionalidade."
   ]
  },
  {
   "cell_type": "code",
   "execution_count": null,
   "metadata": {},
   "outputs": [],
   "source": [
    "class Pessoa:\n",
    "    __quant = 0 # atributo de classe, agora privado\n",
    "    \n",
    "    def __init__(self, nome):\n",
    "        self._nome = nome # atributo de instância\n",
    "        Pessoa.__quant += 1\n",
    "    \n",
    "    @staticmethod\n",
    "    def quant_pessoas(): # método de classe (não possui self)\n",
    "        return Pessoa.__quant\n",
    "\n",
    "def main():\n",
    "    p1 = Pessoa('Joao')\n",
    "    p2 = Pessoa('Maria')\n",
    "    p3 = Pessoa('Jose')\n",
    "    #print(Pessoa.__quant) # erro: __quant é privado\n",
    "    print(Pessoa.quant_pessoas()) # chamada do método de classe a partir da classe\n",
    "    print(p1.quant_pessoas()) # chamada do método de classe a partir da instância\n",
    "                              # esta última forma só é possível\n",
    "                              # por causa do decorador @staticmethod\n",
    "    \n",
    "if __name__ == \"__main__\":\n",
    "    main()"
   ]
  },
  {
   "cell_type": "markdown",
   "metadata": {},
   "source": [
    "Apesar de não intuitivo, o uso do decorador `@staticmethod` permite que o método\n",
    "de classe seja chamado também a partir de uma instância."
   ]
  },
  {
   "cell_type": "markdown",
   "metadata": {},
   "source": [
    "## Exercício de Fixação\n",
    "\n",
    "Considerando o sistema para vendas online de produtos da aula de herança,\n",
    "adicione as funcionalidades a seguir:\n",
    "\n",
    "- A classe `Produto` contém um atributo de classe que é uma lista \n",
    "  com todos os produtos instanciados\n",
    "- A classe `Produto` contém o método estático denominado\n",
    "  `imprime_instancias` que imprime a lista de produtos instanciados"
   ]
  },
  {
   "cell_type": "code",
   "execution_count": null,
   "metadata": {},
   "outputs": [],
   "source": [
    "import random\n",
    "\n",
    "# Gerador de numeros aleatorios entre 100 e 999\n",
    "random.randint(100, 999)  "
   ]
  },
  {
   "cell_type": "code",
   "execution_count": null,
   "metadata": {},
   "outputs": [],
   "source": [
    "def main():\n",
    "    l1 = Livro('O homem duplicado', 'Jose Saramago', 30.00)\n",
    "    l2 = Livro('O idiota', 'Fiodor Dostoievski', 35.00)\n",
    "    l2.ativa_desconto()\n",
    "    l3 = Livro('Revolução dos bichos', 'George Orwell', 35.00)\n",
    "    j1 = Jogo('Street Fighter V', 'PS4', 200.00)\n",
    "    j2 = Jogo('Call of Duty: Black Ops Cold War', 'PS4', 250.00)\n",
    "    j2.ativa_desconto()\n",
    "    j3 = Jogo('Call of Duty: Black Ops Cold War', 'Xbox One', 250.00)\n",
    "    j3.ativa_desconto()\n",
    "    j4 = Jogo('Forza Horizon 4', 'Xbox One', 200.00)\n",
    "    j5 = Jogo('Zelda: Breath of the Wild', 'Switch', 300.00)\n",
    "    j5.ativa_desconto()\n",
    "    Produto.imprime_instancias()\n",
    "\n",
    "if __name__ == '__main__':\n",
    "    main()"
   ]
  },
  {
   "cell_type": "markdown",
   "metadata": {},
   "source": [
    "Saída esperada:\n",
    "\n",
    "```\n",
    "Livro: O homem duplicado - Jose Saramago\n",
    "Cod: 133: R$30.00\n",
    "Preço com desconto: R$30.00\n",
    "\n",
    "Livro: O idiota - Fiodor Dostoievski\n",
    "Cod: 159: R$35.00\n",
    "Preço com desconto: R$24.50\n",
    "\n",
    "Livro: Revolução dos bichos - George Orwell\n",
    "Cod: 152: R$35.00\n",
    "Preço com desconto: R$35.00\n",
    "\n",
    "Jogo: Street Fighter V - PS4\n",
    "Cod: 155: R$200.00\n",
    "Preço com desconto: R$200.00\n",
    "\n",
    "Jogo: Call of Duty: Black Ops Cold War - PS4\n",
    "Cod: 182: R$250.00\n",
    "Preço com desconto: R$205.00\n",
    "\n",
    "Jogo: Call of Duty: Black Ops Cold War - Xbox One\n",
    "Cod: 122: R$250.00\n",
    "Preço com desconto: R$200.00\n",
    "\n",
    "Jogo: Forza Horizon 4 - Xbox One\n",
    "Cod: 137: R$200.00\n",
    "Preço com desconto: R$200.00\n",
    "\n",
    "Jogo: Zelda: Breath of the Wild - Switch\n",
    "Cod: 189: R$300.00\n",
    "Preço com desconto: R$270.00\n",
    "```"
   ]
  }
 ],
 "metadata": {
  "kernelspec": {
   "display_name": "Python 3 (ipykernel)",
   "language": "python",
   "name": "python3"
  },
  "language_info": {
   "codemirror_mode": {
    "name": "ipython",
    "version": 3
   },
   "file_extension": ".py",
   "mimetype": "text/x-python",
   "name": "python",
   "nbconvert_exporter": "python",
   "pygments_lexer": "ipython3",
   "version": "3.10.9"
  }
 },
 "nbformat": 4,
 "nbformat_minor": 4
}
