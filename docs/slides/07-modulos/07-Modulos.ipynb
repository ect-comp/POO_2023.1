{
 "cells": [
  {
   "cell_type": "markdown",
   "metadata": {},
   "source": [
    "# Aula 7 - Módulos em Python\n",
    "\n",
    "Neste documento é apresentado como trabalhar com módulos de um programa orientado a objeto em Python."
   ]
  },
  {
   "cell_type": "markdown",
   "metadata": {},
   "source": [
    "## 1. Módulos em Python\n",
    "\n",
    "Um módulo em Python é um conjunto de constantes, funções e classes contidos em um ou mais arquivos `.py`.\n",
    "\n",
    "Módulos podem ser importados por um programa (similar ao `#include` de C++).\n",
    "\n",
    "Em Python, um módulo é um sinônimo de biblioteca."
   ]
  },
  {
   "cell_type": "markdown",
   "metadata": {},
   "source": [
    "### 1.1 Importação de Módulos\n",
    "\n",
    "Observe um exemplo a seguir de importação de módulos e uso de constantes e funções definidas dentro do módulo."
   ]
  },
  {
   "cell_type": "code",
   "execution_count": null,
   "metadata": {},
   "outputs": [],
   "source": [
    "import math # modulo da biblioteca padrão Python\n",
    "print(math.e) # constante de Euler\n",
    "print(math.sqrt(16)) # raiz quadrada"
   ]
  },
  {
   "cell_type": "markdown",
   "metadata": {},
   "source": [
    "Observe que para serem utilizados, os objetos importados do módulo precisam do prefixo com nome do módulo `math`.\n",
    "\n",
    "Alternativamente, você pode omitir o nome do módulo/prefixo se importá-lo da seguinte forma."
   ]
  },
  {
   "cell_type": "code",
   "execution_count": null,
   "metadata": {},
   "outputs": [],
   "source": [
    "from math import *\n",
    "print(e) # contante de Euler\n",
    "print(sqrt(16)) # raiz quadrada"
   ]
  },
  {
   "cell_type": "markdown",
   "metadata": {},
   "source": [
    "Ainda, você pode especificar o que deseja importar do módulo, como mostrado a seguir."
   ]
  },
  {
   "cell_type": "code",
   "execution_count": null,
   "metadata": {},
   "outputs": [],
   "source": [
    "from math import e, sqrt\n",
    "print(e)\n",
    "print(sqrt(16))"
   ]
  },
  {
   "cell_type": "markdown",
   "metadata": {},
   "source": [
    "### 1.2 Informações Sobre Módulos\n",
    "\n",
    "As funções Python `help` e `dir` podem ser utilizadas para obtermos mais informações sobre módulos.\n",
    "\n",
    "Isto é mostrado a seguir."
   ]
  },
  {
   "cell_type": "code",
   "execution_count": null,
   "metadata": {},
   "outputs": [],
   "source": [
    "import math\n",
    "dir(math) # função Python que retorna uma lista\n",
    "          # com todas as strings que são nomes de funções, constantes e\n",
    "          # classes presentes no módulo"
   ]
  },
  {
   "cell_type": "code",
   "execution_count": null,
   "metadata": {},
   "outputs": [],
   "source": [
    "import math\n",
    "help(math) # imprime ajuda do módulo"
   ]
  },
  {
   "cell_type": "markdown",
   "metadata": {},
   "source": [
    "### 1.3 Implementando os seus Próprios Módulos\n",
    "\n",
    "Em Python, todo arquivo `.py` é considerado um módulo.\n",
    "Então, uma vez que você programa um arquivo `.py`, ele pode\n",
    "ser importado por qualquer outro programa Python\n",
    "\n",
    "### 1.4 Importando os seus Próprios Módulos\n",
    "\n",
    "Baixe o arquivo [alo.py](https://raw.githubusercontent.com/ect-info/POO_2022.1/master/docs/07-modulos/alo.py) e o insira na mesma pasta que o arquivo deste notebook.\n",
    "\n",
    "O código do arquivo é o seguinte:\n",
    "\n",
    "```\n",
    "def dois():\n",
    " '''Função que retorna 2'''\n",
    " return 2\n",
    "\n",
    "class Alo:\n",
    " '''Classe ainda não implementada'''\n",
    " pass\n",
    "\n",
    "\n",
    "def f():\n",
    "    '''Funcao ainda nao implementada'''\n",
    "    pass\n",
    "\n",
    "def main():\n",
    "    # O código a seguir só é executado se este arquivo\n",
    "    # for executado no terminal.\n",
    "    # Ou seja, caso este arquivo seja importado, o\n",
    "    # código a seguir não é executado.\n",
    "    print('Executando o módulo alo.py')\n",
    "    x = dois()\n",
    "    print(f'Retorno da função dois: {x}')\n",
    "\n",
    "if __name__ == '__main__':\n",
    "    main()\n",
    "```\n",
    "\n",
    "Após fazer isto, você consegue importá-lo e trabalhar com ele, como no código a seguir."
   ]
  },
  {
   "cell_type": "code",
   "execution_count": 2,
   "metadata": {},
   "outputs": [
    {
     "name": "stdout",
     "output_type": "stream",
     "text": [
      "Help on module alo:\n",
      "\n",
      "NAME\n",
      "    alo\n",
      "\n",
      "CLASSES\n",
      "    builtins.object\n",
      "        Alo\n",
      "    \n",
      "    class Alo(builtins.object)\n",
      "     |  Classe ainda não implementada\n",
      "     |  \n",
      "     |  Data descriptors defined here:\n",
      "     |  \n",
      "     |  __dict__\n",
      "     |      dictionary for instance variables (if defined)\n",
      "     |  \n",
      "     |  __weakref__\n",
      "     |      list of weak references to the object (if defined)\n",
      "\n",
      "FUNCTIONS\n",
      "    dois()\n",
      "        Função que retorna 2\n",
      "    \n",
      "    f()\n",
      "        Funcao ainda nao implementada\n",
      "\n",
      "FILE\n",
      "    /Users/bruno/Dropbox/Teaching/POO_2021.2/github_content/docs/07-modulos/alo.py\n",
      "\n",
      "\n"
     ]
    }
   ],
   "source": [
    "import alo # importa todo o arquivo alo.py\n",
    "\n",
    "help(alo) # imprime a ajuda do módulo"
   ]
  },
  {
   "cell_type": "code",
   "execution_count": 6,
   "metadata": {},
   "outputs": [
    {
     "data": {
      "text/plain": [
       "2"
      ]
     },
     "execution_count": 6,
     "metadata": {},
     "output_type": "execute_result"
    }
   ],
   "source": [
    "# usa o módulo: \n",
    "\n",
    "o1 = alo.Alo() # cria objeto\n",
    "alo.dois() # (chama função)"
   ]
  },
  {
   "cell_type": "markdown",
   "metadata": {},
   "source": [
    "Observe que o trecho de código que pertence ao `if __name__ == '__main__':` não é executado.\n",
    "\n",
    "Isto é esperado, já que este `if` serve justamente para executar o bloco de código nele presente somente se o arquivo `alo.py` for diretamente executado em um terminal Python (e não se ele for importado)."
   ]
  },
  {
   "cell_type": "markdown",
   "metadata": {},
   "source": [
    "## Exercício de Fixação: Museu e Obras de Arte II\n",
    "\n",
    "Reimplemente o exercício \"Museu e Obras de Arte\"\n",
    "([Jupyter notebook da aula anterior](https://raw.githubusercontent.com/ect-info/POO_2022.1/master/docs/06-relacoes/06-Relacoes.ipynb), considerando que agora a relação entre a classe `Museu` e a classe `Obra` deve ser uma **composição**.\n",
    "\n",
    "Para isto, o `__init__` da classe `Museu`\n",
    "deve receber como parâmetro, além do nome do museu,\n",
    "uma lista de tuplas. Cada tupla\n",
    "contém um título e um ano de uma obra.\n",
    "\n",
    "Divida o seu programa em módulos:\n",
    "\n",
    "- A classe `Obra` deve estar no arquivo `obra.py`\n",
    "- A classe `Museu` deve estar no arquivo `museu.py`\n",
    "- O código a seguir deve estar no arquivo `teste.py`\n",
    "\n",
    "Observe no código de teste que, agora, um `Museu` inicializa as suas obras."
   ]
  },
  {
   "cell_type": "code",
   "execution_count": null,
   "metadata": {},
   "outputs": [],
   "source": [
    "from obra import Obra\n",
    "from museu import Museu\n",
    "\n",
    "def main():\n",
    "    dados_obras = [('mona lisa', 'da vinci', 1797), ('a noite estrelada', 'van gogh', 1889),\n",
    "                   ('guernica', 'picasso', 1937), ('a persistencia da memoria', 'dali', 1931)]\n",
    "    \n",
    "    # cria museu\n",
    "    m = Museu('museu magnifico', dados_obras)\n",
    "\n",
    "    # imprime obras\n",
    "    m.imprime_obras()\n",
    "\n",
    "    # remove obras do museu\n",
    "    m.remove_obra('a ultima ceia') # nao faz nada\n",
    "    m.remove_obra('guernica')\n",
    "\n",
    "    # imprime obras\n",
    "    m.imprime_obras()\n",
    "\n",
    "    # obra 'guernica' foi removida da memória"
   ]
  },
  {
   "cell_type": "markdown",
   "metadata": {},
   "source": [
    "Resultado esperado:\n",
    "\n",
    "```\n",
    "Obras do museu \"museu magnifico\":\n",
    "\tmona lisa, da vinci (1797)\n",
    "\ta noite estrelada, van gogh (1889)\n",
    "\tguernica, picasso (1937)\n",
    "\ta persistencia da memoria, dali (1931)\n",
    "Obras do museu \"museu magnifico\":\n",
    "\tmona lisa, da vinci (1797)\n",
    "\ta noite estrelada, van gogh (1889)\n",
    "\ta persistencia da memoria, dali (1931)\n",
    "```"
   ]
  }
 ],
 "metadata": {
  "kernelspec": {
   "display_name": "Python 3 (ipykernel)",
   "language": "python",
   "name": "python3"
  },
  "language_info": {
   "codemirror_mode": {
    "name": "ipython",
    "version": 3
   },
   "file_extension": ".py",
   "mimetype": "text/x-python",
   "name": "python",
   "nbconvert_exporter": "python",
   "pygments_lexer": "ipython3",
   "version": "3.10.9"
  }
 },
 "nbformat": 4,
 "nbformat_minor": 4
}
