{
 "cells": [
  {
   "cell_type": "markdown",
   "metadata": {},
   "source": [
    "# Aula 12 - Herança Múltipla\n",
    "\n",
    "Este documento apresenta como Python trabalha com herança múltipla."
   ]
  },
  {
   "cell_type": "markdown",
   "metadata": {},
   "source": [
    "## 1. Herança sem Ambiguidade\n",
    "\n",
    "O código a seguir apresenta uma classe que possui duas classes base. O código funciona como esperado, já que as classes base não possuem ambiguidade, isto é os seus métodos e atributos não possuem nomes iguais."
   ]
  },
  {
   "cell_type": "code",
   "execution_count": null,
   "metadata": {},
   "outputs": [],
   "source": [
    "class Superclasse1:\n",
    "    def __init__(self, valor):\n",
    "        self.atrib_super1 = valor\n",
    "\n",
    "    def metodo_super1(self):\n",
    "        print('Metodo super1')\n",
    "\n",
    "class Superclasse2:\n",
    "    def __init__(self, valor):\n",
    "        self.atrib_super2 = valor\n",
    "\n",
    "    def metodo_super2(self):\n",
    "        print('Metodo super2')\n",
    "\n",
    "class Subclasse(Superclasse1, Superclasse2):\n",
    "    def __init__(self, valor):\n",
    "        Superclasse1.__init__(self, 0) # atribui 0 a atrib_super1\n",
    "        Superclasse2.__init__(self, 1) # atribui 1 a atrib_super2\n",
    "        self.atrib_sub = valor\n",
    "\n",
    "    def metodo_sub(self):\n",
    "        print('Metodo sub')\n",
    "\n",
    "def main():\n",
    "    obj = Subclasse(50)\n",
    "    print(obj.atrib_super1)\n",
    "    print(obj.atrib_super2)\n",
    "    print(obj.atrib_sub)\n",
    "    obj.metodo_super1()\n",
    "    obj.metodo_super2()\n",
    "    obj.metodo_sub()\n",
    "        \n",
    "if __name__ == \"__main__\":\n",
    "    main()"
   ]
  },
  {
   "cell_type": "markdown",
   "metadata": {},
   "source": [
    "## 2. Herança com Atributos e Métodos com Mesmo Nome\n",
    "\n",
    "O código a seguir possui uma classe derivada que herda de duas classes base com métodos e atributos em comum. Observe quais dos atributos/métodos das classes base são herdados pela classe derivada. Tenha em mente que, em Python, a declaração de um atributo/método com o mesmo nome de um já existente substitui o anterior."
   ]
  },
  {
   "cell_type": "code",
   "execution_count": null,
   "metadata": {},
   "outputs": [],
   "source": [
    "class Superclasse1:\n",
    "    def __init__(self, valor):\n",
    "        print('Inicializador de super1')\n",
    "        self.atrib_super = valor\n",
    "\n",
    "    def metodo_super(self):\n",
    "        print('Metodo super de Superclasse1')\n",
    "\n",
    "class Superclasse2:\n",
    "    def __init__(self, valor):\n",
    "        print('Inicializador de super2')\n",
    "        self.atrib_super = valor\n",
    "\n",
    "    def metodo_super(self):\n",
    "        print('Metodo super de Superclasse2')\n",
    "\n",
    "class Subclasse(Superclasse2, Superclasse1):\n",
    "    def __init__(self, valor):\n",
    "        Superclasse2.__init__(self, 1) # atribui 1 a atrib_super de Super2\n",
    "        Superclasse1.__init__(self, 0) # atribui 0 a atrib_super de Super1\n",
    "\n",
    "    def metodo_sub(self):\n",
    "        print('Metodo sub')\n",
    "\n",
    "def main():\n",
    "    obj = Subclasse(50)\n",
    "    print(obj.atrib_super) # qual atrib_super e utilizado?\n",
    "    obj.metodo_super() # qual metodo_super e chamado?\n",
    "        \n",
    "if __name__ == \"__main__\":\n",
    "    main()"
   ]
  },
  {
   "cell_type": "markdown",
   "metadata": {},
   "source": [
    "Note que  as classes ```Superclasse1``` e ```Superclasse2``` possuem\n",
    "um atributo e um método com o mesmo nome:\n",
    "\n",
    "- O método herdado pela ```Subclasse``` depende da ordem indicada\n",
    "  na tupla de classes base:\n",
    "    - A linguagem Python considera a primeira superclasse da esquerda para a direita\n",
    "    - A implementação do método que for achada primeiro é utilizada\n",
    "    - Caso uma implementação do método não seja achada em nenhuma das classes base, a busca é realizada recursivamente nas classes base das classes base\n",
    "- Em relação aos atributos:\n",
    "    - Como o `__init__` de cada superclasse foi chamado no \n",
    "      `__init__` da subclasse, o atributo considerado é o último\n",
    "      encontrado (e não o primeiro)\n",
    "    - Cada chamada de `__init__` sobrescreve a declaração\n",
    "      anterior\n",
    "    - Portanto, o que vale é o último"
   ]
  },
  {
   "cell_type": "markdown",
   "metadata": {},
   "source": [
    "Toda classe em Python oferece um método de classe pelo qual é possível conhecer a ordem em que as implementações dos métodos são buscados: o método `mro` (*method resolution order*). Veja abaixo como usá-lo."
   ]
  },
  {
   "cell_type": "code",
   "execution_count": 3,
   "metadata": {},
   "outputs": [
    {
     "name": "stdout",
     "output_type": "stream",
     "text": [
      "[<class '__main__.Subclasse'>, <class '__main__.Superclasse2'>, <class '__main__.Superclasse1'>, <class 'object'>]\n"
     ]
    }
   ],
   "source": [
    "print(Subclasse.mro()) # retorna uma lista com as classes em ordem de busca"
   ]
  },
  {
   "cell_type": "markdown",
   "metadata": {},
   "source": [
    "### 2.1 Possível problema com atributos com nomes comuns\n",
    "\n",
    "O código a seguir possui duas classes base que possuem um atributo com mesmo nome `x`. Observe o que pode acontecer neste caso."
   ]
  },
  {
   "cell_type": "code",
   "execution_count": null,
   "metadata": {},
   "outputs": [],
   "source": [
    "class A:\n",
    "    def __init__(self): \n",
    "        self.x = 0\n",
    "\n",
    "    def m1(self): \n",
    "        return self.x + 1\n",
    "\n",
    "class B:\n",
    "    def __init__(self): \n",
    "        self.x = []\n",
    "\n",
    "class C(A,B):\n",
    "    def __init__(self):\n",
    "        A.__init__(self)\n",
    "        B.__init__(self)\n",
    "\n",
    "def main():\n",
    "    c = C()\n",
    "    print(c.m1()) # Funciona ? Qual é o problema?\n",
    "        \n",
    "if __name__ == '__main__':\n",
    "    main()"
   ]
  },
  {
   "cell_type": "markdown",
   "metadata": {},
   "source": [
    "## 3. O problema do Diamante \n",
    "\n",
    "Ao utilizar herança múltipla, problemas podem ocorrer com hierarquias em formato de diamante, como mostrado na figura a seguir.\n",
    "\n",
    "![Diamante](https://raw.githubusercontent.com/ect-info/POO_2022.1/master/docs/12-heranca-multipla/diamante.png)\n",
    "\n",
    "Especificamente, considere os casos listados a seguir.\n",
    "\n",
    "### 3.1 Todas as classes implementam `metodo`\n",
    "\n",
    "Qual versão de `metodo` será chamada para objetos da classe `D`?"
   ]
  },
  {
   "cell_type": "code",
   "execution_count": null,
   "metadata": {},
   "outputs": [],
   "source": [
    "class A:\n",
    "    def metodo(self):\n",
    "        print('Metodo de A')\n",
    "\n",
    "class B(A):\n",
    "    def metodo(self):\n",
    "        print('Metodo de B')\n",
    "\n",
    "class C(A):\n",
    "    def metodo(self):\n",
    "        print('Metodo de C')\n",
    "\n",
    "class D(B,C):\n",
    "    def metodo(self):\n",
    "        print('Metodo de D')\n",
    "\n",
    "def main():\n",
    "    a = A()\n",
    "    b = B()\n",
    "    c = C()\n",
    "    d = D()\n",
    "\n",
    "    a.metodo()\n",
    "    b.metodo()\n",
    "    c.metodo()\n",
    "    d.metodo()\n",
    "        \n",
    "if __name__ == \"__main__\":\n",
    "    main()"
   ]
  },
  {
   "cell_type": "markdown",
   "metadata": {},
   "source": [
    "### 3.2 `D` apenas herda `metodo` (`metodo` não é sobrescrito)\n",
    "   \n",
    "Qual versão de `metodo` será chamada para cada objeto abaixo?"
   ]
  },
  {
   "cell_type": "code",
   "execution_count": null,
   "metadata": {},
   "outputs": [],
   "source": [
    "class A:\n",
    "    def metodo(self):\n",
    "        print('Metodo de A')\n",
    "\n",
    "class B(A):\n",
    "    def metodo(self):\n",
    "        print('Metodo de B')\n",
    "\n",
    "class C(A):\n",
    "    def metodo(self):\n",
    "        print('Metodo de C')\n",
    "\n",
    "class D(B,C):\n",
    "    pass\n",
    "\n",
    "if __name__ == \"__main__\":\n",
    "    a = A()\n",
    "    b = B()\n",
    "    c = C()\n",
    "    d = D()\n",
    "\n",
    "    a.metodo()\n",
    "    b.metodo()\n",
    "    c.metodo()\n",
    "    d.metodo()"
   ]
  },
  {
   "cell_type": "markdown",
   "metadata": {},
   "source": [
    "### 3.3 Tanto `D` quanto `B` herda mas não implementa `metodo`\n",
    "\n",
    "Qual versão de `metodo` será chamada para objetos da classe `D`?"
   ]
  },
  {
   "cell_type": "code",
   "execution_count": null,
   "metadata": {},
   "outputs": [],
   "source": [
    "class A:\n",
    "    def metodo(self):\n",
    "        print('Metodo de A')\n",
    "\n",
    "class B(A):\n",
    "    pass\n",
    "\n",
    "class C(A):\n",
    "    def metodo(self):\n",
    "        print('Metodo de C')\n",
    "\n",
    "class D(B,C):\n",
    "    pass\n",
    "\n",
    "def main():\n",
    "    a = A()\n",
    "    b = B()\n",
    "    c = C()\n",
    "    d = D()\n",
    "\n",
    "    a.metodo()\n",
    "    b.metodo()\n",
    "    c.metodo()\n",
    "    d.metodo()\n",
    "    print(D.mro())\n",
    "\n",
    "if __name__ == \"__main__\":\n",
    "    main()"
   ]
  },
  {
   "cell_type": "markdown",
   "metadata": {},
   "source": [
    "Observe que, ao invés de `d.metodo()` realizar uma chamada a `metodo` da classe `A` (que é superclasse de `B`, que por sua vez não possui implementação de `metodo`), `d.metodo()` realiza uma chamada a `metodo` da classe `C`.\n",
    "Esta ordem pode ser confirmada ao ser impressa a *method resolution order* da classe `D`.\n",
    "\n",
    "A linguagem Python trabalha desta forma no que se chama de *herança múltipla cooperativa*. Assim, em hierarquias mais complexas, é garantido que a implementação de `metodo` \"mais próxima\" da classe original seja chamada, ao invés da implementação \"mais ancestral\".\n",
    "\n",
    "Para mais informações sobre herança múltipla cooperativa em Python, veja este [artigo](https://www.artima.com/weblogs/viewpost.jsp?thread=281127)."
   ]
  },
  {
   "cell_type": "markdown",
   "metadata": {},
   "source": [
    "### 3.4 Chamando métodos comuns de uma hierarquia em uma determinada ordem\n",
    "\n",
    "Observe o código a seguir e perceba como o uso de `super` pode ser útil para implementar um encadeamento de chamada de métodos em uma determinada ordem."
   ]
  },
  {
   "cell_type": "code",
   "execution_count": null,
   "metadata": {},
   "outputs": [],
   "source": [
    "class A:\n",
    "    def metodo(self):\n",
    "        print('Metodo de A')\n",
    "\n",
    "class B(A):\n",
    "    def metodo(self):\n",
    "        super().metodo() # irá chamar c.metodo(), por causa do mro da classe D (que fez a primeira chamada a metodo)\n",
    "        print('Metodo de B')\n",
    "\n",
    "class C(A):\n",
    "    def metodo(self):\n",
    "        super().metodo() # irá chamar a.metodo()\n",
    "        print('Metodo de C')\n",
    "\n",
    "class D(B,C):\n",
    "    def metodo(self):\n",
    "        super().metodo() # irá chamar b.metodo()\n",
    "        print('Metodo de D')\n",
    "\n",
    "def main():\n",
    "    d = D()\n",
    "    d.metodo() # apenas uma chamada -> encadeia chamadas a metodo de toda a hierarquia\n",
    "        \n",
    "if __name__ == \"__main__\":\n",
    "    main()"
   ]
  },
  {
   "cell_type": "markdown",
   "metadata": {},
   "source": [
    "## Exercício de Fixação - Relógio Calendário\n",
    "\n",
    "Considere duas classes com funcionalidades e interfaces bem definidas:\n",
    "- `Relogio`: armazena horas, minutos e segundos e avança um segundo quando o método adequado é chamado\n",
    "- `Calendario`: armazena o dia, mês e ano atual e avança um dia quando o método adequado é chamado\n",
    "\n",
    "A partir destas duas classes, implemente uma nova classe `RelogioCalendario` utilizando herança múltipla."
   ]
  },
  {
   "cell_type": "code",
   "execution_count": null,
   "metadata": {},
   "outputs": [],
   "source": [
    "class Relogio():\n",
    "\n",
    "    def __init__(self, horas, minutos, segundos):\n",
    "        self.set_hora(horas, minutos, segundos)\n",
    "\n",
    "    def set_hora(self, horas, minutos, segundos):\n",
    "        \"\"\"\n",
    "        Atributo horas deve ser um valor inteiro entre 0 e 23\n",
    "        Atributo minutos deve ser um valor inteiro entre 0 e 59\n",
    "        Atributo segundos deve ser um valor inteiro entre 0 e 59\n",
    "        \"\"\"        \n",
    "        pass\n",
    "\n",
    "    def __str__(self):\n",
    "        return \"{0:02d}:{1:02d}:{2:02d}\".format(self._horas,\n",
    "                                                self.__minutos,\n",
    "                                                self.__segundos)\n",
    "\n",
    "    def marca_segundo(self):\n",
    "        \"\"\"\n",
    "        Avança um segundo no relógio.\n",
    "        \"\"\"\n",
    "        pass\n",
    "\n",
    "def main():\n",
    "    r = Relogio(23,59,59)\n",
    "    print(r)\n",
    "    r.marca_segundo()\n",
    "    print(r)\n",
    "    \n",
    "if __name__ == \"__main__\":\n",
    "    main()"
   ]
  },
  {
   "cell_type": "markdown",
   "metadata": {},
   "source": [
    "Saída esperada para o código acima:\n",
    "```\n",
    "23:59:59\n",
    "00:00:00\n",
    "```"
   ]
  },
  {
   "cell_type": "code",
   "execution_count": null,
   "metadata": {},
   "outputs": [],
   "source": [
    "class Calendario():\n",
    "\n",
    "    ultimo_dia_mes = (31,28,31,30,31,30,31,31,30,31,30,31)\n",
    "\n",
    "    @staticmethod\n",
    "    def ehBissexto(ano):\n",
    "        \"\"\" \n",
    "        O metodo retorna True se o parametro ano é ano bissexto, False caso contrario\n",
    "        \"\"\"\n",
    "        # para ser ano bissexto:\n",
    "        #     é ano % 4 == 0\n",
    "        # nao é ano % 100 == 0\n",
    "        # nao é ano % 400 == 0\n",
    "        pass\n",
    "\n",
    "\n",
    "    def __init__(self, dia, mes, ano):\n",
    "        self.set_data(dia, mes, ano)\n",
    "\n",
    "    def set_data(self, dia, mes, ano):\n",
    "        \"\"\"\n",
    "        dia, mes e ano devem ser numeros inteiros\n",
    "        \"\"\"\n",
    "        pass\n",
    "\n",
    "    def __str__(self):\n",
    "        return \"{0:02d}/{1:02d}/{2:4d}\".format(self.__dias,\n",
    "                                               self.__meses,\n",
    "                                               self.__anos)\n",
    "    \n",
    "    def avanca_dia(self):\n",
    "        \"\"\"\n",
    "        Avança um dia no calendário.\n",
    "        \"\"\"\n",
    "        #verifique qual o ultimo dia do mes\n",
    "        #verifique se mes de fevereiro é bissexto\n",
    "        #se o dia é o ultimo do mes atual, dia tem valor 1\n",
    "        #se o dia é o ultimo do ano, mes tem valor 1 e ano += 1\n",
    "        #para todos os outros casos apenas dia é incrementado\n",
    "\n",
    "def main():\n",
    "    c = Calendario(31,12,2012)\n",
    "    print(c, end=\" \")\n",
    "    c.avanca_dia()\n",
    "    print(\"- Ao avancar um dia vamos para a data: \", c)\n",
    "    print(\"2012 é ano Bissexo:\")\n",
    "    c = Calendario(28,2,2012)\n",
    "    print(c, end=\" \")\n",
    "    c.avanca_dia()\n",
    "    print(\"- Ao avancar um dia vamos para a data: \", c)\n",
    "    c = Calendario(28,2,2013)\n",
    "    print(c, end=\" \")\n",
    "    c.avanca_dia()\n",
    "    print(\"- Ao avancar um dia vamos para a data: \", c)\n",
    "    print(\"1900 não é ano Bissexo. O número é divisivel por 100 mas não por 400: \")\n",
    "    c = Calendario(28,2,1900)\n",
    "    print(c, end=\" \")\n",
    "    c.avanca_dia()\n",
    "    print(\"- Ao avancar um dia vamos para a data: \", c)\n",
    "    print(\"2000 foi um é ano Bissexo. O número é divisivel por 400: \")\n",
    "    c = Calendario(28,2,2000)\n",
    "    print(c, end=\" \")\n",
    "    c.avanca_dia()\n",
    "    print(\"- Ao avancar um dia vamos para a data: \", c)\n",
    "\n",
    "        \n",
    "if __name__ == \"__main__\":\n",
    "    main()"
   ]
  },
  {
   "cell_type": "markdown",
   "metadata": {},
   "source": [
    "Saída esperada para o código acima:\n",
    "```\n",
    "31/12/2012 - Ao avancar um dia vamos para a data:  01/01/2013\n",
    "2012 é ano Bissexo:\n",
    "28/02/2012 - Ao avancar um dia vamos para a data:  29/02/2012\n",
    "28/02/2013 - Ao avancar um dia vamos para a data:  01/03/2013\n",
    "1900 não é ano Bissexo. O número é divisivel por 100 mas não por 400: \n",
    "28/02/1900 - Ao avancar um dia vamos para a data:  01/03/1900\n",
    "2000 foi um é ano Bissexo. O número é divisivel por 400: \n",
    "28/02/2000 - Ao avancar um dia vamos para a data:  29/02/2000\n",
    "\n",
    "```"
   ]
  },
  {
   "cell_type": "code",
   "execution_count": null,
   "metadata": {},
   "outputs": [],
   "source": [
    "class CalendarioRelogio():\n",
    "    pass\n",
    "\n",
    "def main():\n",
    "    cr = CalendarioRelogio(31, 12, 2013, 23, 59, 59)\n",
    "    print(\"Passou um segundo de\", cr, end=\" \")\n",
    "    cr.marca_segundo()\n",
    "    print(\"para\", cr)\n",
    "\n",
    "    cr = CalendarioRelogio(7, 2, 2013, 13, 55, 40)\n",
    "    print(\"Passou um segundo de\", cr, end=\" \")\n",
    "    cr.marca_segundo()\n",
    "    print(\"para\", cr)\n",
    "\n",
    "if __name__ == \"__main__\":\n",
    "    main()"
   ]
  },
  {
   "cell_type": "markdown",
   "metadata": {},
   "source": [
    "Saída esperada para o código acima:\n",
    "```\n",
    "Passou um segundo de 31/12/2013, 23:59:59 para 01/01/2014, 00:00:00\n",
    "Passou um segundo de 07/02/2013, 13:55:40 para 07/02/2013, 13:55:41\n",
    "```"
   ]
  }
 ],
 "metadata": {
  "kernelspec": {
   "display_name": "Python 3 (ipykernel)",
   "language": "python",
   "name": "python3"
  },
  "language_info": {
   "codemirror_mode": {
    "name": "ipython",
    "version": 3
   },
   "file_extension": ".py",
   "mimetype": "text/x-python",
   "name": "python",
   "nbconvert_exporter": "python",
   "pygments_lexer": "ipython3",
   "version": "3.9.7"
  }
 },
 "nbformat": 4,
 "nbformat_minor": 4
}
