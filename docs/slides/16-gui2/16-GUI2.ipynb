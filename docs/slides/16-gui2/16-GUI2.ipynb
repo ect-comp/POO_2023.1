{
 "cells": [
  {
   "cell_type": "markdown",
   "id": "9d8269c5",
   "metadata": {},
   "source": [
    "# 16 - Mais Widgets em TK\n",
    "\n",
    "Este documento apresenta mais widgets da biblioteca Tkinter. Alguns destes widgets serão úteis no projeto final da disciplina de POO."
   ]
  },
  {
   "cell_type": "markdown",
   "id": "47b417fb",
   "metadata": {},
   "source": [
    "## 1. Widgets Tkinter Adicionais\n",
    "\n",
    "A seguir são listados alguns widgets Tkinter que deverão ser utilizados no projeto final de POO."
   ]
  },
  {
   "cell_type": "markdown",
   "id": "de7d1e2f",
   "metadata": {},
   "source": [
    "### 1.1 Widget `Radiobutton`"
   ]
  },
  {
   "cell_type": "code",
   "execution_count": 1,
   "id": "72e3c4a8",
   "metadata": {},
   "outputs": [
    {
     "name": "stdout",
     "output_type": "stream",
     "text": [
      "1\n",
      "2\n"
     ]
    }
   ],
   "source": [
    "import tkinter as tk\n",
    "\n",
    "esc = None\n",
    "\n",
    "def imprime_opcao():\n",
    "    global esc\n",
    "    \n",
    "    print(esc.get())\n",
    "\n",
    "# Radio button (note o uso do LabelFrame ao invés de Frame)\n",
    "def main():\n",
    "\n",
    "    global esc\n",
    "    \n",
    "    tk_app = tk.Tk()\n",
    "    tk_app.geometry('300x100')\n",
    "\n",
    "    lf = tk.LabelFrame(tk_app, text='Escolha:')\n",
    "    lf.pack(expand=True, fill=tk.BOTH)\n",
    "\n",
    "    esc = tk.StringVar()\n",
    "    rb_r = tk.Radiobutton(lf, text='Opc 1', value=1, variable=esc)\n",
    "    rb_r.pack()\n",
    "    rb_g = tk.Radiobutton(lf, text='Opc 2', value=2, variable=esc)\n",
    "    rb_g.pack()\n",
    "    rb_b = tk.Radiobutton(lf, text='Opc 3', value=3, variable=esc)\n",
    "    rb_b.pack()\n",
    "\n",
    "    btn = tk.Button(lf, text='Escolhe', command=imprime_opcao)\n",
    "    btn.pack()\n",
    "\n",
    "    tk_app.mainloop()\n",
    "    \n",
    "if __name__ == '__main__':\n",
    "    main()"
   ]
  },
  {
   "cell_type": "markdown",
   "id": "d0b41f5b",
   "metadata": {},
   "source": [
    "### 1.2 Caixas de Mensagem"
   ]
  },
  {
   "cell_type": "code",
   "execution_count": 1,
   "id": "a7be5332",
   "metadata": {},
   "outputs": [],
   "source": [
    "import tkinter as tk\n",
    "from tkinter.messagebox import showerror, showwarning, showinfo\n",
    "\n",
    "def mostra_info():\n",
    "    showinfo('Título da Informação',\\\n",
    "             'Mensagem de Informação')\n",
    "\n",
    "def mostra_aviso():\n",
    "    showwarning('Título do Aviso',\\\n",
    "                'Mensagem de Aviso')\n",
    "\n",
    "def mostra_erro():\n",
    "    showerror('Título do Erro',\\\n",
    "              'Mensagem de Erro')\n",
    "\n",
    "# Caixas de mensagem\n",
    "def main():    \n",
    "    tk_app = tk.Tk()\n",
    "    tk_app.geometry('300x100')\n",
    "\n",
    "    bt1 = tk.Button(tk_app, text= 'Info', command=mostra_info)\n",
    "    bt1.pack(expand=True, fill=tk.BOTH)\n",
    "    bt2 = tk.Button(tk_app, text= 'Aviso', command=mostra_aviso)\n",
    "    bt2.pack(expand=True, fill=tk.BOTH)\n",
    "    bt3 = tk.Button(tk_app, text= 'Erro', command=mostra_erro)\n",
    "    bt3.pack(expand=True, fill=tk.BOTH)\n",
    "\n",
    "    tk_app.mainloop()\n",
    "    \n",
    "if __name__ == '__main__':\n",
    "    main()"
   ]
  },
  {
   "cell_type": "markdown",
   "id": "44c1d0db",
   "metadata": {},
   "source": [
    "### 1.3 Explorador de Arquivos"
   ]
  },
  {
   "cell_type": "code",
   "execution_count": 4,
   "id": "dca4d8b7",
   "metadata": {},
   "outputs": [],
   "source": [
    "import tkinter as tk\n",
    "from tkinter.filedialog import askopenfilename\n",
    "\n",
    "def seleciona_arquivo(var_nome_arq):\n",
    "    tipos_arq = (\n",
    "        ('Arquivos de texto', '*.txt'),\n",
    "        ('Todos os arquivos', '*.*')\n",
    "    )\n",
    "\n",
    "    nome_arq = askopenfilename(title='Abrir arquivo',\\\n",
    "                               filetypes=tipos_arq)\n",
    "    if nome_arq:\n",
    "        var_nome_arq.set('Arquivo escolhido: ' + nome_arq)\n",
    "\n",
    "def main():\n",
    "    tk_app = tk.Tk()\n",
    "    tk_app.geometry('300x100')\n",
    "\n",
    "    var_nome_arq = tk.StringVar()\n",
    "    var_nome_arq.set('Arquivo escolhido: ')\n",
    "\n",
    "    bt = tk.Button(tk_app, text= 'Abre Arquivo', command=lambda: seleciona_arquivo(var_nome_arq))\n",
    "    bt.pack()\n",
    "    lb = tk.Label(tk_app, textvariable=var_nome_arq)\n",
    "    lb.pack()\n",
    "\n",
    "    tk_app.mainloop()\n",
    "    \n",
    "if __name__ == '__main__':\n",
    "    main()"
   ]
  },
  {
   "cell_type": "markdown",
   "id": "b5cdb446",
   "metadata": {},
   "source": [
    "### 1.4 Tabela (Treeview)"
   ]
  },
  {
   "cell_type": "code",
   "execution_count": 5,
   "id": "a3abe2e0",
   "metadata": {},
   "outputs": [],
   "source": [
    "import tkinter.ttk as ttk # é preciso importar também o themed tk (ttk)\n",
    "import tkinter as tk\n",
    "\n",
    "# Tabela (Treeview) com scrollbar\n",
    "def main():\n",
    "    tk_app = tk.Tk()\n",
    "    #tk_app.geometry('200x200')\n",
    "\n",
    "    # Insere tabela (Treeview): note que é um componente ttk\n",
    "    nomes_colunas = ['col0', 'col1', 'col2', 'col3', 'col4', 'col5'] # nomes das chaves das colunas -> não é o nome que irá aparecer na tabela\n",
    "    tv = ttk.Treeview(tk_app, columns=nomes_colunas, show='headings')\n",
    "\n",
    "    # Modifica cabeçalho da tabela\n",
    "    tv.heading('col0', text='tit_col0') # 1o. parâmetro -> chave da coluna (informada acima)\n",
    "    tv.heading('col1', text='tit_col1')\n",
    "    tv.heading('col2', text='tit_col2')\n",
    "    tv.heading('col3', text='tit_col3')\n",
    "    tv.heading('col4', text='tit_col4')\n",
    "    tv.heading('col5', text='tit_col5')\n",
    "\n",
    "    # Configura cada coluna da tabela\n",
    "    tv.column('col0', width=90, minwidth=100)\n",
    "    tv.column('col1', width=90, minwidth=100)\n",
    "    tv.column('col2', width=90, minwidth=100)\n",
    "    tv.column('col3', width=90, minwidth=100)\n",
    "    tv.column('col4', width=90, minwidth=100)\n",
    "    tv.column('col5', width=90, minwidth=100)\n",
    "\n",
    "    # Configura barra de rolagem para ser usada com a tabela (vertical)\n",
    "    sb_y = ttk.Scrollbar(tk_app, orient=tk.VERTICAL, command=tv.yview) # command é o yview da tabela\n",
    "    tv.configure(yscroll=sb_y.set) #yscroll é o set da sb_y\n",
    "\n",
    "    # Configura barra de rolagem para ser usada com a tabela (horizontal)\n",
    "    sb_x = ttk.Scrollbar(tk_app, orient=tk.HORIZONTAL, command=tv.xview)\n",
    "    tv.configure(xscroll=sb_x.set)\n",
    "    # A rolagem vertical só funciona se o tk\n",
    "    # detecta que algumas colunas possuem width < minwidth\n",
    "\n",
    "    # Insere dados na tabela\n",
    "    tv.insert('', tk.END, values=['primeiro0', 'primeiro1', 'primeiro2', 'primeiro3', 'primeiro4', 'primeiro5'])\n",
    "    for i in range(20):\n",
    "        tv.insert('', tk.END, values=[f'v_{i},0', f'v_{i},1', f'v_{i},2', f'v_{i},3', f'v_{i},4', f'v_{i},5'])\n",
    "\n",
    "    tv.grid(row=0, column=0)\n",
    "    sb_y.grid(row=0, column=1, sticky='ns')\n",
    "    sb_x.grid(row=1, column=0, sticky='we')\n",
    "\n",
    "    tk_app.mainloop()\n",
    "    \n",
    "if __name__ == '__main__':\n",
    "    main()"
   ]
  },
  {
   "cell_type": "markdown",
   "id": "603fb1c6",
   "metadata": {},
   "source": [
    "###  1.5 Combobox"
   ]
  },
  {
   "cell_type": "code",
   "execution_count": 7,
   "id": "fb1360d9",
   "metadata": {},
   "outputs": [],
   "source": [
    "import tkinter as tk\n",
    "import tkinter.ttk as ttk\n",
    "import tkinter.messagebox as mb\n",
    "\n",
    "var_item_selec = None\n",
    "\n",
    "def mostra_selecao(event):\n",
    "    global var_item_selec\n",
    "    \n",
    "    s = var_item_selec.get()\n",
    "    mb.showinfo('Seleção', f'Item escolhido: {s}')\n",
    "    \n",
    "# Combobox\n",
    "def main():\n",
    "    global var_item_selec\n",
    "    \n",
    "    tk_app = tk.Tk()\n",
    "\n",
    "    # Armazena a seleção do Combobox\n",
    "    var_item_selec = tk.StringVar()\n",
    "\n",
    "    # Contém as strings a serem mostradas no Combobox\n",
    "    lista_itens = ['item0', 'item1', 'item2', 'item3', 'item4']\n",
    "\n",
    "    cb = ttk.Combobox(tk_app, textvariable=var_item_selec,\n",
    "                      state='readonly', values=lista_itens)\n",
    "    cb.pack()\n",
    "\n",
    "    # Configura evento de seleção do Combobox para chamar função\n",
    "    cb.bind('<<ComboboxSelected>>', mostra_selecao)\n",
    "\n",
    "    tk_app.mainloop()\n",
    "    \n",
    "if __name__ == '__main__':\n",
    "    main()"
   ]
  },
  {
   "cell_type": "markdown",
   "id": "e2331679",
   "metadata": {},
   "source": [
    "## Prática 3.3 - Lista de Filmes 2.0\n",
    "\n",
    "Reimplemente a aplicação \"Lista de Filmes\" da prática anterior de acordo com as seguintes modificações:\n",
    "\n",
    "- O `Listbox` usado anteriormente deve ser substituído por um `Treeview`\n",
    "- Se o usuário tentar inserir um filme com algum campo em branco, uma mensagem de erro deve aparecer com `showerror`\n",
    "- Um `Radiobutton` (ou `Combobox`) deve permitir ao usuário ordenar a lista por título, ano ou nota. Caso não consiga ordenar a lista na `Treeview`, use um `showinfo` para mostrar o tipo de ordenação selecionada sempre que o usuário utilizar o `Radiobutton`)"
   ]
  },
  {
   "cell_type": "code",
   "execution_count": null,
   "id": "8a1b31f7",
   "metadata": {},
   "outputs": [],
   "source": []
  }
 ],
 "metadata": {
  "kernelspec": {
   "display_name": "Python 3 (ipykernel)",
   "language": "python",
   "name": "python3"
  },
  "language_info": {
   "codemirror_mode": {
    "name": "ipython",
    "version": 3
   },
   "file_extension": ".py",
   "mimetype": "text/x-python",
   "name": "python",
   "nbconvert_exporter": "python",
   "pygments_lexer": "ipython3",
   "version": "3.10.9"
  }
 },
 "nbformat": 4,
 "nbformat_minor": 5
}
