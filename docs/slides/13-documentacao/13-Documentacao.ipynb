{
 "cells": [
  {
   "cell_type": "markdown",
   "metadata": {},
   "source": [
    "# Aula 13 - Documentação de Código\n",
    "\n",
    "Este documento apresenta as principais funcionalidades presentes na linguagem Python para se documentar código. Além disso, também são mostradas convenções de documentação, que facilitam o entendimento do código e ao mesmo tempo permitem que ferramentas automáticas obtenham informações de como o código documentado deve ser utilizado."
   ]
  },
  {
   "cell_type": "markdown",
   "metadata": {},
   "source": [
    "## 1. Documentação de Código em Python\n",
    "\n",
    "Documentar código é uma funcionalidade essencial de linguagens de programação.\n",
    "Em geral, são utilizados comentários, descrevendo variáveis, funções, classes, módulos, etc.\n",
    "Em Programação Orientada a Objetos, esta funcionalidade é ainda mais importante, afinal é\n",
    "a partir dela que se torna possível descrever a interface pública de uma classe.\n",
    "\n",
    "A linguagem Python oferece bem mais do que apenas utilizar comentários para documentar código.\n",
    "Observe a seguir algumas destas funcionalidades.\n",
    "\n",
    "### 1.1 Docstrings\n",
    "\n",
    "Uma docstring é uma string delimitada por `'''` que é tratada pela linguagem Python como uma string especial.\n",
    "Elas são inseridas no início de módulos (arquivos `.py`), início de classes e início de métodos.\n",
    "\n",
    "Ao utilizar o comando `help` com o objeto representando o módulo, classe ou método,\n",
    "a documentação é exibida.\n",
    "\n",
    "Observe o exemplo a seguir."
   ]
  },
  {
   "cell_type": "code",
   "execution_count": null,
   "metadata": {},
   "outputs": [],
   "source": [
    "'''\n",
    "Módulo Pessoa.\n",
    "Contém classes para se trabalhar com o\n",
    "contexto de pessoas.\n",
    "\n",
    "Autor: Bruno Silva\n",
    "'''\n",
    "\n",
    "class Pessoa:\n",
    "    '''\n",
    "    Representa uma Pessoa,\n",
    "    que tem como atributos o seu nome\n",
    "    e a sua idade.\n",
    "    '''\n",
    "    def __init__(self, nome, idade):\n",
    "        '''Constroi um objeto pessoa.'''\n",
    "        self.nome = nome\n",
    "        self.idade = idade\n",
    "\n",
    "    def __repr__(self):\n",
    "        return f'Pessoa{self.nome, self.idade}'\n",
    "\n",
    "    def compara_idades(self, p2):\n",
    "        '''Retorna verdadeiro se self for mais novo que p2.'''\n",
    "        return self.idade <= p2.idade\n",
    "    \n",
    "    def cumprimenta(self, p):\n",
    "        '''Cumprimenta um objeto p do tipo Pessoa.'''\n",
    "        print(f'Olá {p.nome}, tudo bem?')\n",
    "\n",
    "def main():\n",
    "    p = Pessoa('Joao', 25)\n",
    "    #help(p) # imprime help da classe Pessoa\n",
    "    #help(p.__init__) # imprime help do método __init__\n",
    "    print(p.cumprimenta.__doc__) # também funciona -> __doc__\n",
    "                                 # é criado automaticamente\n",
    "        \n",
    "if __name__ == '__main__':\n",
    "    main()"
   ]
  },
  {
   "cell_type": "markdown",
   "metadata": {},
   "source": [
    "### 1.2 `Pydoc`\n",
    "\n",
    "A linguagem Python possui uma ferramenta de terminal para gerar documentação\n",
    "de código chamada de `Pydoc`.\n",
    "\n",
    "O `Pydoc` funciona similarmente à função especial `help`, imprimindo as docstrings\n",
    "do código Python. Entretanto, ao invés de ser impresso em um terminal, a documentação\n",
    "com `Pydoc` é gerada automaticamente em html.\n",
    "\n",
    "Para utilizar esta ferramenta, utilizando o terminal, vá até o diretório do módulo\n",
    "para o qual você quer gerar a documentação. Em seguida, digite:\n",
    "\n",
    "```\n",
    "pydoc -w <nome do modulo>\n",
    "```\n",
    "\n",
    "Observe que se o arquivo for `pessoa.py`, `<nome do modulo>` é apenas\n",
    "`pessoa` (sem a terminação `.py`).\n",
    "\n",
    "A célula a seguir executa esta ferramenta a partir do Jupyter Notebook\n",
    "(assume que o arquivo [pessoa.py](https://raw.githubusercontent.com/ect-info/POO_2021.2/master/docs/15-documentacao/pessoa.py) está no mesmo diretório que este notebook)."
   ]
  },
  {
   "cell_type": "code",
   "execution_count": null,
   "metadata": {},
   "outputs": [],
   "source": [
    "!pydoc -w pessoa"
   ]
  },
  {
   "cell_type": "markdown",
   "metadata": {},
   "source": [
    "Após executar o comando `pydoc`, o arquivo `pessoa.html` foi gerado. Este arquivo pode ser aberto\n",
    "em um navegador web (Firefox, Chrome, etc.)."
   ]
  },
  {
   "cell_type": "markdown",
   "metadata": {},
   "source": [
    "## 2. Convenções para Docstrings\n",
    "\n",
    "As docstrings em Python são strings quaisquer. Ou seja, qualquer descrição\n",
    "fornecida (em Português/Inglês) auxilia no processo de entender como utilizar\n",
    "um determinado módulo, classe ou método.\n",
    "\n",
    "Entretanto, pode ser importante adotar uma certa **convenção** para melhor\n",
    "descrever um código de um programa. Além de facilitar a leitura da descrição\n",
    "do código, estas convenções permitem que ferramentas automáticas de geração\n",
    "de código (similar ao `Pydoc`) sejam utilizadas para gerar sites web\n",
    "com a documentação ou para serem utilizadas em IDEs (como o Visual Studio Code ou Pycharm)."
   ]
  },
  {
   "cell_type": "markdown",
   "metadata": {},
   "source": [
    "### 2.1 Convenção Numpy\n",
    "\n",
    "Uma das convenções amplamente usadas para as docstrings em Python é a convenção [Numpy](https://numpydoc.readthedocs.io/en/latest/format.html#docstring-standard).\n",
    "\n",
    "Observe a seguir como uma função deve ser documentada seguindo esta convenção."
   ]
  },
  {
   "cell_type": "code",
   "execution_count": null,
   "metadata": {},
   "outputs": [],
   "source": [
    "def funcao(x, y):\n",
    "    \"\"\"\n",
    "    Resumo em uma linha da função.\n",
    "\n",
    "    Descrição estendida da função.\n",
    "\n",
    "    Parâmetros\n",
    "    ----------\n",
    "    x : tipo do par. x\n",
    "        Descrição do par. x\n",
    "    y : tipo do par. y\n",
    "        Descrição do par. y\n",
    "\n",
    "    Retornos\n",
    "    -------\n",
    "    tipo do retorno 1\n",
    "        Descrição do retorno 1\n",
    "\n",
    "    \"\"\"\n",
    "    pass"
   ]
  },
  {
   "cell_type": "code",
   "execution_count": null,
   "metadata": {},
   "outputs": [],
   "source": [
    "class Complexo:\n",
    "    \n",
    "    def __add__(self, outro):\n",
    "        '''\n",
    "        Realiza a soma entre dois números complexos.\n",
    "        \n",
    "        Dados dois números complexos c1 = a1 + b1j e c2 = a2 + b2j,\n",
    "        a soma c1 + c2 é igual ao número complexo c3 = (a1 + a2) + (b1 + b2)j.\n",
    "        \n",
    "        Parâmetros\n",
    "        ----------\n",
    "        outro: Complexo\n",
    "               Número complexo a ser somado.\n",
    "               \n",
    "        Retornos\n",
    "        ----------\n",
    "        Complexo\n",
    "                Número complexo resultante da soma.\n",
    "        '''\n",
    "\n",
    "        # código da função"
   ]
  },
  {
   "cell_type": "markdown",
   "metadata": {},
   "source": [
    "### 2.2 Outras Convenções\n",
    "\n",
    "Além da convenção Numpy, existem outras que são bastante usadas:\n",
    "\n",
    "- Convenção [Python - PEP 257](http://www.python.org/dev/peps/pep-0257/)\n",
    "\n",
    "- Convenção [Sphinx](https://sphinx-rtd-tutorial.readthedocs.io/en/latest/docstrings.html)\n",
    "\n",
    "- Convenção [Google](https://google.github.io/styleguide/pyguide.html#s3.8-comments-and-docstrings)"
   ]
  },
  {
   "cell_type": "markdown",
   "metadata": {},
   "source": [
    "## 3. Python Type Hints Annotations\n",
    "\n",
    "Desde a versão 3.5, a linguagem Python oferece a possibilidade de serem adicionadas\n",
    "*type hints annotations* (anotações de dicas de tipos) em variáveis, atributos, parâmetros e retornos\n",
    "de funções/métodos.\n",
    "\n",
    "Esta funcionalidade é utilizada para oferecer aos programadores mais uma forma de\n",
    "documentação de código. Além disto, ela também é utilizada por ferramentas externas (como IDEs)\n",
    "para checar se as variáveis/atributos e parâmetros/retornos das funções estão sendo utilizados com\n",
    "objetos do tipo adequado.\n",
    "\n",
    "A sintaxe para utilizar estas anotações é mostrada a seguir."
   ]
  },
  {
   "cell_type": "code",
   "execution_count": null,
   "metadata": {},
   "outputs": [],
   "source": [
    "# O código abaixo é válido em Python e utiliza Type Hints Annotations\n",
    "\n",
    "idade: int # informa que a variável idade deve ter tipo int\n",
    "nome: str # informa que a variável nome deve ter tipo str\n",
    "          # observe que estas linhas NÃO declaram variáveis\n",
    "    \n",
    "nome = input('Informe o seu nome: ')\n",
    "idade = int(input('Informe a sua idade: '))"
   ]
  },
  {
   "cell_type": "markdown",
   "metadata": {},
   "source": [
    "Observe a seguir como utilizar type hints com funções."
   ]
  },
  {
   "cell_type": "code",
   "execution_count": null,
   "metadata": {},
   "outputs": [],
   "source": [
    "# Utilize \":\" para informar o tipo de cada parâmetro; utilize \"->\"\" para informar o tipo de retorno da função\n",
    "def potencia(a: int, b: int) -> float:\n",
    "    return a**b\n",
    "\n",
    "potencia(2,3)"
   ]
  },
  {
   "cell_type": "markdown",
   "metadata": {},
   "source": [
    "Observe a seguir como informar que parâmetros/retornos são listas ou dicionários.\n",
    "Veja que é necessário realizar um `import`."
   ]
  },
  {
   "cell_type": "code",
   "execution_count": null,
   "metadata": {},
   "outputs": [],
   "source": [
    "from typing import List, Dict\n",
    "\n",
    "# Primeiro parâmetro é lista de inteiros\n",
    "# Segundo parâmetro é lista de strings\n",
    "# Retorno é um dicionário cujas chaves são inteiros e os valores são strings\n",
    "def constroi_dicionario(ids: List[int], nomes: List[str]) -> Dict[int,str]:\n",
    "    d = dict()\n",
    "    for i, n in list(zip(ids, nomes)):\n",
    "        d[i] = n\n",
    "    return d\n",
    "\n",
    "numeros = [1, 2, 3, 4, 5]\n",
    "nomes = ['joao', 'cecilia', 'maria', 'bernardo', 'carla']\n",
    "\n",
    "constroi_dicionario(numeros, nomes)"
   ]
  },
  {
   "cell_type": "markdown",
   "metadata": {},
   "source": [
    "Observe a seguir como utilizar type hints com classes."
   ]
  },
  {
   "cell_type": "code",
   "execution_count": 18,
   "metadata": {},
   "outputs": [
    {
     "name": "stdout",
     "output_type": "stream",
     "text": [
      "Bom dia Maria, tudo bem?\n",
      "Olá Cecilia, tudo bem?\n",
      "Olá Francisco, tudo bem?\n",
      "Olá Antonia, tudo bem?\n"
     ]
    }
   ],
   "source": [
    "from typing import List, Dict, Optional\n",
    "\n",
    "class Pessoa:\n",
    "    \n",
    "    def __init__(self, nome: str, idade: int):\n",
    "        self.nome: str = nome\n",
    "        self.idade: int = idade\n",
    "        self.amigos: List[Pessoa] = []\n",
    "        \n",
    "    def se_apresenta(self) -> None: # observe que o self não precisa de type hint\n",
    "                                    # observe que o método tem retorno tipo None\n",
    "        print(f'Olá, meu nome é {self.nome}')\n",
    "        \n",
    "    def cumprimenta(self, p: Pessoa, h: Optional[int] = None) -> None:\n",
    "                                                  # observe como informar que um parâmetro é\n",
    "                                                  # opcional (Optional também deve ser importado)\n",
    "        s = 'Olá'\n",
    "        if h == 'd':\n",
    "            s = 'Bom dia'\n",
    "        if h == 't':\n",
    "            s = 'Boa tarde'\n",
    "        if h == 'n':\n",
    "            s = 'Boa noite'\n",
    "        print(f'{s} {p.nome}, tudo bem?')\n",
    "        \n",
    "    def cumprimenta_todos(self, pessoas: List[Pessoa]) -> None:\n",
    "        for p in pessoas:\n",
    "            self.cumprimenta(p)\n",
    "\n",
    "def main():\n",
    "    p1 = Pessoa('Joao', 25)\n",
    "    p2 = Pessoa('Maria', 26)\n",
    "    p1.cumprimenta(p2, 'd')\n",
    "\n",
    "    p3 = Pessoa('Cecilia', 30)\n",
    "    p4 = Pessoa('Francisco', 29)\n",
    "    p5 = Pessoa('Antonia', 26)\n",
    "    p1.cumprimenta_todos([p3, p4, p5])\n",
    "    \n",
    "if __name__ == '__main__':\n",
    "    main()"
   ]
  },
  {
   "cell_type": "markdown",
   "metadata": {},
   "source": [
    "Para a especificação completa desta funcionalidade, acesse este [link](https://www.python.org/dev/peps/pep-0484/)."
   ]
  },
  {
   "cell_type": "markdown",
   "metadata": {},
   "source": [
    "### 3.1 Geração Automática de Diagrama de Classes\n",
    "\n",
    "Com as type hints annotations, ferramentas automáticas conseguem\n",
    "gerar diagramas de classes a partir do código. Uma destas ferramentas é a `pyreverse`\n",
    "(programa de linha de comando/terminal).\n",
    "\n",
    "Observe o código a seguir e o diagrama de classe gerado automaticamente,\n",
    "mostrado logo em seguida."
   ]
  },
  {
   "cell_type": "code",
   "execution_count": 19,
   "metadata": {},
   "outputs": [],
   "source": [
    "from typing import List, Dict, Optional\n",
    "\n",
    "class Pessoa:\n",
    "    \n",
    "    def __init__(self, nome: str, idade: int):\n",
    "        self.nome: str = nome\n",
    "        self.idade: int = idade\n",
    "        self.amigos: List[Pessoa] = []\n",
    "        \n",
    "    def se_apresenta(self) -> None: # observe que o self não precisa de type hint\n",
    "                                    # observe que o método tem retorno tipo None\n",
    "        print(f'Olá, meu nome é {self.nome}')\n",
    "        \n",
    "    def cumprimenta(self, p: Pessoa, h: Optional[int] = None) -> None:\n",
    "                                                  # observe também como informar que um parâmetro é\n",
    "                                                  # opcional (Optional também deve ser importado)\n",
    "        s = 'Olá'\n",
    "        if h == 'd':\n",
    "            s = 'Bom dia'\n",
    "        if h == 't':\n",
    "            s = 'Boa tarde'\n",
    "        if h == 'n':\n",
    "            s = 'Boa noite'\n",
    "        print(f'{s} {p.nome}, tudo bem?')\n",
    "        \n",
    "    def cumprimenta_todos(self, pessoas: List[Pessoa]) -> None:\n",
    "        for p in pessoas:\n",
    "            self.cumprimenta(p)\n",
    "\n",
    "class Funcionario(Pessoa):\n",
    "\n",
    "    def __init__(self, nome: str, idade: int, salario: float):\n",
    "        Pessoa.__init__(self, nome, idade)\n",
    "        self.salario: float = salario\n",
    "\n",
    "class Aluno(Pessoa):\n",
    "\n",
    "    def __init__(self, nome: str, idade: int, matricula: int):\n",
    "        Pessoa.__init__(self, nome, idade)\n",
    "        self.matricula: int = matricula"
   ]
  },
  {
   "cell_type": "markdown",
   "metadata": {},
   "source": [
    "![Diagrama gerado](https://raw.githubusercontent.com/ect-info/POO_2021.2/master/docs/15-documentacao/diagrama_gerado.png)"
   ]
  },
  {
   "cell_type": "markdown",
   "metadata": {},
   "source": [
    "Para gerar automaticamente o diagrama de classe de um módulo Python,\n",
    "em um terminal, no diretório onde se encontra o módulo desejado, execute\n",
    "```\n",
    "pyreverse -o png <nome do modulo>\n",
    "```\n",
    "(novamente o módulo deve ser informado sem a extensão `.py`).\n",
    "\n",
    "Note também que é necessário instalar a ferramenta de sistema\n",
    "`graphviz`$^*$  para que o programa seja executado.\n",
    "\n",
    "$*$: `sudo apt-get install graphviz` para instalar o `graphviz` no Ubuntu Linux"
   ]
  },
  {
   "cell_type": "markdown",
   "metadata": {},
   "source": [
    "Algumas observações sobre a geração automática de diagramas de classes com `pyreverse`:\n",
    "\n",
    "- Não adiciona notação específica para método de classe e método abstrato/classe abstrata\n",
    "- Não adiciona métodos mágicos aos diagramas\n",
    "- Possivelmente existem outras ferramentas para geração automática de diagramas de classe :)"
   ]
  },
  {
   "cell_type": "markdown",
   "metadata": {},
   "source": [
    "## Exercício de Fixação\n",
    "\n",
    "Considere uma classe para representar um número complexo\n",
    "$c = a + bj$,\n",
    "que é formado da sua parte real $a$ e parte imaginária $b$.\n",
    "\n",
    "Implemente os operadores de:\n",
    "- Soma (`__add__`):\n",
    "$$c1 = a1 + b1j\\\\\n",
    "  c2 = a2 + b2j\\\\\n",
    "  c3 = (a1 + a2) + (b1 + b2)j\n",
    "$$\n",
    "- Subtração (`__sub__`): \n",
    "$$c1 = a1 + b1j\\\\\n",
    "  c2 = a2 + b2j\\\\\n",
    "  c3 = (a1 - a2) + (b1 - b2)j\n",
    "$$\n",
    "- Multiplicação (`__mul__`):\n",
    "$$c1 = a1 + b1j\\\\\n",
    "  c2 = a2 + b2j\\\\\n",
    "  c3 = (a1a2 - b1b2) + (a1b2 + a2b1)j\n",
    "$$\n",
    "- Divisão (`__truediv__`)\n",
    "$$c1 = a1 + b1j\\\\\n",
    "  c2 = a2 + b2j\\\\\n",
    "  c3 = \\frac{a1a2 + b1b2}{a2^2 + b2^2} + \\frac{a2b1 - a1b2}{a2^2 + b2^2}j\n",
    "$$\n",
    "- Igualdade (`__eq__`): verdadeiro quando as partes reais e imaginárias de dois números são iguais\n",
    "- Desigualdade (`__neq__`): verdadeiro se as partes reais ou imaginárias de dois números são diferentes\n",
    "\n",
    "Implemente também os métodos:\n",
    "- Módulo $\\rightarrow$ retorna o módulo de um número complexo:\n",
    "$$c = a + bj\\\\\n",
    "  m = \\sqrt{a^2 + b^2}\n",
    "$$\n",
    "- Conjugado $\\rightarrow$ retorna o conjugado de um número complexo:\n",
    "$$c = a + bj\\\\\n",
    "  \\bar{c} = a - bj\n",
    "$$\n",
    "\n",
    "Em seguida:\n",
    "- Teste o seu código.\n",
    "- Documente todos os métodos com docstrings e gere o .html com `Pydoc`\n",
    "- Gere o diagrama de classe com `pyreverse`"
   ]
  },
  {
   "cell_type": "code",
   "execution_count": null,
   "metadata": {},
   "outputs": [],
   "source": []
  }
 ],
 "metadata": {
  "kernelspec": {
   "display_name": "Python 3 (ipykernel)",
   "language": "python",
   "name": "python3"
  },
  "language_info": {
   "codemirror_mode": {
    "name": "ipython",
    "version": 3
   },
   "file_extension": ".py",
   "mimetype": "text/x-python",
   "name": "python",
   "nbconvert_exporter": "python",
   "pygments_lexer": "ipython3",
   "version": "3.9.7"
  }
 },
 "nbformat": 4,
 "nbformat_minor": 4
}
